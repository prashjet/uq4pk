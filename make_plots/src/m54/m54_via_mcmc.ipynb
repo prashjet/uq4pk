{
 "cells": [
  {
   "cell_type": "markdown",
   "metadata": {
    "collapsed": true,
    "pycharm": {
     "name": "#%% md\n"
    }
   },
   "source": [
    "M54 via MCMC\n",
    "------------\n",
    "\n",
    "Okay, let's check how SVD-MCMC performs on M54-data.\n",
    "\n",
    "First, we load the precomputed samples.\n"
   ]
  },
  {
   "cell_type": "code",
   "execution_count": 9,
   "outputs": [
    {
     "data": {
      "text/plain": "(1000, 636)"
     },
     "execution_count": 9,
     "metadata": {},
     "output_type": "execute_result"
    }
   ],
   "source": [
    "import numpy as np\n",
    "\n",
    "samples = np.load(\"out/m54_samples_q15.npy\")\n",
    "samples.shape"
   ],
   "metadata": {
    "collapsed": false,
    "pycharm": {
     "name": "#%%\n"
    }
   }
  },
  {
   "cell_type": "markdown",
   "source": [
    "So, 1000 samples. Should be enough for the beginning.\n",
    "\n",
    "Let's look at some samples:\n"
   ],
   "metadata": {
    "collapsed": false
   }
  },
  {
   "cell_type": "code",
   "execution_count": 10,
   "outputs": [
    {
     "data": {
      "text/plain": "<Figure size 432x288 with 1 Axes>",
      "image/png": "[encoded data removed]"
     },
     "metadata": {
      "needs_background": "light"
     },
     "output_type": "display_data"
    },
    {
     "data": {
      "text/plain": "<Figure size 432x288 with 1 Axes>",
      "image/png": "[encoded data removed]"
     },
     "metadata": {
      "needs_background": "light"
     },
     "output_type": "display_data"
    },
    {
     "data": {
      "text/plain": "<Figure size 432x288 with 1 Axes>",
      "image/png": "[encoded data removed]"
     },
     "metadata": {
      "needs_background": "light"
     },
     "output_type": "display_data"
    },
    {
     "data": {
      "text/plain": "<Figure size 432x288 with 1 Axes>",
      "image/png": "[encoded data removed]"
     },
     "metadata": {
      "needs_background": "light"
     },
     "output_type": "display_data"
    }
   ],
   "source": [
    "from matplotlib import pyplot as plt\n",
    "%matplotlib inline\n",
    "\n",
    "N = samples.shape[0]\n",
    "random_indices = np.random.randint(low=0, high=N, size=4)\n",
    "random_samples = samples[random_indices]\n",
    "\n",
    "for sample in random_samples:\n",
    "    f = sample.reshape(12, 53)\n",
    "\n",
    "    plt.imshow(f, cmap=\"gnuplot\")\n",
    "    plt.show()\n"
   ],
   "metadata": {
    "collapsed": false,
    "pycharm": {
     "name": "#%%\n"
    }
   }
  },
  {
   "cell_type": "markdown",
   "source": [
    "Let's also look at the posterior geometric median:"
   ],
   "metadata": {
    "collapsed": false
   }
  },
  {
   "cell_type": "code",
   "execution_count": 11,
   "outputs": [
    {
     "data": {
      "text/plain": "<Figure size 432x288 with 1 Axes>",
      "image/png": "[encoded data removed]"
     },
     "metadata": {
      "needs_background": "light"
     },
     "output_type": "display_data"
    }
   ],
   "source": [
    "from src.comparison.geometric_median import geometric_median\n",
    "\n",
    "posterior_median = geometric_median(X=samples).reshape(12, 53)\n",
    "plt.imshow(posterior_median, cmap=\"gnuplot\")\n",
    "plt.show()"
   ],
   "metadata": {
    "collapsed": false,
    "pycharm": {
     "name": "#%%\n"
    }
   }
  },
  {
   "cell_type": "markdown",
   "source": [
    "Look's more or less the same, except maybe a little bit smoother.\n",
    "\n",
    "Now, it's time for some uncertainty quantification. We start with computing the\n",
    "stack of FCIs."
   ],
   "metadata": {
    "collapsed": false
   }
  },
  {
   "cell_type": "code",
   "execution_count": 12,
   "outputs": [
    {
     "name": "stdout",
     "output_type": "stream",
     "text": [
      "\n",
      "Spectres: new_wavs contains values outside the range in spec_wavs, new_fluxes and new_errs will be filled with the value set in the 'fill' keyword argument. \n",
      "\n",
      "Fit using PPXF...\n",
      " Best Fit:       Vel     sigma        h3        h4\n",
      " comp.  0:       146         3    -0.088     0.187\n",
      "chi2/DOF: 0.9353; degree = -1; mdegree = 21\n",
      "method = capfit; Jac calls: 9; Func calls: 241; Status: 2\n",
      "linear_method = lsq_box; Nonzero Templates (>0.1%):  22 / 636\n",
      "Rescale data...\n",
      "SNR = 92.12754404263998\n",
      "Perform MAP estimation...\n",
      "Distribution functions should have shape (12, 53)\n"
     ]
    },
    {
     "name": "stderr",
     "output_type": "stream",
     "text": [
      "\n",
      "\n",
      "Starting the constrained Gauss-Newton method. Cost at starting value: 125.74564507691528\n",
      "+-----------+-------------------------+-------------------------+-------------------------+-------------------------+-------------------------+\n",
      "| Iteration | Cost                    | Constraint violation    | Stepsize (||p||)        | Steplength (h)          | Computation time [s]    |\n",
      "+-----------+-------------------------+-------------------------+-------------------------+-------------------------+-------------------------+\n",
      "+-----------+-------------------------+-------------------------+-------------------------+-------------------------+-------------------------+\n",
      "|     1     |    0.5498549656733599   |  3.798393891085716e-15  |   0.26639213918977933   |           1.0           |    1.0224003791809082   |\n",
      "+-----------+-------------------------+-------------------------+-------------------------+-------------------------+-------------------------+\n",
      "|     2     |    0.5498549656733593   |  3.9510170810795465e-15 |  3.4752496840736386e-12 |           1.0           |    1.0426506996154785   |\n",
      "+-----------+-------------------------+-------------------------+-------------------------+-------------------------+-------------------------+\n",
      "The iteration converged successfully after 2 steps.\n",
      "Minimum of cost function: 0.5498549656733593\n",
      "\n",
      "\n",
      "Starting the constrained Gauss-Newton method. Cost at starting value: 0.5498549656733615\n",
      "+-----------+-------------------------+-------------------------+-------------------------+-------------------------+-------------------------+\n",
      "| Iteration | Cost                    | Constraint violation    | Stepsize (||p||)        | Steplength (h)          | Computation time [s]    |\n",
      "+-----------+-------------------------+-------------------------+-------------------------+-------------------------+-------------------------+\n",
      "+-----------+-------------------------+-------------------------+-------------------------+-------------------------+-------------------------+\n",
      "|     1     |    0.5498549656733612   |  8.881939867009023e-16  |  0.0004849213321111349  |    7.62939453125e-06    |    1.1689343452453613   |\n",
      "+-----------+-------------------------+-------------------------+-------------------------+-------------------------+-------------------------+\n",
      "The iteration converged successfully after 1 steps.\n",
      "Minimum of cost function: 0.5498549656733612\n"
     ]
    },
    {
     "name": "stdout",
     "output_type": "stream",
     "text": [
      "Compute FCI for sigma=[0.5 1. ].\n",
      "Compute FCI for sigma=[1. 2.].\n",
      "Compute FCI for sigma=[1.5 3. ].\n",
      "Compute FCI for sigma=[2. 4.].\n",
      "Compute FCI for sigma=[2.5 5. ].\n",
      "Compute FCI for sigma=[3. 6.].\n",
      "Compute FCI for sigma=[3.5 7. ].\n",
      "Compute FCI for sigma=[4. 8.].\n",
      "Compute FCI for sigma=[4.5 9. ].\n",
      "Compute FCI for sigma=[ 5. 10.].\n",
      "Compute FCI for sigma=[ 5.5 11. ].\n",
      "Compute FCI for sigma=[ 6. 12.].\n",
      "Compute FCI for sigma=[ 6.5 13. ].\n",
      "Compute FCI for sigma=[ 7. 14.].\n",
      "Compute FCI for sigma=[ 7.5 15. ].\n",
      "Compute FCI for sigma=[ 8. 16.].\n",
      "Compute FCI for sigma=[ 8.5 17. ].\n",
      "Compute FCI for sigma=[ 9. 18.].\n",
      "Compute FCI for sigma=[ 9.5 19. ].\n"
     ]
    }
   ],
   "source": [
    "from src.m54.m54_fit_model import m54_fit_model\n",
    "\n",
    "sigma_list = [np.array([0.5 * s, s]) for s in range(1, 20, 1)]\n",
    "fitted_model = m54_fit_model()\n",
    "lower_stack, upper_stack = fitted_model.compute_fci_stack_from_samples(sigma_list=sigma_list,\n",
    "                                                                       samples=samples)\n"
   ],
   "metadata": {
    "collapsed": false,
    "pycharm": {
     "name": "#%%\n"
    }
   }
  },
  {
   "cell_type": "markdown",
   "source": [
    "Using this stack, we can now determine which blobs are 99%-significant:"
   ],
   "metadata": {
    "collapsed": false
   }
  },
  {
   "cell_type": "code",
   "source": [
    "from uq4pk_fit.blob_detection.significant_blobs.detect_significant_blobs import detect_significant_blobs\n",
    "\n",
    "alpha = 0.01\n",
    "# Have to rescale, since everything is so large.\n",
    "vmax = upper_stack.max()\n",
    "lower_stack = lower_stack / vmax\n",
    "upper_stack = upper_stack / vmax\n",
    "posterior_median = posterior_median / vmax\n",
    "significant_blobs = detect_significant_blobs(reference=posterior_median,\n",
    "                                             sigma_list=sigma_list,\n",
    "                                             lower_stack=lower_stack,\n",
    "                                             upper_stack=upper_stack,\n",
    "                                             rthresh1=0.01,\n",
    "                                             rthresh2=0.01,\n",
    "                                             overlap1=0.5,\n",
    "                                             overlap2=0.2)\n",
    "\n"
   ],
   "metadata": {
    "collapsed": false,
    "pycharm": {
     "name": "#%%\n"
    }
   },
   "execution_count": 15,
   "outputs": [
    {
     "name": "stdout",
     "output_type": "stream",
     "text": [
      "I am here.\n",
      "Computing blanket stack.\n",
      "Evaluating Laplacian of blanket stack.\n"
     ]
    }
   ]
  },
  {
   "cell_type": "markdown",
   "source": [
    "Let's visualize the results."
   ],
   "metadata": {
    "collapsed": false
   }
  },
  {
   "cell_type": "code",
   "execution_count": 16,
   "outputs": [
    {
     "data": {
      "text/plain": "<Figure size 432x180 with 2 Axes>",
      "image/png": "[encoded data removed]"
     },
     "metadata": {
      "needs_background": "light"
     },
     "output_type": "display_data"
    }
   ],
   "source": [
    "from uq4pk_fit.visualization import plot_significant_blobs\n",
    "%matplotlib inline\n",
    "\n",
    "plot_significant_blobs(image=posterior_median, blobs=significant_blobs, show=True)\n",
    "\n"
   ],
   "metadata": {
    "collapsed": false,
    "pycharm": {
     "name": "#%%\n"
    }
   }
  },
  {
   "cell_type": "markdown",
   "source": [
    "Very confident, aren't we? Especially for the right-most clump, I would expect a little bit more\n",
    "uncertainty.\n"
   ],
   "metadata": {
    "collapsed": false
   }
  }
 ],
 "metadata": {
  "kernelspec": {
   "display_name": "Python 3",
   "language": "python",
   "name": "python3"
  },
  "language_info": {
   "codemirror_mode": {
    "name": "ipython",
    "version": 2
   },
   "file_extension": ".py",
   "mimetype": "text/x-python",
   "name": "python",
   "nbconvert_exporter": "python",
   "pygments_lexer": "ipython2",
   "version": "2.7.6"
  }
 },
 "nbformat": 4,
 "nbformat_minor": 0
}