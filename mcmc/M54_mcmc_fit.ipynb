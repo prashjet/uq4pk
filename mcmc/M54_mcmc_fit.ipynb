{
 "cells": [
  {
   "cell_type": "code",
   "execution_count": 1,
   "metadata": {},
   "outputs": [],
   "source": [
    "import sys\n",
    "sys.path.append('../')"
   ]
  },
  {
   "cell_type": "code",
   "execution_count": 2,
   "metadata": {},
   "outputs": [],
   "source": [
    "from numpyro import diagnostics\n",
    "import numpy as np\n",
    "import matplotlib.pyplot as plt\n",
    "import uq4pk_src\n",
    "from jax import random\n",
    "rng_key = random.PRNGKey(32743)"
   ]
  },
  {
   "cell_type": "markdown",
   "metadata": {},
   "source": [
    "# Fit M54 with SVD-MCMC \n",
    "\n",
    "First, we set up the data:"
   ]
  },
  {
   "cell_type": "code",
   "execution_count": 3,
   "metadata": {
    "pycharm": {
     "name": "#%%\n"
    },
    "scrolled": true
   },
   "outputs": [
    {
     "name": "stdout",
     "output_type": "stream",
     "text": [
      "\n",
      "Spectres: new_wavs contains values outside the range in spec_wavs, new_fluxes and new_errs will be filled with the value set in the 'fill' keyword argument. \n",
      "\n"
     ]
    }
   ],
   "source": [
    "m54_data = uq4pk_src.data.M54()\n",
    "m54_data.logarithmically_resample(dv=50.)\n",
    "\n",
    "ssps = uq4pk_src.model_grids.MilesSSP(\n",
    "    miles_mod_directory='EMILES_BASTI_BASE_BI_FITS',\n",
    "    imf_string='Ebi1.30',\n",
    "    lmd_min=None,\n",
    "    lmd_max=None,\n",
    "    )\n",
    "ssps.resample_spectra(m54_data.lmd)\n",
    "# normalise the SSP templates to be light-weighted rather than mass-weighted,\n",
    "ssps.Xw /= np.sum(ssps.Xw, 0)\n",
    "ssps.dv = m54_data.dv\n",
    "ssps.speed_of_light = m54_data.speed_of_light"
   ]
  },
  {
   "cell_type": "markdown",
   "metadata": {},
   "source": [
    "Fit the data using ``ppxf`` to get the multiplicative polynomial correction,"
   ]
  },
  {
   "cell_type": "code",
   "execution_count": 4,
   "metadata": {
    "pycharm": {
     "name": "#%%\n"
    }
   },
   "outputs": [
    {
     "name": "stdout",
     "output_type": "stream",
     "text": [
      " Best Fit:       Vel     sigma        h3        h4\n",
      " comp.  0:       146         3    -0.088     0.187\n",
      "chi2/DOF: 0.9353; degree = -1; mdegree = 21\n",
      "method = capfit; Jac calls: 9; Func calls: 241; Status: 2\n",
      "linear_method = lsq_box; Nonzero Templates (>0.1%):  22 / 636\n"
     ]
    },
    {
     "data": {
      "image/png": "[encoded data removed]",
      "text/plain": [
       "<Figure size 432x288 with 1 Axes>"
      ]
     },
     "metadata": {
      "needs_background": "light"
     },
     "output_type": "display_data"
    }
   ],
   "source": [
    "%matplotlib inline\n",
    "\n",
    "def orient_image(f):\n",
    "    \"\"\"\n",
    "    Transform the distribution function that goes into observation operator into an image\n",
    "    that has the correct orientation for visualisation.\n",
    "    \"\"\"\n",
    "    image = f\n",
    "    # Have to flip.\n",
    "    image = np.flipud(image)\n",
    "    return image\n",
    "\n",
    "from ppxf import ppxf\n",
    "\n",
    "npix_buffer_mask = 20\n",
    "m54_data.mask[:npix_buffer_mask] = False\n",
    "m54_data.mask[-npix_buffer_mask:] = False\n",
    "\n",
    "templates = ssps.Xw\n",
    "galaxy = m54_data.y\n",
    "noise = m54_data.noise_level\n",
    "velscale = ssps.dv\n",
    "start = [0., 30., 0., 0.]\n",
    "bounds = [[-500,500], [3,300.], [-0.3,0.3], [-0.3,0.3]]\n",
    "moments = 4\n",
    "mask = m54_data.mask\n",
    "\n",
    "# final pixel is NAN, breaks PPXF even though this is masked, so remove it here manually\n",
    "templates = templates[:-1,:]\n",
    "galaxy = galaxy[:-1]\n",
    "noise = noise[:-1]\n",
    "mask = mask[:-1]\n",
    "\n",
    "ppxf_fit = ppxf.ppxf(\n",
    "    templates,\n",
    "    galaxy,\n",
    "    noise,\n",
    "    velscale,\n",
    "    start=start,\n",
    "    degree=-1,\n",
    "    mdegree=21,\n",
    "    moments=moments,\n",
    "    bounds=bounds,\n",
    "    regul=1e-10,\n",
    "    mask=mask\n",
    ")\n",
    "\n",
    "f_ppxf = np.reshape(ppxf_fit.weights, ssps.par_dims)\n",
    "im_ppxf = orient_image(f_ppxf)\n",
    "plt.imshow(im_ppxf)\n",
    "plt.show()"
   ]
  },
  {
   "cell_type": "markdown",
   "metadata": {},
   "source": [
    "Next, correct the templates using the fitted polynomial."
   ]
  },
  {
   "cell_type": "code",
   "execution_count": 5,
   "metadata": {
    "pycharm": {
     "name": "#%%\n"
    }
   },
   "outputs": [],
   "source": [
    "continuum_distorition = ppxf_fit.mpoly\n",
    "# add an extra element to the end of array to account for one that we chopped off earlier\n",
    "continuum_distorition = np.concatenate([continuum_distorition, [continuum_distorition[-1]]])\n",
    "\n",
    "import copy\n",
    "ssps_corrected = copy.deepcopy(ssps)\n",
    "ssps_corrected.Xw = (ssps_corrected.Xw.T * continuum_distorition).T"
   ]
  },
  {
   "cell_type": "markdown",
   "metadata": {},
   "source": [
    "We set $\\theta_v$ equal to the PPXF fit. We have to invert the sign of $h_3$."
   ]
  },
  {
   "cell_type": "code",
   "execution_count": 6,
   "metadata": {
    "pycharm": {
     "name": "#%%\n"
    }
   },
   "outputs": [],
   "source": [
    "theta_v = np.array([146, 3, 1., 0., 0., 0.088, 0.187])"
   ]
  },
  {
   "cell_type": "markdown",
   "metadata": {},
   "source": [
    "The final element of M54 data and the noise level is `nan` and this screws things up. Simplest fix is to replace it with a non nan value. This is masked anyway - so won't make a difference to the results,"
   ]
  },
  {
   "cell_type": "code",
   "execution_count": 7,
   "metadata": {},
   "outputs": [],
   "source": [
    "y = 1.*m54_data.y\n",
    "y[-1] = y[-2]\n",
    "sigma_y = 1.*m54_data.noise_level\n",
    "sigma_y[-1] = sigma_y[-2]"
   ]
  },
  {
   "cell_type": "markdown",
   "metadata": {},
   "source": [
    "## fit the spectrum"
   ]
  },
  {
   "cell_type": "code",
   "execution_count": 8,
   "metadata": {
    "scrolled": true
   },
   "outputs": [
    {
     "name": "stdout",
     "output_type": "stream",
     "text": [
      "Distribution functions should have shape (12, 53)\n"
     ]
    }
   ],
   "source": [
    "svd_mcmc = uq4pk_src.svd_mcmc.SVD_MCMC(\n",
    "    ssps=ssps_corrected,\n",
    "    Theta_v_true=theta_v,\n",
    "    y=y,\n",
    "    sigma_y=sigma_y,\n",
    "    dv=m54_data.dv,\n",
    "    mask=m54_data.mask,\n",
    "    do_log_resample=False)"
   ]
  },
  {
   "cell_type": "code",
   "execution_count": 9,
   "metadata": {},
   "outputs": [],
   "source": [
    "svd_mcmc.set_q(15)"
   ]
  },
  {
   "cell_type": "code",
   "execution_count": 10,
   "metadata": {},
   "outputs": [],
   "source": [
    "eta_alpha_model = svd_mcmc.get_eta_alpha_model(sigma_alpha=0.1, sigma_eta=0.1)\n",
    "eta_alpha_sampler = svd_mcmc.get_mcmc_sampler(eta_alpha_model, num_warmup=500, num_samples=500)"
   ]
  },
  {
   "cell_type": "code",
   "execution_count": 11,
   "metadata": {},
   "outputs": [
    {
     "name": "stderr",
     "output_type": "stream",
     "text": [
      "sample: 100%|███████████████████████| 1000/1000 [00:08<00:00, 123.24it/s, 255 steps of size 1.07e-02. acc. prob=0.94]\n"
     ]
    }
   ],
   "source": [
    "eta_alpha_sampler.run(rng_key)"
   ]
  },
  {
   "cell_type": "code",
   "execution_count": 12,
   "metadata": {},
   "outputs": [
    {
     "name": "stdout",
     "output_type": "stream",
     "text": [
      "\n",
      "                mean       std    median      5.0%     95.0%     n_eff     r_hat\n",
      "     alpha      1.00      0.00      1.00      1.00      1.00    490.74      1.00\n",
      "    eta[0]     -0.01      0.00     -0.01     -0.01     -0.01    418.26      1.00\n",
      "    eta[1]     -0.04      0.00     -0.04     -0.04     -0.04    455.39      1.00\n",
      "    eta[2]      0.05      0.00      0.05      0.05      0.05    505.03      1.00\n",
      "    eta[3]     -0.05      0.00     -0.05     -0.05     -0.04    331.00      1.00\n",
      "    eta[4]      0.00      0.00      0.00      0.00      0.01    495.44      1.00\n",
      "    eta[5]      0.03      0.00      0.03      0.03      0.03    395.95      1.00\n",
      "    eta[6]     -0.05      0.01     -0.05     -0.06     -0.04    145.18      1.02\n",
      "    eta[7]     -0.03      0.01     -0.03     -0.04     -0.02    185.84      1.01\n",
      "    eta[8]      0.01      0.01      0.01     -0.00      0.02    173.32      1.01\n",
      "    eta[9]     -0.06      0.01     -0.06     -0.07     -0.05    203.62      1.00\n",
      "   eta[10]     -0.01      0.02     -0.01     -0.04      0.02    160.97      1.02\n",
      "   eta[11]      0.12      0.01      0.12      0.10      0.13     96.16      1.04\n",
      "   eta[12]      0.05      0.01      0.05      0.04      0.07    183.61      1.00\n",
      "   eta[13]      0.01      0.01      0.01      0.00      0.03    314.67      1.00\n",
      "   eta[14]     -0.10      0.01     -0.10     -0.12     -0.08    407.18      1.00\n",
      "\n",
      "Number of divergences: 0\n"
     ]
    }
   ],
   "source": [
    "eta_alpha_sampler.print_summary()"
   ]
  },
  {
   "cell_type": "markdown",
   "metadata": {},
   "source": [
    "Posterior predictive from eta and alpha,"
   ]
  },
  {
   "cell_type": "code",
   "execution_count": 13,
   "metadata": {},
   "outputs": [
    {
     "data": {
      "image/png": "[encoded data removed]",
      "text/plain": [
       "<Figure size 432x288 with 2 Axes>"
      ]
     },
     "metadata": {
      "needs_background": "light"
     },
     "output_type": "display_data"
    }
   ],
   "source": [
    "eta_alpha_samples = eta_alpha_sampler.get_samples()\n",
    "y_smp = svd_mcmc.get_pp_from_eta_alpha(eta_alpha_samples)\n",
    "_ = svd_mcmc.plot_posterior_predictve(y_smp)"
   ]
  },
  {
   "cell_type": "markdown",
   "metadata": {},
   "source": [
    "## deproject\n",
    "\n",
    "Get beta samples. Get the regulariser:"
   ]
  },
  {
   "cell_type": "code",
   "execution_count": 14,
   "metadata": {},
   "outputs": [
    {
     "name": "stderr",
     "output_type": "stream",
     "text": [
      "/Users/pjethwa/miniconda3/envs/dcdirect/lib/python3.9/site-packages/ray/autoscaler/_private/cli_logger.py:57: FutureWarning: Not all Ray CLI dependencies were found. In Ray 1.4+, the Ray CLI, autoscaler, and dashboard will only be usable via `pip install 'ray[default]'`. Please update your install command.\n",
      "  warnings.warn(\n"
     ]
    },
    {
     "name": "stdout",
     "output_type": "stream",
     "text": [
      "Distribution functions should have shape (12, 53)\n"
     ]
    }
   ],
   "source": [
    "mask = m54_data.mask\n",
    "y = m54_data.y[mask]\n",
    "y_sd = m54_data.noise_level[mask]\n",
    "\n",
    "ppxf_scale = np.linalg.norm(f_ppxf)\n",
    "s = ppxf_scale\n",
    "y_scaled = y / s\n",
    "y_sd_scaled = y_sd / s\n",
    "from uq4pk_fit.inference import ForwardOperator, StatModel\n",
    "from uq4pk_fit.special_operators import OrnsteinUhlenbeck, DiscreteGradient, DiscreteLaplacian\n",
    "\n",
    "\n",
    "forward_operator = ForwardOperator(hermite_order=4, mask=mask, ssps=ssps_corrected, dv=ssps_corrected.dv,\n",
    "                                   do_log_resample=False)\n",
    "# Fit the model\n",
    "model = StatModel(y=y_scaled, y_sd=y_sd_scaled, forward_operator=forward_operator)\n",
    "model.fix_theta_v(indices=np.arange(model.dim_theta), values=theta_v)\n",
    "model.beta1 = 1.\n",
    "model.P1 = OrnsteinUhlenbeck(m=model.m_f, n=model.n_f, h=np.array([2., 1.]))"
   ]
  },
  {
   "cell_type": "code",
   "execution_count": 15,
   "metadata": {},
   "outputs": [],
   "source": [
    "beta_tilde_prior_cov = model.P1.cov/model.beta1"
   ]
  },
  {
   "cell_type": "code",
   "execution_count": 16,
   "metadata": {},
   "outputs": [],
   "source": [
    "beta_tilde_model = svd_mcmc.get_beta_tilde_model(\n",
    "    eta_alpha_samples=eta_alpha_samples,\n",
    "    Sigma_beta_tilde=beta_tilde_prior_cov)\n",
    "beta_tilde_sampler = svd_mcmc.get_mcmc_sampler(beta_tilde_model, num_warmup=500, num_samples=1000)"
   ]
  },
  {
   "cell_type": "code",
   "execution_count": 17,
   "metadata": {
    "scrolled": true
   },
   "outputs": [
    {
     "name": "stderr",
     "output_type": "stream",
     "text": [
      "sample: 100%|███████████████████████| 1500/1500 [06:47<00:00,  3.68it/s, 1023 steps of size 2.02e-03. acc. prob=0.91]\n"
     ]
    }
   ],
   "source": [
    "beta_tilde_sampler.run(rng_key)"
   ]
  },
  {
   "cell_type": "code",
   "execution_count": 18,
   "metadata": {},
   "outputs": [
    {
     "name": "stdout",
     "output_type": "stream",
     "text": [
      "\n",
      "                     mean       std    median      5.0%     95.0%     n_eff     r_hat\n",
      "  beta_tilde[0]      0.00      0.00      0.00      0.00      0.00    743.36      1.00\n",
      "  beta_tilde[1]      0.00      0.00      0.00      0.00      0.00    620.51      1.00\n",
      "  beta_tilde[2]      0.00      0.00      0.00      0.00      0.00    418.91      1.00\n",
      "  beta_tilde[3]      0.00      0.00      0.00      0.00      0.00    585.60      1.00\n",
      "  beta_tilde[4]      0.00      0.00      0.00      0.00      0.00    635.69      1.00\n",
      "  beta_tilde[5]      0.00      0.00      0.00      0.00      0.00    692.84      1.00\n",
      "  beta_tilde[6]      0.00      0.00      0.00      0.00      0.00    747.45      1.00\n",
      "  beta_tilde[7]      0.00      0.00      0.00      0.00      0.00    898.14      1.00\n",
      "  beta_tilde[8]      0.00      0.00      0.00      0.00      0.00    292.84      1.00\n",
      "  beta_tilde[9]      0.00      0.00      0.00      0.00      0.00    501.69      1.00\n",
      " beta_tilde[10]      0.00      0.00      0.00      0.00      0.00    822.88      1.00\n",
      " beta_tilde[11]      0.00      0.00      0.00      0.00      0.00    622.47      1.00\n",
      " beta_tilde[12]      0.00      0.00      0.00      0.00      0.00    447.56      1.00\n",
      " beta_tilde[13]      0.00      0.00      0.00      0.00      0.00   1302.04      1.00\n",
      " beta_tilde[14]      0.00      0.00      0.00      0.00      0.00    912.44      1.00\n",
      " beta_tilde[15]      0.00      0.00      0.00      0.00      0.00    801.32      1.00\n",
      " beta_tilde[16]      0.00      0.00      0.00      0.00      0.00    668.90      1.00\n",
      " beta_tilde[17]      0.00      0.00      0.00      0.00      0.00    431.25      1.00\n",
      " beta_tilde[18]      0.00      0.00      0.00      0.00      0.00    506.75      1.00\n",
      " beta_tilde[19]      0.00      0.00      0.00      0.00      0.00    450.76      1.01\n",
      " beta_tilde[20]      0.00      0.00      0.00      0.00      0.00   1095.32      1.00\n",
      " beta_tilde[21]      0.00      0.00      0.00      0.00      0.00    816.56      1.00\n",
      " beta_tilde[22]      0.00      0.00      0.00      0.00      0.00    500.22      1.00\n",
      " beta_tilde[23]      0.00      0.00      0.00      0.00      0.00    427.87      1.00\n",
      " beta_tilde[24]      0.00      0.00      0.00      0.00      0.00    470.50      1.00\n",
      " beta_tilde[25]      0.00      0.00      0.00      0.00      0.00    614.07      1.00\n",
      " beta_tilde[26]      0.00      0.00      0.00      0.00      0.00    628.93      1.00\n",
      " beta_tilde[27]      0.00      0.00      0.00      0.00      0.00    550.88      1.00\n",
      " beta_tilde[28]      0.00      0.00      0.00      0.00      0.00    720.33      1.00\n",
      " beta_tilde[29]      0.00      0.00      0.00      0.00      0.00    412.78      1.00\n",
      " beta_tilde[30]      0.00      0.00      0.00      0.00      0.00    565.68      1.00\n",
      " beta_tilde[31]      0.00      0.00      0.00      0.00      0.00    679.35      1.00\n",
      " beta_tilde[32]      0.00      0.00      0.00      0.00      0.00    845.98      1.01\n",
      " beta_tilde[33]      0.00      0.00      0.00      0.00      0.00    707.22      1.00\n",
      " beta_tilde[34]      0.00      0.00      0.00      0.00      0.00    518.49      1.00\n",
      " beta_tilde[35]      0.00      0.00      0.00      0.00      0.00    641.68      1.00\n",
      " beta_tilde[36]      0.00      0.00      0.00      0.00      0.00    351.33      1.00\n",
      " beta_tilde[37]      0.00      0.00      0.00      0.00      0.00    930.21      1.00\n",
      " beta_tilde[38]      0.00      0.00      0.00      0.00      0.00    438.82      1.00\n",
      " beta_tilde[39]      0.00      0.00      0.00      0.00      0.00    425.10      1.00\n",
      " beta_tilde[40]      0.00      0.00      0.00      0.00      0.00    522.11      1.00\n",
      " beta_tilde[41]      0.00      0.00      0.00      0.00      0.00    365.40      1.00\n",
      " beta_tilde[42]      0.00      0.00      0.00      0.00      0.00    401.90      1.00\n",
      " beta_tilde[43]      0.00      0.00      0.00      0.00      0.00    460.52      1.00\n",
      " beta_tilde[44]      0.00      0.00      0.00      0.00      0.00   1204.88      1.00\n",
      " beta_tilde[45]      0.00      0.00      0.00      0.00      0.00    642.84      1.00\n",
      " beta_tilde[46]      0.00      0.00      0.00      0.00      0.00    679.31      1.00\n",
      " beta_tilde[47]      0.00      0.00      0.00      0.00      0.00    492.37      1.00\n",
      " beta_tilde[48]      0.00      0.00      0.00      0.00      0.00    507.23      1.00\n",
      " beta_tilde[49]      0.00      0.00      0.00      0.00      0.00    697.10      1.00\n",
      " beta_tilde[50]      0.00      0.00      0.00      0.00      0.00    529.60      1.00\n",
      " beta_tilde[51]      0.00      0.00      0.00      0.00      0.00   1113.29      1.00\n",
      " beta_tilde[52]      0.00      0.00      0.00      0.00      0.00    510.52      1.00\n",
      " beta_tilde[53]      0.00      0.00      0.00      0.00      0.00    579.44      1.00\n",
      " beta_tilde[54]      0.00      0.00      0.00      0.00      0.00   1016.74      1.00\n",
      " beta_tilde[55]      0.00      0.00      0.00      0.00      0.00    452.28      1.00\n",
      " beta_tilde[56]      0.00      0.00      0.00      0.00      0.00    492.15      1.00\n",
      " beta_tilde[57]      0.00      0.00      0.00      0.00      0.00    439.95      1.00\n",
      " beta_tilde[58]      0.00      0.00      0.00      0.00      0.00    573.24      1.00\n",
      " beta_tilde[59]      0.00      0.00      0.00      0.00      0.00    271.30      1.00\n",
      " beta_tilde[60]      0.00      0.00      0.00      0.00      0.00    489.45      1.00\n",
      " beta_tilde[61]      0.00      0.00      0.00      0.00      0.00    365.49      1.00\n",
      " beta_tilde[62]      0.00      0.00      0.00      0.00      0.00    458.70      1.00\n",
      " beta_tilde[63]      0.00      0.00      0.00      0.00      0.00    627.26      1.00\n",
      " beta_tilde[64]      0.00      0.00      0.00      0.00      0.00   1268.01      1.00\n",
      " beta_tilde[65]      0.00      0.00      0.00      0.00      0.00    890.60      1.00\n",
      " beta_tilde[66]      0.00      0.00      0.00      0.00      0.00    573.92      1.01\n",
      " beta_tilde[67]      0.00      0.00      0.00      0.00      0.00   1379.32      1.00\n",
      " beta_tilde[68]      0.00      0.00      0.00      0.00      0.00    588.44      1.00\n",
      " beta_tilde[69]      0.00      0.00      0.00      0.00      0.00    549.43      1.00\n",
      " beta_tilde[70]      0.00      0.00      0.00      0.00      0.00   1035.36      1.00\n",
      " beta_tilde[71]      0.00      0.00      0.00      0.00      0.00    338.54      1.00\n",
      " beta_tilde[72]      0.00      0.00      0.00      0.00      0.00    460.83      1.00\n",
      " beta_tilde[73]      0.00      0.00      0.00      0.00      0.00    322.75      1.00\n",
      " beta_tilde[74]      0.00      0.00      0.00      0.00      0.00    766.03      1.00\n",
      " beta_tilde[75]      0.00      0.00      0.00      0.00      0.00    533.54      1.00\n",
      " beta_tilde[76]      0.00      0.00      0.00      0.00      0.00    843.38      1.00\n",
      " beta_tilde[77]      0.00      0.00      0.00      0.00      0.00    435.69      1.00\n",
      " beta_tilde[78]      0.00      0.00      0.00      0.00      0.00    652.65      1.00\n",
      " beta_tilde[79]      0.00      0.00      0.00      0.00      0.00    555.41      1.00\n",
      " beta_tilde[80]      0.00      0.00      0.00      0.00      0.00    361.40      1.00\n",
      " beta_tilde[81]      0.00      0.00      0.00      0.00      0.00    515.41      1.00\n",
      " beta_tilde[82]      0.00      0.00      0.00      0.00      0.00    300.17      1.00\n",
      " beta_tilde[83]      0.00      0.00      0.00      0.00      0.00    529.71      1.00\n",
      " beta_tilde[84]      0.00      0.00      0.00      0.00      0.00    438.65      1.00\n",
      " beta_tilde[85]      0.00      0.00      0.00      0.00      0.00    403.37      1.00\n",
      " beta_tilde[86]      0.00      0.00      0.00      0.00      0.00    587.05      1.00\n",
      " beta_tilde[87]      0.00      0.00      0.00      0.00      0.00    419.42      1.00\n",
      " beta_tilde[88]      0.00      0.00      0.00      0.00      0.01   1061.11      1.00\n",
      " beta_tilde[89]      0.00      0.00      0.00      0.00      0.01    306.58      1.01\n",
      " beta_tilde[90]      0.00      0.00      0.00      0.00      0.00    407.29      1.00\n",
      " beta_tilde[91]      0.00      0.00      0.00      0.00      0.01    365.11      1.00\n",
      " beta_tilde[92]      0.00      0.00      0.00      0.00      0.01    599.10      1.00\n",
      " beta_tilde[93]      0.00      0.00      0.00      0.00      0.01   1040.63      1.00\n",
      " beta_tilde[94]      0.00      0.00      0.00      0.00      0.01    657.94      1.00\n",
      " beta_tilde[95]      0.00      0.00      0.00      0.00      0.01    756.22      1.00\n",
      " beta_tilde[96]      0.00      0.00      0.00      0.00      0.00    547.23      1.00\n",
      " beta_tilde[97]      0.00      0.00      0.00      0.00      0.00    725.33      1.00\n",
      " beta_tilde[98]      0.00      0.00      0.00      0.00      0.00    683.62      1.00\n",
      " beta_tilde[99]      0.00      0.00      0.00      0.00      0.00    695.74      1.00\n",
      "beta_tilde[100]      0.00      0.00      0.00      0.00      0.00    936.59      1.00\n",
      "beta_tilde[101]      0.00      0.00      0.00      0.00      0.00    589.63      1.00\n",
      "beta_tilde[102]      0.00      0.00      0.00      0.00      0.01    727.92      1.00\n",
      "beta_tilde[103]      0.00      0.00      0.00      0.00      0.01   1045.37      1.00\n",
      "beta_tilde[104]      0.00      0.00      0.00      0.00      0.01    796.54      1.00\n",
      "beta_tilde[105]      0.01      0.00      0.00      0.00      0.01    543.18      1.00\n",
      "beta_tilde[106]      0.00      0.00      0.00      0.00      0.00    385.77      1.00\n",
      "beta_tilde[107]      0.00      0.00      0.00      0.00      0.00    665.11      1.00\n",
      "beta_tilde[108]      0.00      0.00      0.00      0.00      0.00    472.76      1.01\n",
      "beta_tilde[109]      0.00      0.00      0.00      0.00      0.00   2008.29      1.00\n",
      "beta_tilde[110]      0.00      0.00      0.00      0.00      0.00    521.71      1.00\n",
      "beta_tilde[111]      0.00      0.00      0.00      0.00      0.00   1059.37      1.00\n",
      "beta_tilde[112]      0.00      0.00      0.00      0.00      0.00    560.57      1.00\n",
      "beta_tilde[113]      0.00      0.00      0.00      0.00      0.00    656.93      1.00\n",
      "beta_tilde[114]      0.00      0.00      0.00      0.00      0.00    839.89      1.00\n",
      "beta_tilde[115]      0.00      0.00      0.00      0.00      0.00    382.58      1.00\n",
      "beta_tilde[116]      0.00      0.00      0.00      0.00      0.00    781.95      1.00\n",
      "beta_tilde[117]      0.00      0.00      0.00      0.00      0.00    605.07      1.00\n",
      "beta_tilde[118]      0.00      0.00      0.00      0.00      0.00    559.18      1.00\n",
      "beta_tilde[119]      0.00      0.00      0.00      0.00      0.00    373.05      1.00\n",
      "beta_tilde[120]      0.00      0.00      0.00      0.00      0.00    843.93      1.00\n",
      "beta_tilde[121]      0.00      0.00      0.00      0.00      0.00    363.48      1.00\n",
      "beta_tilde[122]      0.00      0.00      0.00      0.00      0.00    437.91      1.00\n",
      "beta_tilde[123]      0.00      0.00      0.00      0.00      0.00    606.60      1.00\n",
      "beta_tilde[124]      0.00      0.00      0.00      0.00      0.00    623.67      1.00\n",
      "beta_tilde[125]      0.00      0.00      0.00      0.00      0.00    982.63      1.00\n",
      "beta_tilde[126]      0.00      0.00      0.00      0.00      0.00    711.02      1.00\n",
      "beta_tilde[127]      0.00      0.00      0.00      0.00      0.00    748.04      1.00\n",
      "beta_tilde[128]      0.00      0.00      0.00      0.00      0.00    556.52      1.00\n",
      "beta_tilde[129]      0.00      0.00      0.00      0.00      0.00    541.68      1.00\n",
      "beta_tilde[130]      0.00      0.00      0.00      0.00      0.00    432.05      1.00\n",
      "beta_tilde[131]      0.00      0.00      0.00      0.00      0.00    563.48      1.01\n",
      "beta_tilde[132]      0.00      0.00      0.00      0.00      0.00    617.44      1.00\n",
      "beta_tilde[133]      0.00      0.00      0.00      0.00      0.00    518.69      1.00\n",
      "beta_tilde[134]      0.00      0.00      0.00      0.00      0.00    372.41      1.00\n",
      "beta_tilde[135]      0.00      0.00      0.00      0.00      0.00    987.68      1.00\n",
      "beta_tilde[136]      0.00      0.00      0.00      0.00      0.00    492.94      1.01\n",
      "beta_tilde[137]      0.00      0.00      0.00      0.00      0.00    764.02      1.00\n",
      "beta_tilde[138]      0.00      0.00      0.00      0.00      0.00    731.30      1.00\n",
      "beta_tilde[139]      0.00      0.00      0.00      0.00      0.00    920.67      1.00\n",
      "beta_tilde[140]      0.00      0.00      0.00      0.00      0.00    585.58      1.00\n",
      "beta_tilde[141]      0.00      0.00      0.00      0.00      0.00    536.64      1.00\n",
      "beta_tilde[142]      0.00      0.00      0.00      0.00      0.00   1408.18      1.00\n",
      "beta_tilde[143]      0.00      0.00      0.00      0.00      0.00    594.37      1.00\n",
      "beta_tilde[144]      0.00      0.00      0.00      0.00      0.00    721.68      1.00\n",
      "beta_tilde[145]      0.00      0.00      0.00      0.00      0.01    348.09      1.02\n",
      "beta_tilde[146]      0.00      0.00      0.00      0.00      0.01    480.29      1.00\n",
      "beta_tilde[147]      0.01      0.00      0.00      0.00      0.01    601.51      1.00\n",
      "beta_tilde[148]      0.01      0.01      0.00      0.00      0.01    332.84      1.00\n",
      "beta_tilde[149]      0.00      0.00      0.00      0.00      0.01    352.40      1.00\n",
      "beta_tilde[150]      0.00      0.00      0.00      0.00      0.01    706.50      1.00\n",
      "beta_tilde[151]      0.00      0.00      0.00      0.00      0.01    579.71      1.00\n",
      "beta_tilde[152]      0.00      0.00      0.00      0.00      0.01    591.76      1.00\n",
      "beta_tilde[153]      0.00      0.00      0.00      0.00      0.01    940.46      1.00\n",
      "beta_tilde[154]      0.00      0.00      0.00      0.00      0.01    895.32      1.00\n",
      "beta_tilde[155]      0.00      0.00      0.00      0.00      0.01    341.78      1.00\n",
      "beta_tilde[156]      0.00      0.00      0.00      0.00      0.01    900.43      1.00\n",
      "beta_tilde[157]      0.00      0.01      0.00      0.00      0.01    834.48      1.00\n",
      "beta_tilde[158]      0.36      0.03      0.36      0.31      0.41    188.25      1.00\n",
      "beta_tilde[159]      0.00      0.00      0.00      0.00      0.00    251.14      1.00\n",
      "beta_tilde[160]      0.00      0.00      0.00      0.00      0.00    451.07      1.00\n",
      "beta_tilde[161]      0.00      0.00      0.00      0.00      0.00    676.34      1.00\n",
      "beta_tilde[162]      0.00      0.00      0.00      0.00      0.00    671.05      1.00\n",
      "beta_tilde[163]      0.00      0.00      0.00      0.00      0.00    650.90      1.00\n",
      "beta_tilde[164]      0.00      0.00      0.00      0.00      0.00    540.06      1.00\n",
      "beta_tilde[165]      0.00      0.00      0.00      0.00      0.00    631.29      1.00\n",
      "beta_tilde[166]      0.00      0.00      0.00      0.00      0.00    793.82      1.00\n",
      "beta_tilde[167]      0.00      0.00      0.00      0.00      0.00    366.55      1.00\n",
      "beta_tilde[168]      0.00      0.00      0.00      0.00      0.00    533.28      1.00\n",
      "beta_tilde[169]      0.00      0.00      0.00      0.00      0.00    732.14      1.00\n",
      "beta_tilde[170]      0.00      0.00      0.00      0.00      0.00    597.75      1.00\n",
      "beta_tilde[171]      0.00      0.00      0.00      0.00      0.00    419.70      1.00\n",
      "beta_tilde[172]      0.00      0.00      0.00      0.00      0.00    831.72      1.00\n",
      "beta_tilde[173]      0.00      0.00      0.00      0.00      0.00    371.61      1.00\n",
      "beta_tilde[174]      0.00      0.00      0.00      0.00      0.00    872.57      1.00\n",
      "beta_tilde[175]      0.00      0.00      0.00      0.00      0.00    907.35      1.00\n",
      "beta_tilde[176]      0.00      0.00      0.00      0.00      0.00    939.71      1.00\n",
      "beta_tilde[177]      0.00      0.00      0.00      0.00      0.00    275.20      1.00\n",
      "beta_tilde[178]      0.00      0.00      0.00      0.00      0.00    448.98      1.01\n",
      "beta_tilde[179]      0.00      0.00      0.00      0.00      0.00    713.67      1.00\n",
      "beta_tilde[180]      0.00      0.00      0.00      0.00      0.00    474.72      1.01\n",
      "beta_tilde[181]      0.00      0.00      0.00      0.00      0.00    700.85      1.00\n",
      "beta_tilde[182]      0.00      0.00      0.00      0.00      0.00    883.91      1.00\n",
      "beta_tilde[183]      0.00      0.00      0.00      0.00      0.00    542.59      1.01\n",
      "beta_tilde[184]      0.00      0.00      0.00      0.00      0.00    973.11      1.00\n",
      "beta_tilde[185]      0.00      0.00      0.00      0.00      0.00    560.11      1.00\n",
      "beta_tilde[186]      0.00      0.00      0.00      0.00      0.00    253.44      1.00\n",
      "beta_tilde[187]      0.00      0.00      0.00      0.00      0.00    835.18      1.00\n",
      "beta_tilde[188]      0.00      0.00      0.00      0.00      0.00    507.47      1.00\n",
      "beta_tilde[189]      0.00      0.00      0.00      0.00      0.00    832.52      1.00\n",
      "beta_tilde[190]      0.00      0.00      0.00      0.00      0.00    477.37      1.01\n",
      "beta_tilde[191]      0.00      0.00      0.00      0.00      0.00    634.97      1.00\n",
      "beta_tilde[192]      0.00      0.00      0.00      0.00      0.00    341.95      1.00\n",
      "beta_tilde[193]      0.00      0.00      0.00      0.00      0.00    253.44      1.01\n",
      "beta_tilde[194]      0.00      0.00      0.00      0.00      0.00    919.57      1.00\n",
      "beta_tilde[195]      0.00      0.00      0.00      0.00      0.01    453.71      1.00\n",
      "beta_tilde[196]      0.00      0.00      0.00      0.00      0.01    437.09      1.00\n",
      "beta_tilde[197]      0.00      0.00      0.00      0.00      0.01    838.51      1.00\n",
      "beta_tilde[198]      0.01      0.01      0.01      0.00      0.02   1233.46      1.00\n",
      "beta_tilde[199]      0.01      0.01      0.01      0.00      0.02    382.03      1.00\n",
      "beta_tilde[200]      0.01      0.01      0.01      0.00      0.02    556.63      1.00\n",
      "beta_tilde[201]      0.01      0.01      0.01      0.00      0.03    407.55      1.00\n",
      "beta_tilde[202]      0.03      0.02      0.02      0.00      0.07    295.44      1.00\n",
      "beta_tilde[203]      0.01      0.01      0.01      0.00      0.02    532.45      1.00\n",
      "beta_tilde[204]      0.00      0.00      0.00      0.00      0.01    921.59      1.00\n",
      "beta_tilde[205]      0.00      0.00      0.00      0.00      0.00   1126.71      1.00\n",
      "beta_tilde[206]      0.00      0.00      0.00      0.00      0.00    454.04      1.00\n",
      "beta_tilde[207]      0.00      0.00      0.00      0.00      0.00    775.95      1.00\n",
      "beta_tilde[208]      0.00      0.00      0.00      0.00      0.00    334.13      1.00\n",
      "beta_tilde[209]      0.00      0.00      0.00      0.00      0.00    943.12      1.00\n",
      "beta_tilde[210]      0.00      0.00      0.00      0.00      0.00    493.97      1.00\n",
      "beta_tilde[211]      0.00      0.00      0.00      0.00      0.01    435.52      1.01\n",
      "beta_tilde[212]      0.00      0.00      0.00      0.00      0.01    435.47      1.01\n",
      "beta_tilde[213]      0.00      0.00      0.00      0.00      0.00    646.15      1.01\n",
      "beta_tilde[214]      0.00      0.00      0.00      0.00      0.00    248.31      1.01\n",
      "beta_tilde[215]      0.00      0.00      0.00      0.00      0.00    395.83      1.00\n",
      "beta_tilde[216]      0.00      0.00      0.00      0.00      0.00    559.39      1.00\n",
      "beta_tilde[217]      0.00      0.00      0.00      0.00      0.00    796.74      1.00\n",
      "beta_tilde[218]      0.00      0.00      0.00      0.00      0.00    821.92      1.00\n",
      "beta_tilde[219]      0.00      0.00      0.00      0.00      0.00    802.18      1.01\n",
      "beta_tilde[220]      0.00      0.00      0.00      0.00      0.00    467.81      1.00\n",
      "beta_tilde[221]      0.00      0.00      0.00      0.00      0.00    339.41      1.00\n",
      "beta_tilde[222]      0.00      0.00      0.00      0.00      0.00    428.72      1.00\n",
      "beta_tilde[223]      0.00      0.00      0.00      0.00      0.00    521.72      1.00\n",
      "beta_tilde[224]      0.00      0.00      0.00      0.00      0.00    263.25      1.01\n",
      "beta_tilde[225]      0.00      0.00      0.00      0.00      0.00    591.28      1.00\n",
      "beta_tilde[226]      0.00      0.00      0.00      0.00      0.00    560.52      1.00\n",
      "beta_tilde[227]      0.00      0.00      0.00      0.00      0.00    490.68      1.00\n",
      "beta_tilde[228]      0.00      0.00      0.00      0.00      0.00    658.86      1.00\n",
      "beta_tilde[229]      0.00      0.00      0.00      0.00      0.00    453.96      1.01\n",
      "beta_tilde[230]      0.00      0.00      0.00      0.00      0.00    508.56      1.00\n",
      "beta_tilde[231]      0.00      0.00      0.00      0.00      0.00    677.92      1.00\n",
      "beta_tilde[232]      0.00      0.00      0.00      0.00      0.00    442.44      1.01\n",
      "beta_tilde[233]      0.00      0.00      0.00      0.00      0.00    408.25      1.00\n",
      "beta_tilde[234]      0.00      0.00      0.00      0.00      0.00    468.24      1.00\n",
      "beta_tilde[235]      0.00      0.00      0.00      0.00      0.00   1500.48      1.00\n",
      "beta_tilde[236]      0.00      0.00      0.00      0.00      0.00    491.40      1.00\n",
      "beta_tilde[237]      0.00      0.00      0.00      0.00      0.00    848.86      1.00\n",
      "beta_tilde[238]      0.00      0.00      0.00      0.00      0.00    850.94      1.00\n",
      "beta_tilde[239]      0.00      0.00      0.00      0.00      0.00    792.33      1.00\n",
      "beta_tilde[240]      0.00      0.00      0.00      0.00      0.00    603.10      1.00\n",
      "beta_tilde[241]      0.00      0.00      0.00      0.00      0.00    249.04      1.00\n",
      "beta_tilde[242]      0.00      0.00      0.00      0.00      0.00    442.22      1.00\n",
      "beta_tilde[243]      0.00      0.00      0.00      0.00      0.00    641.04      1.00\n",
      "beta_tilde[244]      0.00      0.00      0.00      0.00      0.00   1081.29      1.00\n",
      "beta_tilde[245]      0.00      0.00      0.00      0.00      0.00   1094.64      1.00\n",
      "beta_tilde[246]      0.00      0.00      0.00      0.00      0.00   1546.60      1.00\n",
      "beta_tilde[247]      0.00      0.00      0.00      0.00      0.00    555.35      1.00\n",
      "beta_tilde[248]      0.00      0.00      0.00      0.00      0.00    506.40      1.00\n",
      "beta_tilde[249]      0.00      0.00      0.00      0.00      0.00    659.29      1.00\n",
      "beta_tilde[250]      0.00      0.00      0.00      0.00      0.00    807.71      1.00\n",
      "beta_tilde[251]      0.00      0.00      0.00      0.00      0.00    364.35      1.00\n",
      "beta_tilde[252]      0.00      0.00      0.00      0.00      0.00   1118.19      1.00\n",
      "beta_tilde[253]      0.00      0.00      0.00      0.00      0.00   1071.40      1.00\n",
      "beta_tilde[254]      0.00      0.00      0.00      0.00      0.00    619.34      1.00\n",
      "beta_tilde[255]      0.00      0.00      0.00      0.00      0.00    771.84      1.00\n",
      "beta_tilde[256]      0.00      0.00      0.00      0.00      0.00    502.11      1.00\n",
      "beta_tilde[257]      0.00      0.00      0.00      0.00      0.00    488.76      1.01\n",
      "beta_tilde[258]      0.00      0.00      0.00      0.00      0.00    529.69      1.00\n",
      "beta_tilde[259]      0.00      0.00      0.00      0.00      0.00    898.18      1.00\n",
      "beta_tilde[260]      0.00      0.00      0.00      0.00      0.00    406.71      1.00\n",
      "beta_tilde[261]      0.00      0.00      0.00      0.00      0.00    623.06      1.00\n",
      "beta_tilde[262]      0.00      0.00      0.00      0.00      0.00   1205.80      1.00\n",
      "beta_tilde[263]      0.00      0.00      0.00      0.00      0.00    550.21      1.00\n",
      "beta_tilde[264]      0.00      0.00      0.00      0.00      0.00    288.62      1.01\n",
      "beta_tilde[265]      0.00      0.00      0.00      0.00      0.00    454.30      1.00\n",
      "beta_tilde[266]      0.00      0.00      0.00      0.00      0.01    479.79      1.00\n",
      "beta_tilde[267]      0.01      0.00      0.00      0.00      0.01    279.43      1.01\n",
      "beta_tilde[268]      0.00      0.00      0.00      0.00      0.01    502.26      1.00\n",
      "beta_tilde[269]      0.00      0.00      0.00      0.00      0.01    522.45      1.00\n",
      "beta_tilde[270]      0.00      0.00      0.00      0.00      0.00   1348.36      1.00\n",
      "beta_tilde[271]      0.00      0.00      0.00      0.00      0.00    787.70      1.00\n",
      "beta_tilde[272]      0.00      0.00      0.00      0.00      0.00    580.73      1.00\n",
      "beta_tilde[273]      0.00      0.00      0.00      0.00      0.00    376.74      1.00\n",
      "beta_tilde[274]      0.00      0.00      0.00      0.00      0.00    337.28      1.00\n",
      "beta_tilde[275]      0.00      0.00      0.00      0.00      0.00    539.32      1.00\n",
      "beta_tilde[276]      0.00      0.00      0.00      0.00      0.00    677.06      1.01\n",
      "beta_tilde[277]      0.00      0.00      0.00      0.00      0.00    346.36      1.00\n",
      "beta_tilde[278]      0.00      0.00      0.00      0.00      0.00    348.03      1.00\n",
      "beta_tilde[279]      0.00      0.00      0.00      0.00      0.00    495.15      1.00\n",
      "beta_tilde[280]      0.00      0.00      0.00      0.00      0.00    558.20      1.00\n",
      "beta_tilde[281]      0.00      0.00      0.00      0.00      0.00    539.35      1.00\n",
      "beta_tilde[282]      0.00      0.00      0.00      0.00      0.00    387.38      1.00\n",
      "beta_tilde[283]      0.00      0.00      0.00      0.00      0.00    459.68      1.00\n",
      "beta_tilde[284]      0.00      0.00      0.00      0.00      0.00    425.99      1.00\n",
      "beta_tilde[285]      0.00      0.00      0.00      0.00      0.00    756.12      1.00\n",
      "beta_tilde[286]      0.00      0.00      0.00      0.00      0.00    442.83      1.00\n",
      "beta_tilde[287]      0.00      0.00      0.00      0.00      0.00    253.29      1.00\n",
      "beta_tilde[288]      0.00      0.00      0.00      0.00      0.00    963.40      1.00\n",
      "beta_tilde[289]      0.00      0.00      0.00      0.00      0.00    347.25      1.00\n",
      "beta_tilde[290]      0.00      0.00      0.00      0.00      0.00    494.34      1.00\n",
      "beta_tilde[291]      0.00      0.00      0.00      0.00      0.00    604.52      1.00\n",
      "beta_tilde[292]      0.00      0.00      0.00      0.00      0.00    883.07      1.00\n",
      "beta_tilde[293]      0.00      0.00      0.00      0.00      0.00    623.70      1.00\n",
      "beta_tilde[294]      0.00      0.00      0.00      0.00      0.00    727.38      1.00\n",
      "beta_tilde[295]      0.00      0.00      0.00      0.00      0.00    778.43      1.00\n",
      "beta_tilde[296]      0.00      0.00      0.00      0.00      0.00    834.99      1.00\n",
      "beta_tilde[297]      0.00      0.00      0.00      0.00      0.00    803.20      1.00\n",
      "beta_tilde[298]      0.00      0.00      0.00      0.00      0.00    460.87      1.01\n",
      "beta_tilde[299]      0.00      0.00      0.00      0.00      0.00    447.68      1.00\n",
      "beta_tilde[300]      0.00      0.00      0.00      0.00      0.00   1193.31      1.00\n",
      "beta_tilde[301]      0.00      0.00      0.00      0.00      0.00    385.35      1.00\n",
      "beta_tilde[302]      0.00      0.00      0.00      0.00      0.00    551.82      1.00\n",
      "beta_tilde[303]      0.00      0.00      0.00      0.00      0.00    558.69      1.00\n",
      "beta_tilde[304]      0.00      0.00      0.00      0.00      0.00    696.07      1.00\n",
      "beta_tilde[305]      0.00      0.00      0.00      0.00      0.00    654.55      1.00\n",
      "beta_tilde[306]      0.00      0.00      0.00      0.00      0.00    690.11      1.00\n",
      "beta_tilde[307]      0.00      0.00      0.00      0.00      0.00    946.34      1.00\n",
      "beta_tilde[308]      0.00      0.00      0.00      0.00      0.00    377.98      1.01\n",
      "beta_tilde[309]      0.00      0.00      0.00      0.00      0.00    418.08      1.00\n",
      "beta_tilde[310]      0.00      0.00      0.00      0.00      0.00    514.04      1.01\n",
      "beta_tilde[311]      0.00      0.00      0.00      0.00      0.00    683.25      1.00\n",
      "beta_tilde[312]      0.00      0.00      0.00      0.00      0.00    498.00      1.00\n",
      "beta_tilde[313]      0.00      0.00      0.00      0.00      0.00    730.72      1.00\n",
      "beta_tilde[314]      0.00      0.00      0.00      0.00      0.00   1243.14      1.00\n",
      "beta_tilde[315]      0.00      0.00      0.00      0.00      0.00   1299.80      1.00\n",
      "beta_tilde[316]      0.00      0.00      0.00      0.00      0.00    579.14      1.00\n",
      "beta_tilde[317]      0.00      0.00      0.00      0.00      0.00    820.43      1.00\n",
      "beta_tilde[318]      0.00      0.00      0.00      0.00      0.00    284.21      1.00\n",
      "beta_tilde[319]      0.00      0.00      0.00      0.00      0.00    447.41      1.00\n",
      "beta_tilde[320]      0.00      0.00      0.00      0.00      0.00    312.17      1.00\n",
      "beta_tilde[321]      0.00      0.00      0.00      0.00      0.00    402.00      1.00\n",
      "beta_tilde[322]      0.00      0.00      0.00      0.00      0.00   1001.76      1.00\n",
      "beta_tilde[323]      0.00      0.00      0.00      0.00      0.00    758.17      1.00\n",
      "beta_tilde[324]      0.00      0.00      0.00      0.00      0.00    432.19      1.00\n",
      "beta_tilde[325]      0.00      0.00      0.00      0.00      0.00    419.33      1.00\n",
      "beta_tilde[326]      0.00      0.00      0.00      0.00      0.00    846.80      1.00\n",
      "beta_tilde[327]      0.00      0.00      0.00      0.00      0.00    632.59      1.00\n",
      "beta_tilde[328]      0.00      0.00      0.00      0.00      0.00   1004.12      1.00\n",
      "beta_tilde[329]      0.00      0.00      0.00      0.00      0.00    646.51      1.00\n",
      "beta_tilde[330]      0.00      0.00      0.00      0.00      0.00    251.60      1.00\n",
      "beta_tilde[331]      0.00      0.00      0.00      0.00      0.00    693.12      1.00\n",
      "beta_tilde[332]      0.00      0.00      0.00      0.00      0.00    923.48      1.00\n",
      "beta_tilde[333]      0.00      0.00      0.00      0.00      0.00    499.60      1.00\n",
      "beta_tilde[334]      0.00      0.00      0.00      0.00      0.00    641.42      1.01\n",
      "beta_tilde[335]      0.00      0.00      0.00      0.00      0.00    953.32      1.00\n",
      "beta_tilde[336]      0.00      0.00      0.00      0.00      0.00    391.32      1.00\n",
      "beta_tilde[337]      0.00      0.00      0.00      0.00      0.00   1109.21      1.00\n",
      "beta_tilde[338]      0.00      0.00      0.00      0.00      0.00    662.52      1.00\n",
      "beta_tilde[339]      0.00      0.00      0.00      0.00      0.00    367.36      1.00\n",
      "beta_tilde[340]      0.00      0.00      0.00      0.00      0.00    295.82      1.00\n",
      "beta_tilde[341]      0.00      0.00      0.00      0.00      0.00    385.82      1.00\n",
      "beta_tilde[342]      0.00      0.00      0.00      0.00      0.00    519.58      1.00\n",
      "beta_tilde[343]      0.00      0.00      0.00      0.00      0.00    526.07      1.00\n",
      "beta_tilde[344]      0.00      0.00      0.00      0.00      0.00    546.00      1.00\n",
      "beta_tilde[345]      0.00      0.00      0.00      0.00      0.00    345.65      1.00\n",
      "beta_tilde[346]      0.00      0.00      0.00      0.00      0.00    492.24      1.01\n",
      "beta_tilde[347]      0.00      0.00      0.00      0.00      0.00    561.19      1.00\n",
      "beta_tilde[348]      0.00      0.00      0.00      0.00      0.00   1149.72      1.00\n",
      "beta_tilde[349]      0.00      0.00      0.00      0.00      0.00    440.06      1.00\n",
      "beta_tilde[350]      0.00      0.00      0.00      0.00      0.00    464.53      1.00\n",
      "beta_tilde[351]      0.00      0.00      0.00      0.00      0.00    709.71      1.00\n",
      "beta_tilde[352]      0.00      0.00      0.00      0.00      0.00    421.67      1.01\n",
      "beta_tilde[353]      0.00      0.00      0.00      0.00      0.00    573.21      1.00\n",
      "beta_tilde[354]      0.00      0.00      0.00      0.00      0.00    655.42      1.00\n",
      "beta_tilde[355]      0.00      0.00      0.00      0.00      0.00    553.72      1.00\n",
      "beta_tilde[356]      0.00      0.00      0.00      0.00      0.00    664.43      1.00\n",
      "beta_tilde[357]      0.00      0.00      0.00      0.00      0.00    718.02      1.00\n",
      "beta_tilde[358]      0.00      0.00      0.00      0.00      0.00    491.50      1.00\n",
      "beta_tilde[359]      0.00      0.00      0.00      0.00      0.00    405.07      1.00\n",
      "beta_tilde[360]      0.00      0.00      0.00      0.00      0.00    655.29      1.00\n",
      "beta_tilde[361]      0.00      0.00      0.00      0.00      0.00    548.41      1.00\n",
      "beta_tilde[362]      0.00      0.00      0.00      0.00      0.00    531.55      1.00\n",
      "beta_tilde[363]      0.00      0.00      0.00      0.00      0.00   1467.08      1.00\n",
      "beta_tilde[364]      0.00      0.00      0.00      0.00      0.00    815.91      1.00\n",
      "beta_tilde[365]      0.00      0.00      0.00      0.00      0.00    512.37      1.00\n",
      "beta_tilde[366]      0.00      0.00      0.00      0.00      0.00    319.46      1.01\n",
      "beta_tilde[367]      0.00      0.00      0.00      0.00      0.00    635.97      1.00\n",
      "beta_tilde[368]      0.00      0.00      0.00      0.00      0.00    753.76      1.00\n",
      "beta_tilde[369]      0.00      0.00      0.00      0.00      0.00    509.06      1.00\n",
      "beta_tilde[370]      0.00      0.00      0.00      0.00      0.00    324.28      1.01\n",
      "beta_tilde[371]      0.00      0.00      0.00      0.00      0.00   1115.84      1.00\n",
      "beta_tilde[372]      0.00      0.00      0.00      0.00      0.00   1044.06      1.00\n",
      "beta_tilde[373]      0.00      0.00      0.00      0.00      0.00    400.59      1.00\n",
      "beta_tilde[374]      0.00      0.00      0.00      0.00      0.00    353.08      1.00\n",
      "beta_tilde[375]      0.00      0.00      0.00      0.00      0.00    482.97      1.00\n",
      "beta_tilde[376]      0.00      0.00      0.00      0.00      0.00    378.35      1.00\n",
      "beta_tilde[377]      0.00      0.00      0.00      0.00      0.00    836.01      1.00\n",
      "beta_tilde[378]      0.00      0.00      0.00      0.00      0.00    762.82      1.00\n",
      "beta_tilde[379]      0.00      0.00      0.00      0.00      0.00    700.10      1.00\n",
      "beta_tilde[380]      0.00      0.00      0.00      0.00      0.00    599.00      1.00\n",
      "beta_tilde[381]      0.00      0.00      0.00      0.00      0.00    763.36      1.00\n",
      "beta_tilde[382]      0.00      0.00      0.00      0.00      0.00    612.59      1.00\n",
      "beta_tilde[383]      0.00      0.00      0.00      0.00      0.00    643.86      1.00\n",
      "beta_tilde[384]      0.00      0.00      0.00      0.00      0.00    464.71      1.01\n",
      "beta_tilde[385]      0.00      0.00      0.00      0.00      0.00    262.07      1.01\n",
      "beta_tilde[386]      0.00      0.00      0.00      0.00      0.00    550.08      1.00\n",
      "beta_tilde[387]      0.00      0.00      0.00      0.00      0.00    408.74      1.01\n",
      "beta_tilde[388]      0.00      0.00      0.00      0.00      0.00    693.73      1.00\n",
      "beta_tilde[389]      0.00      0.00      0.00      0.00      0.00    409.77      1.00\n",
      "beta_tilde[390]      0.00      0.00      0.00      0.00      0.00    724.60      1.00\n",
      "beta_tilde[391]      0.00      0.00      0.00      0.00      0.00   1474.64      1.00\n",
      "beta_tilde[392]      0.00      0.00      0.00      0.00      0.00    582.41      1.00\n",
      "beta_tilde[393]      0.00      0.00      0.00      0.00      0.00   1134.32      1.00\n",
      "beta_tilde[394]      0.00      0.00      0.00      0.00      0.00    760.21      1.00\n",
      "beta_tilde[395]      0.00      0.00      0.00      0.00      0.00    604.11      1.01\n",
      "beta_tilde[396]      0.00      0.00      0.00      0.00      0.00    651.28      1.00\n",
      "beta_tilde[397]      0.00      0.00      0.00      0.00      0.00    324.90      1.02\n",
      "beta_tilde[398]      0.00      0.00      0.00      0.00      0.00    533.62      1.00\n",
      "beta_tilde[399]      0.00      0.00      0.00      0.00      0.00    444.11      1.00\n",
      "beta_tilde[400]      0.00      0.00      0.00      0.00      0.00    433.20      1.00\n",
      "beta_tilde[401]      0.00      0.00      0.00      0.00      0.00    523.46      1.00\n",
      "beta_tilde[402]      0.00      0.00      0.00      0.00      0.00    532.77      1.00\n",
      "beta_tilde[403]      0.00      0.00      0.00      0.00      0.00    450.23      1.00\n",
      "beta_tilde[404]      0.00      0.00      0.00      0.00      0.00   1125.55      1.00\n",
      "beta_tilde[405]      0.00      0.00      0.00      0.00      0.00    421.58      1.00\n",
      "beta_tilde[406]      0.00      0.00      0.00      0.00      0.00    473.13      1.00\n",
      "beta_tilde[407]      0.00      0.00      0.00      0.00      0.00    389.05      1.00\n",
      "beta_tilde[408]      0.00      0.00      0.00      0.00      0.00    512.60      1.00\n",
      "beta_tilde[409]      0.00      0.00      0.00      0.00      0.00    859.13      1.00\n",
      "beta_tilde[410]      0.00      0.00      0.00      0.00      0.00    638.14      1.00\n",
      "beta_tilde[411]      0.00      0.00      0.00      0.00      0.00    282.87      1.01\n",
      "beta_tilde[412]      0.00      0.00      0.00      0.00      0.00    882.45      1.00\n",
      "beta_tilde[413]      0.00      0.00      0.00      0.00      0.00    742.27      1.00\n",
      "beta_tilde[414]      0.00      0.00      0.00      0.00      0.00    335.80      1.00\n",
      "beta_tilde[415]      0.00      0.00      0.00      0.00      0.00    801.37      1.00\n",
      "beta_tilde[416]      0.00      0.00      0.00      0.00      0.00    550.67      1.00\n",
      "beta_tilde[417]      0.00      0.00      0.00      0.00      0.00   1132.76      1.00\n",
      "beta_tilde[418]      0.00      0.00      0.00      0.00      0.00    770.69      1.00\n",
      "beta_tilde[419]      0.00      0.00      0.00      0.00      0.00    496.36      1.00\n",
      "beta_tilde[420]      0.00      0.00      0.00      0.00      0.00    387.83      1.00\n",
      "beta_tilde[421]      0.00      0.00      0.00      0.00      0.00    517.74      1.00\n",
      "beta_tilde[422]      0.00      0.00      0.00      0.00      0.00    631.43      1.01\n",
      "beta_tilde[423]      0.00      0.00      0.00      0.00      0.00    596.96      1.01\n",
      "beta_tilde[424]      0.00      0.00      0.00      0.00      0.00    320.95      1.00\n",
      "beta_tilde[425]      0.00      0.00      0.00      0.00      0.00    992.98      1.00\n",
      "beta_tilde[426]      0.00      0.00      0.00      0.00      0.00    574.17      1.00\n",
      "beta_tilde[427]      0.00      0.00      0.00      0.00      0.00    715.70      1.00\n",
      "beta_tilde[428]      0.00      0.00      0.00      0.00      0.00    361.08      1.00\n",
      "beta_tilde[429]      0.00      0.00      0.00      0.00      0.00    877.34      1.00\n",
      "beta_tilde[430]      0.00      0.00      0.00      0.00      0.00    504.62      1.00\n",
      "beta_tilde[431]      0.00      0.00      0.00      0.00      0.00   1039.06      1.00\n",
      "beta_tilde[432]      0.00      0.00      0.00      0.00      0.00    756.02      1.00\n",
      "beta_tilde[433]      0.00      0.00      0.00      0.00      0.00   1051.18      1.00\n",
      "beta_tilde[434]      0.00      0.00      0.00      0.00      0.00    641.69      1.00\n",
      "beta_tilde[435]      0.00      0.00      0.00      0.00      0.00   1154.20      1.00\n",
      "beta_tilde[436]      0.00      0.00      0.00      0.00      0.00    540.61      1.00\n",
      "beta_tilde[437]      0.00      0.00      0.00      0.00      0.00    434.96      1.00\n",
      "beta_tilde[438]      0.00      0.00      0.00      0.00      0.00    752.73      1.00\n",
      "beta_tilde[439]      0.00      0.00      0.00      0.00      0.00   1186.93      1.00\n",
      "beta_tilde[440]      0.00      0.00      0.00      0.00      0.00    959.74      1.00\n",
      "beta_tilde[441]      0.00      0.00      0.00      0.00      0.00   1233.87      1.00\n",
      "beta_tilde[442]      0.00      0.00      0.00      0.00      0.00   1207.78      1.00\n",
      "beta_tilde[443]      0.00      0.00      0.00      0.00      0.00    504.31      1.00\n",
      "beta_tilde[444]      0.00      0.00      0.00      0.00      0.00    547.36      1.01\n",
      "beta_tilde[445]      0.00      0.00      0.00      0.00      0.01    315.59      1.00\n",
      "beta_tilde[446]      0.00      0.00      0.00      0.00      0.00    450.51      1.01\n",
      "beta_tilde[447]      0.00      0.00      0.00      0.00      0.00    865.15      1.00\n",
      "beta_tilde[448]      0.00      0.00      0.00      0.00      0.00    270.63      1.00\n",
      "beta_tilde[449]      0.00      0.00      0.00      0.00      0.00    865.43      1.00\n",
      "beta_tilde[450]      0.00      0.00      0.00      0.00      0.00    461.60      1.00\n",
      "beta_tilde[451]      0.00      0.00      0.00      0.00      0.00    481.98      1.02\n",
      "beta_tilde[452]      0.00      0.00      0.00      0.00      0.00    562.10      1.00\n",
      "beta_tilde[453]      0.00      0.00      0.00      0.00      0.00    458.94      1.00\n",
      "beta_tilde[454]      0.00      0.00      0.00      0.00      0.00    466.93      1.00\n",
      "beta_tilde[455]      0.00      0.00      0.00      0.00      0.00    761.96      1.00\n",
      "beta_tilde[456]      0.00      0.00      0.00      0.00      0.00    572.74      1.00\n",
      "beta_tilde[457]      0.00      0.00      0.00      0.00      0.00    607.46      1.00\n",
      "beta_tilde[458]      0.00      0.00      0.00      0.00      0.00    779.46      1.00\n",
      "beta_tilde[459]      0.00      0.00      0.00      0.00      0.00    563.52      1.00\n",
      "beta_tilde[460]      0.00      0.00      0.00      0.00      0.00    811.21      1.00\n",
      "beta_tilde[461]      0.00      0.00      0.00      0.00      0.00    787.62      1.00\n",
      "beta_tilde[462]      0.00      0.00      0.00      0.00      0.00    377.66      1.00\n",
      "beta_tilde[463]      0.00      0.00      0.00      0.00      0.00    707.06      1.01\n",
      "beta_tilde[464]      0.00      0.00      0.00      0.00      0.00    548.50      1.01\n",
      "beta_tilde[465]      0.00      0.00      0.00      0.00      0.00    721.45      1.00\n",
      "beta_tilde[466]      0.00      0.00      0.00      0.00      0.00    645.19      1.00\n",
      "beta_tilde[467]      0.00      0.00      0.00      0.00      0.00    298.41      1.00\n",
      "beta_tilde[468]      0.00      0.00      0.00      0.00      0.00    682.31      1.00\n",
      "beta_tilde[469]      0.00      0.00      0.00      0.00      0.00    493.23      1.01\n",
      "beta_tilde[470]      0.00      0.00      0.00      0.00      0.00   1046.73      1.00\n",
      "beta_tilde[471]      0.00      0.00      0.00      0.00      0.00   1198.16      1.00\n",
      "beta_tilde[472]      0.00      0.00      0.00      0.00      0.00    371.67      1.00\n",
      "beta_tilde[473]      0.00      0.00      0.00      0.00      0.00    628.39      1.00\n",
      "beta_tilde[474]      0.00      0.00      0.00      0.00      0.00    720.19      1.00\n",
      "beta_tilde[475]      0.00      0.00      0.00      0.00      0.00    803.58      1.00\n",
      "beta_tilde[476]      0.00      0.00      0.00      0.00      0.00    506.88      1.00\n",
      "beta_tilde[477]      0.00      0.00      0.00      0.00      0.00    408.06      1.00\n",
      "beta_tilde[478]      0.00      0.00      0.00      0.00      0.00    791.66      1.00\n",
      "beta_tilde[479]      0.00      0.00      0.00      0.00      0.00    634.85      1.00\n",
      "beta_tilde[480]      0.00      0.00      0.00      0.00      0.00    580.87      1.00\n",
      "beta_tilde[481]      0.00      0.00      0.00      0.00      0.00    307.24      1.00\n",
      "beta_tilde[482]      0.00      0.00      0.00      0.00      0.00    462.14      1.00\n",
      "beta_tilde[483]      0.00      0.00      0.00      0.00      0.00    516.54      1.00\n",
      "beta_tilde[484]      0.00      0.00      0.00      0.00      0.00    339.65      1.00\n",
      "beta_tilde[485]      0.00      0.00      0.00      0.00      0.00    811.03      1.00\n",
      "beta_tilde[486]      0.00      0.00      0.00      0.00      0.00    393.81      1.00\n",
      "beta_tilde[487]      0.00      0.00      0.00      0.00      0.00    322.95      1.01\n",
      "beta_tilde[488]      0.00      0.00      0.00      0.00      0.00    757.27      1.00\n",
      "beta_tilde[489]      0.00      0.00      0.00      0.00      0.00    404.63      1.00\n",
      "beta_tilde[490]      0.00      0.00      0.00      0.00      0.00    498.34      1.00\n",
      "beta_tilde[491]      0.00      0.00      0.00      0.00      0.00    538.13      1.00\n",
      "beta_tilde[492]      0.00      0.00      0.00      0.00      0.00    456.40      1.00\n",
      "beta_tilde[493]      0.00      0.00      0.00      0.00      0.00    530.99      1.00\n",
      "beta_tilde[494]      0.00      0.00      0.00      0.00      0.00    609.96      1.00\n",
      "beta_tilde[495]      0.00      0.00      0.00      0.00      0.00    672.12      1.00\n",
      "beta_tilde[496]      0.00      0.00      0.00      0.00      0.00   1162.73      1.00\n",
      "beta_tilde[497]      0.00      0.00      0.00      0.00      0.00    593.50      1.00\n",
      "beta_tilde[498]      0.00      0.00      0.00      0.00      0.01    498.55      1.00\n",
      "beta_tilde[499]      0.00      0.00      0.00      0.00      0.00    697.57      1.00\n",
      "beta_tilde[500]      0.00      0.00      0.00      0.00      0.00    721.99      1.00\n",
      "beta_tilde[501]      0.00      0.00      0.00      0.00      0.00    595.22      1.00\n",
      "beta_tilde[502]      0.00      0.00      0.00      0.00      0.00    355.43      1.00\n",
      "beta_tilde[503]      0.00      0.00      0.00      0.00      0.00    892.37      1.00\n",
      "beta_tilde[504]      0.00      0.00      0.00      0.00      0.00    887.64      1.00\n",
      "beta_tilde[505]      0.00      0.00      0.00      0.00      0.00    808.08      1.00\n",
      "beta_tilde[506]      0.00      0.00      0.00      0.00      0.00    445.81      1.00\n",
      "beta_tilde[507]      0.00      0.00      0.00      0.00      0.00    603.89      1.00\n",
      "beta_tilde[508]      0.00      0.00      0.00      0.00      0.00    831.44      1.00\n",
      "beta_tilde[509]      0.00      0.00      0.00      0.00      0.00    533.17      1.01\n",
      "beta_tilde[510]      0.00      0.00      0.00      0.00      0.00    357.16      1.00\n",
      "beta_tilde[511]      0.00      0.00      0.00      0.00      0.00    429.15      1.00\n",
      "beta_tilde[512]      0.00      0.00      0.00      0.00      0.00   1124.10      1.00\n",
      "beta_tilde[513]      0.00      0.00      0.00      0.00      0.00    573.95      1.00\n",
      "beta_tilde[514]      0.00      0.00      0.00      0.00      0.00    796.09      1.00\n",
      "beta_tilde[515]      0.00      0.00      0.00      0.00      0.00   1001.07      1.00\n",
      "beta_tilde[516]      0.00      0.00      0.00      0.00      0.00    314.15      1.00\n",
      "beta_tilde[517]      0.00      0.00      0.00      0.00      0.00    519.70      1.01\n",
      "beta_tilde[518]      0.00      0.00      0.00      0.00      0.00    722.45      1.00\n",
      "beta_tilde[519]      0.00      0.00      0.00      0.00      0.00    495.92      1.01\n",
      "beta_tilde[520]      0.00      0.00      0.00      0.00      0.00    936.64      1.00\n",
      "beta_tilde[521]      0.00      0.00      0.00      0.00      0.00    336.62      1.00\n",
      "beta_tilde[522]      0.00      0.00      0.00      0.00      0.00    607.66      1.00\n",
      "beta_tilde[523]      0.00      0.00      0.00      0.00      0.00    370.69      1.00\n",
      "beta_tilde[524]      0.00      0.00      0.00      0.00      0.00    583.62      1.00\n",
      "beta_tilde[525]      0.00      0.00      0.00      0.00      0.00    684.03      1.00\n",
      "beta_tilde[526]      0.00      0.00      0.00      0.00      0.00    442.08      1.00\n",
      "beta_tilde[527]      0.00      0.00      0.00      0.00      0.00    887.97      1.00\n",
      "beta_tilde[528]      0.00      0.00      0.00      0.00      0.00    915.02      1.00\n",
      "beta_tilde[529]      0.00      0.00      0.00      0.00      0.00    439.73      1.00\n",
      "beta_tilde[530]      0.00      0.00      0.00      0.00      0.00    530.01      1.00\n",
      "beta_tilde[531]      0.00      0.00      0.00      0.00      0.00    435.01      1.00\n",
      "beta_tilde[532]      0.00      0.00      0.00      0.00      0.00    419.95      1.00\n",
      "beta_tilde[533]      0.00      0.00      0.00      0.00      0.00    343.31      1.01\n",
      "beta_tilde[534]      0.00      0.00      0.00      0.00      0.00    697.41      1.00\n",
      "beta_tilde[535]      0.00      0.00      0.00      0.00      0.00   1009.45      1.00\n",
      "beta_tilde[536]      0.00      0.00      0.00      0.00      0.00    559.14      1.00\n",
      "beta_tilde[537]      0.00      0.00      0.00      0.00      0.00    772.04      1.00\n",
      "beta_tilde[538]      0.00      0.00      0.00      0.00      0.00   1027.55      1.00\n",
      "beta_tilde[539]      0.00      0.00      0.00      0.00      0.00    565.72      1.00\n",
      "beta_tilde[540]      0.00      0.00      0.00      0.00      0.00    362.43      1.00\n",
      "beta_tilde[541]      0.00      0.00      0.00      0.00      0.00    798.98      1.00\n",
      "beta_tilde[542]      0.00      0.00      0.00      0.00      0.00    470.08      1.00\n",
      "beta_tilde[543]      0.00      0.00      0.00      0.00      0.00    425.54      1.00\n",
      "beta_tilde[544]      0.00      0.00      0.00      0.00      0.00    584.50      1.00\n",
      "beta_tilde[545]      0.00      0.00      0.00      0.00      0.00    538.16      1.00\n",
      "beta_tilde[546]      0.00      0.00      0.00      0.00      0.00    923.46      1.00\n",
      "beta_tilde[547]      0.00      0.00      0.00      0.00      0.00    668.60      1.00\n",
      "beta_tilde[548]      0.00      0.00      0.00      0.00      0.00    332.60      1.00\n",
      "beta_tilde[549]      0.00      0.00      0.00      0.00      0.00    542.46      1.00\n",
      "beta_tilde[550]      0.00      0.00      0.00      0.00      0.01    755.70      1.00\n",
      "beta_tilde[551]      0.09      0.03      0.09      0.04      0.13     99.22      1.00\n",
      "beta_tilde[552]      0.00      0.00      0.00      0.00      0.00    963.17      1.00\n",
      "beta_tilde[553]      0.00      0.00      0.00      0.00      0.00    290.06      1.00\n",
      "beta_tilde[554]      0.00      0.00      0.00      0.00      0.00    334.18      1.00\n",
      "beta_tilde[555]      0.00      0.00      0.00      0.00      0.00    885.95      1.00\n",
      "beta_tilde[556]      0.00      0.00      0.00      0.00      0.00    441.04      1.01\n",
      "beta_tilde[557]      0.00      0.00      0.00      0.00      0.00    305.30      1.00\n",
      "beta_tilde[558]      0.00      0.00      0.00      0.00      0.00    824.83      1.00\n",
      "beta_tilde[559]      0.00      0.00      0.00      0.00      0.00    382.11      1.01\n",
      "beta_tilde[560]      0.00      0.00      0.00      0.00      0.00    676.12      1.00\n",
      "beta_tilde[561]      0.00      0.00      0.00      0.00      0.00    439.22      1.00\n",
      "beta_tilde[562]      0.00      0.00      0.00      0.00      0.00    597.60      1.00\n",
      "beta_tilde[563]      0.00      0.00      0.00      0.00      0.00    479.67      1.00\n",
      "beta_tilde[564]      0.00      0.00      0.00      0.00      0.00    397.72      1.00\n",
      "beta_tilde[565]      0.00      0.00      0.00      0.00      0.00    666.91      1.00\n",
      "beta_tilde[566]      0.00      0.00      0.00      0.00      0.00    944.51      1.00\n",
      "beta_tilde[567]      0.00      0.00      0.00      0.00      0.00    675.35      1.01\n",
      "beta_tilde[568]      0.00      0.00      0.00      0.00      0.00    279.80      1.00\n",
      "beta_tilde[569]      0.00      0.00      0.00      0.00      0.00    386.55      1.00\n",
      "beta_tilde[570]      0.00      0.00      0.00      0.00      0.00    964.13      1.00\n",
      "beta_tilde[571]      0.00      0.00      0.00      0.00      0.00    426.40      1.00\n",
      "beta_tilde[572]      0.00      0.00      0.00      0.00      0.00    501.04      1.00\n",
      "beta_tilde[573]      0.00      0.00      0.00      0.00      0.00   1276.82      1.00\n",
      "beta_tilde[574]      0.00      0.00      0.00      0.00      0.00    759.91      1.00\n",
      "beta_tilde[575]      0.00      0.00      0.00      0.00      0.00    680.25      1.00\n",
      "beta_tilde[576]      0.00      0.00      0.00      0.00      0.00   1020.91      1.00\n",
      "beta_tilde[577]      0.00      0.00      0.00      0.00      0.00    744.33      1.00\n",
      "beta_tilde[578]      0.00      0.00      0.00      0.00      0.00    833.68      1.00\n",
      "beta_tilde[579]      0.00      0.00      0.00      0.00      0.00    420.43      1.00\n",
      "beta_tilde[580]      0.00      0.00      0.00      0.00      0.00    645.69      1.00\n",
      "beta_tilde[581]      0.00      0.00      0.00      0.00      0.00    441.51      1.01\n",
      "beta_tilde[582]      0.00      0.00      0.00      0.00      0.00    909.43      1.00\n",
      "beta_tilde[583]      0.00      0.00      0.00      0.00      0.00    722.30      1.00\n",
      "beta_tilde[584]      0.00      0.00      0.00      0.00      0.00    483.34      1.00\n",
      "beta_tilde[585]      0.00      0.00      0.00      0.00      0.00   1255.73      1.00\n",
      "beta_tilde[586]      0.00      0.00      0.00      0.00      0.00   1131.36      1.00\n",
      "beta_tilde[587]      0.00      0.00      0.00      0.00      0.00   1043.75      1.00\n",
      "beta_tilde[588]      0.00      0.00      0.00      0.00      0.00    461.80      1.00\n",
      "beta_tilde[589]      0.00      0.00      0.00      0.00      0.00    804.13      1.00\n",
      "beta_tilde[590]      0.00      0.00      0.00      0.00      0.00    626.42      1.00\n",
      "beta_tilde[591]      0.00      0.00      0.00      0.00      0.00    505.63      1.00\n",
      "beta_tilde[592]      0.00      0.00      0.00      0.00      0.00    372.23      1.00\n",
      "beta_tilde[593]      0.00      0.00      0.00      0.00      0.00    733.73      1.00\n",
      "beta_tilde[594]      0.00      0.00      0.00      0.00      0.00    646.33      1.00\n",
      "beta_tilde[595]      0.00      0.00      0.00      0.00      0.00    458.41      1.00\n",
      "beta_tilde[596]      0.00      0.00      0.00      0.00      0.00    475.84      1.00\n",
      "beta_tilde[597]      0.00      0.00      0.00      0.00      0.00    344.30      1.00\n",
      "beta_tilde[598]      0.00      0.00      0.00      0.00      0.00    247.91      1.00\n",
      "beta_tilde[599]      0.00      0.00      0.00      0.00      0.00    645.04      1.00\n",
      "beta_tilde[600]      0.00      0.00      0.00      0.00      0.00    420.70      1.00\n",
      "beta_tilde[601]      0.00      0.00      0.00      0.00      0.01    743.52      1.00\n",
      "beta_tilde[602]      0.01      0.01      0.00      0.00      0.01    340.43      1.00\n",
      "beta_tilde[603]      0.01      0.01      0.01      0.00      0.02    243.97      1.00\n",
      "beta_tilde[604]      0.05      0.03      0.05      0.00      0.09     98.83      1.00\n",
      "beta_tilde[605]      0.00      0.00      0.00      0.00      0.00   1053.77      1.00\n",
      "beta_tilde[606]      0.00      0.00      0.00      0.00      0.00    778.65      1.00\n",
      "beta_tilde[607]      0.00      0.00      0.00      0.00      0.00    781.06      1.00\n",
      "beta_tilde[608]      0.00      0.00      0.00      0.00      0.00    509.92      1.01\n",
      "beta_tilde[609]      0.00      0.00      0.00      0.00      0.00    697.98      1.00\n",
      "beta_tilde[610]      0.00      0.00      0.00      0.00      0.00    914.12      1.00\n",
      "beta_tilde[611]      0.00      0.00      0.00      0.00      0.00    579.36      1.00\n",
      "beta_tilde[612]      0.00      0.00      0.00      0.00      0.00   1021.83      1.00\n",
      "beta_tilde[613]      0.00      0.00      0.00      0.00      0.00    808.51      1.00\n",
      "beta_tilde[614]      0.00      0.00      0.00      0.00      0.00    703.96      1.00\n",
      "beta_tilde[615]      0.00      0.00      0.00      0.00      0.00   1047.26      1.00\n",
      "beta_tilde[616]      0.00      0.00      0.00      0.00      0.00    470.31      1.00\n",
      "beta_tilde[617]      0.00      0.00      0.00      0.00      0.00    646.87      1.00\n",
      "beta_tilde[618]      0.00      0.00      0.00      0.00      0.00    737.13      1.00\n",
      "beta_tilde[619]      0.00      0.00      0.00      0.00      0.00    627.84      1.00\n",
      "beta_tilde[620]      0.00      0.00      0.00      0.00      0.00    468.88      1.00\n",
      "beta_tilde[621]      0.00      0.00      0.00      0.00      0.00    876.94      1.00\n",
      "beta_tilde[622]      0.00      0.00      0.00      0.00      0.00    845.83      1.00\n",
      "beta_tilde[623]      0.00      0.00      0.00      0.00      0.00    695.68      1.00\n",
      "beta_tilde[624]      0.00      0.00      0.00      0.00      0.00    940.19      1.00\n",
      "beta_tilde[625]      0.00      0.00      0.00      0.00      0.00    434.75      1.00\n",
      "beta_tilde[626]      0.00      0.00      0.00      0.00      0.00    347.50      1.00\n",
      "beta_tilde[627]      0.00      0.00      0.00      0.00      0.00    880.17      1.00\n",
      "beta_tilde[628]      0.00      0.00      0.00      0.00      0.00    474.97      1.00\n",
      "beta_tilde[629]      0.00      0.00      0.00      0.00      0.00    598.70      1.00\n",
      "beta_tilde[630]      0.00      0.00      0.00      0.00      0.00    610.48      1.00\n",
      "beta_tilde[631]      0.00      0.00      0.00      0.00      0.00    458.76      1.00\n",
      "beta_tilde[632]      0.00      0.00      0.00      0.00      0.00    346.73      1.00\n",
      "beta_tilde[633]      0.00      0.00      0.00      0.00      0.00    764.96      1.00\n",
      "beta_tilde[634]      0.00      0.00      0.00      0.00      0.00   1057.38      1.00\n",
      "beta_tilde[635]      0.00      0.00      0.00      0.00      0.00    600.89      1.00\n",
      "\n",
      "Number of divergences: 1\n"
     ]
    }
   ],
   "source": [
    "beta_tilde_sampler.print_summary()"
   ]
  },
  {
   "cell_type": "markdown",
   "metadata": {},
   "source": [
    "Visualise the diagnostics,"
   ]
  },
  {
   "cell_type": "code",
   "execution_count": 19,
   "metadata": {},
   "outputs": [],
   "source": [
    "beta_tilde_samples = beta_tilde_sampler.get_samples()\n",
    "beta_tilde = np.array(beta_tilde_samples['beta_tilde'])"
   ]
  },
  {
   "cell_type": "markdown",
   "metadata": {},
   "source": [
    "Check that all ESS > 100,"
   ]
  },
  {
   "cell_type": "code",
   "execution_count": 20,
   "metadata": {},
   "outputs": [
    {
     "data": {
      "text/plain": [
       "<matplotlib.lines.Line2D at 0x16dadf5e0>"
      ]
     },
     "execution_count": 20,
     "metadata": {},
     "output_type": "execute_result"
    },
    {
     "data": {
      "image/png": "[encoded data removed]",
      "text/plain": [
       "<Figure size 432x288 with 1 Axes>"
      ]
     },
     "metadata": {
      "needs_background": "light"
     },
     "output_type": "display_data"
    }
   ],
   "source": [
    "plt.hist(diagnostics.effective_sample_size(beta_tilde[np.newaxis,:,:]), bins=50)\n",
    "plt.axvline(100, ls='--', color='k')"
   ]
  },
  {
   "cell_type": "markdown",
   "metadata": {},
   "source": [
    "Check that all r_hat < 1.05,"
   ]
  },
  {
   "cell_type": "code",
   "execution_count": 21,
   "metadata": {},
   "outputs": [
    {
     "data": {
      "text/plain": [
       "<matplotlib.lines.Line2D at 0x16e01c3a0>"
      ]
     },
     "execution_count": 21,
     "metadata": {},
     "output_type": "execute_result"
    },
    {
     "data": {
      "image/png": "[encoded data removed]",
      "text/plain": [
       "<Figure size 432x288 with 1 Axes>"
      ]
     },
     "metadata": {
      "needs_background": "light"
     },
     "output_type": "display_data"
    }
   ],
   "source": [
    "plt.hist(diagnostics.split_gelman_rubin(beta_tilde[np.newaxis,:,:]), bins=50)\n",
    "plt.axvline(1.05, ls='--', color='k')"
   ]
  },
  {
   "cell_type": "markdown",
   "metadata": {},
   "source": [
    "Posterior predictive via projected beta tilde,"
   ]
  },
  {
   "cell_type": "code",
   "execution_count": 22,
   "metadata": {},
   "outputs": [
    {
     "data": {
      "image/png": "[encoded data removed]",
      "text/plain": [
       "<Figure size 432x288 with 2 Axes>"
      ]
     },
     "metadata": {
      "needs_background": "light"
     },
     "output_type": "display_data"
    }
   ],
   "source": [
    "y_smp = svd_mcmc.get_pp_from_beta_tilde_via_lowdim(beta_tilde_samples)\n",
    "_ = svd_mcmc.plot_posterior_predictve(y_smp)"
   ]
  },
  {
   "cell_type": "markdown",
   "metadata": {},
   "source": [
    "Posterior predictive directly from beta tilde,"
   ]
  },
  {
   "cell_type": "code",
   "execution_count": 23,
   "metadata": {},
   "outputs": [
    {
     "data": {
      "image/png": "[encoded data removed]",
      "text/plain": [
       "<Figure size 432x288 with 2 Axes>"
      ]
     },
     "metadata": {
      "needs_background": "light"
     },
     "output_type": "display_data"
    }
   ],
   "source": [
    "y_smp = svd_mcmc.get_pp_from_beta_tilde(beta_tilde_samples)\n",
    "_ = svd_mcmc.plot_posterior_predictve(y_smp)"
   ]
  },
  {
   "cell_type": "markdown",
   "metadata": {},
   "source": [
    "## plot pixel-wise posterior percentiles\n",
    "\n",
    "These show pixel-wise posterior percentiles for beta i.e. the dentity *before* multiplying by the volume element, \n",
    "\n",
    "5th percentile,"
   ]
  },
  {
   "cell_type": "code",
   "execution_count": 24,
   "metadata": {},
   "outputs": [
    {
     "data": {
      "image/png": "[encoded data removed]",
      "text/plain": [
       "<Figure size 432x288 with 1 Axes>"
      ]
     },
     "metadata": {
      "needs_background": "light"
     },
     "output_type": "display_data"
    }
   ],
   "source": [
    "_ = svd_mcmc.plot_pixel_wise_posterior_percentiles(beta_tilde_samples, percentile=5, clim=(0,5e10))"
   ]
  },
  {
   "cell_type": "markdown",
   "metadata": {},
   "source": [
    "median,"
   ]
  },
  {
   "cell_type": "code",
   "execution_count": 25,
   "metadata": {},
   "outputs": [
    {
     "data": {
      "image/png": "[encoded data removed]",
      "text/plain": [
       "<Figure size 432x288 with 1 Axes>"
      ]
     },
     "metadata": {
      "needs_background": "light"
     },
     "output_type": "display_data"
    }
   ],
   "source": [
    "_ = svd_mcmc.plot_pixel_wise_posterior_percentiles(beta_tilde_samples, percentile=50, clim=(0,5e10))"
   ]
  },
  {
   "cell_type": "markdown",
   "metadata": {},
   "source": [
    "95th percentile,"
   ]
  },
  {
   "cell_type": "code",
   "execution_count": 26,
   "metadata": {},
   "outputs": [
    {
     "data": {
      "image/png": "[encoded data removed]",
      "text/plain": [
       "<Figure size 432x288 with 1 Axes>"
      ]
     },
     "metadata": {
      "needs_background": "light"
     },
     "output_type": "display_data"
    }
   ],
   "source": [
    "_ = svd_mcmc.plot_pixel_wise_posterior_percentiles(beta_tilde_samples, percentile=95, clim=(0,5e10))"
   ]
  },
  {
   "cell_type": "markdown",
   "metadata": {},
   "source": [
    "## Save the samples\n",
    "\n",
    "Save the beta samples, i.e. the dentity *before* multiplying by the volume element."
   ]
  },
  {
   "cell_type": "code",
   "execution_count": 27,
   "metadata": {},
   "outputs": [
    {
     "ename": "NameError",
     "evalue": "name 'self' is not defined",
     "output_type": "error",
     "traceback": [
      "\u001b[0;31m---------------------------------------------------------------------------\u001b[0m",
      "\u001b[0;31mNameError\u001b[0m                                 Traceback (most recent call last)",
      "\u001b[0;32m/var/folders/s5/ts6_t97x4lbb7lz292_yv_dw0007l9/T/ipykernel_18813/2615943302.py\u001b[0m in \u001b[0;36m<module>\u001b[0;34m\u001b[0m\n\u001b[0;32m----> 1\u001b[0;31m \u001b[0mbeta\u001b[0m \u001b[0;34m=\u001b[0m \u001b[0mself\u001b[0m\u001b[0;34m.\u001b[0m\u001b[0mget_beta_from_beta_tilde\u001b[0m\u001b[0;34m(\u001b[0m\u001b[0mbeta_tilde_samples\u001b[0m\u001b[0;34m)\u001b[0m\u001b[0;34m\u001b[0m\u001b[0;34m\u001b[0m\u001b[0m\n\u001b[0m\u001b[1;32m      2\u001b[0m \u001b[0mnp\u001b[0m\u001b[0;34m.\u001b[0m\u001b[0msave\u001b[0m\u001b[0;34m(\u001b[0m\u001b[0;34m'm54_mcmc_samples_q15.npy'\u001b[0m\u001b[0;34m,\u001b[0m \u001b[0mbeta\u001b[0m\u001b[0;34m)\u001b[0m\u001b[0;34m\u001b[0m\u001b[0;34m\u001b[0m\u001b[0m\n",
      "\u001b[0;31mNameError\u001b[0m: name 'self' is not defined"
     ]
    }
   ],
   "source": [
    "beta = self.get_beta_from_beta_tilde(beta_tilde_samples)\n",
    "np.save('m54_mcmc_samples_q15.npy', beta)"
   ]
  }
 ],
 "metadata": {
  "kernelspec": {
   "display_name": "Python 3 (ipykernel)",
   "language": "python",
   "name": "python3"
  },
  "language_info": {
   "codemirror_mode": {
    "name": "ipython",
    "version": 3
   },
   "file_extension": ".py",
   "mimetype": "text/x-python",
   "name": "python",
   "nbconvert_exporter": "python",
   "pygments_lexer": "ipython3",
   "version": "3.9.6"
  }
 },
 "nbformat": 4,
 "nbformat_minor": 1
}
