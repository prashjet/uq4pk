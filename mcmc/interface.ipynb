{
 "cells": [
  {
   "cell_type": "markdown",
   "metadata": {
    "collapsed": true,
    "pycharm": {
     "name": "#%% md\n"
    }
   },
   "source": [
    "# Interface tutorial\n",
    "\n",
    "First, we load the stored `ExperimentData` object from the directory \"mcmc/experiment_data\".\n"
   ]
  },
  {
   "cell_type": "code",
   "execution_count": 1,
   "outputs": [],
   "source": [
    "import numpy as np\n",
    "from simulate_data import load_experiment_data\n",
    "\n",
    "data = load_experiment_data(\"experiment_data\")"
   ],
   "metadata": {
    "collapsed": false,
    "pycharm": {
     "name": "#%%\n"
    }
   }
  },
  {
   "cell_type": "markdown",
   "source": [
    "The SNR for the simulated measurement was 2000, but let's check:"
   ],
   "metadata": {
    "collapsed": false,
    "pycharm": {
     "name": "#%% md\n"
    }
   }
  },
  {
   "cell_type": "code",
   "execution_count": 2,
   "outputs": [
    {
     "data": {
      "text/plain": "2000.0"
     },
     "execution_count": 2,
     "metadata": {},
     "output_type": "execute_result"
    }
   ],
   "source": [
    "data.snr"
   ],
   "metadata": {
    "collapsed": false,
    "pycharm": {
     "name": "#%%\n"
    }
   }
  },
  {
   "cell_type": "markdown",
   "source": [
    "We can access the noisy measurement $y$ and standard deviations $\\sigma_y$ (I used constant\n",
    "standard deviations for the simulation):"
   ],
   "metadata": {
    "collapsed": false,
    "pycharm": {
     "name": "#%% md\n"
    }
   }
  },
  {
   "cell_type": "code",
   "execution_count": null,
   "outputs": [],
   "source": [
    "y = data.y\n",
    "y_sd = data.y_sd\n",
    "\n",
    "from matplotlib import pyplot as plt\n",
    "%matplotlib inline\n",
    "\n",
    "fig, (ax1, ax2) = plt.subplots(ncols=2)\n",
    "ax1.plot(data.ssps.w, y)\n",
    "ax2.plot(data.ssps.w, y_sd)\n",
    "ax1.set_xlabel('$\\ln \\lambda$')\n",
    "ax1.set_ylabel('$y$')\n",
    "ax2.set_xlabel('$\\ln \\lambda$')\n",
    "ax2.set_ylabel(\"$\\sigma_{y}$\")\n",
    "fig.set_size_inches(10, 4)\n",
    "plt.tight_layout()\n",
    "plt.show()\n"
   ],
   "metadata": {
    "collapsed": false,
    "pycharm": {
     "name": "#%%\n"
    }
   }
  },
  {
   "cell_type": "markdown",
   "source": [
    "The ground truth $f$ for the distribution function is given by\n",
    "`experiment_data.f`."
   ],
   "metadata": {
    "collapsed": false
   }
  },
  {
   "cell_type": "code",
   "execution_count": null,
   "outputs": [],
   "source": [
    "from uq4pk_fit.visualization import plot_distribution_function\n",
    "\n",
    "f = data.f_true\n",
    "f_im = f.reshape((12, 53))\n",
    "plot_distribution_function(image=f_im, ssps=data.ssps)\n"
   ],
   "metadata": {
    "collapsed": false,
    "pycharm": {
     "name": "#%%\n"
    }
   }
  },
  {
   "cell_type": "markdown",
   "source": [
    "Next, we set up our statistical model. It is of the general form\n",
    "\n",
    "$\\begin{align}\n",
    "\\mathbf{y} &= \\mathcal G(\\mathbf{f}, \\boldsymbol{\\theta}_v) + \\boldsymbol{\\eta}, \\\\\n",
    "\\mathbf{\\eta} & \\sim \\mathcal N(\\mathbf{0}, \\boldsymbol{\\sigma}_{\\mathbf{y}}^2), \\\\\n",
    "\\mathbf f &\\sim \\mathcal N_{\\geq  \\mathbf{0}}(\\bar{\\mathbf f}, \\boldsymbol{\\Sigma}_1),\n",
    "\\quad \\boldsymbol\\Sigma_1 = \\frac{1}{\\beta_1}  (\\mathbf P_1 \\mathbf P_1^\\top)^{-1},\\\\\n",
    " \\boldsymbol{\\theta}_v &\\sim \\mathcal N(\\bar{\\boldsymbol \\theta}_v, \\boldsymbol\\Sigma_2), \\quad\n",
    "\\boldsymbol\\Sigma_2 = \\frac{1}{\\beta_2} (\\mathbf P_2 \\mathbf P_2^\\top)^{-1}.\n",
    "\\end{align}$\n",
    "\n",
    "Here, $\\mathcal G$ is our forward operator and $\\mathcal N_{\\geq \\mathbf 0}$ denotes the truncated normal distribution.\n",
    "\n",
    "The forward operator is implemented in the class [ForwardOperator](../uq4pk_fit/inference/forward_operator.py).\n",
    "It is accessible through the `get_forward_operator`-method:"
   ],
   "metadata": {
    "collapsed": false
   }
  },
  {
   "cell_type": "code",
   "execution_count": null,
   "outputs": [],
   "source": [
    "forward_operator = data.get_forward_operator()\n"
   ],
   "metadata": {
    "collapsed": false,
    "pycharm": {
     "name": "#%%\n"
    }
   }
  },
  {
   "cell_type": "markdown",
   "source": [
    "We initialize the model as follows:"
   ],
   "metadata": {
    "collapsed": false,
    "pycharm": {
     "name": "#%% md\n"
    }
   }
  },
  {
   "cell_type": "code",
   "execution_count": null,
   "outputs": [],
   "source": [
    "from uq4pk_fit.inference import StatModel\n",
    "\n",
    "model = StatModel(y=y, y_sd=y_sd, forward_operator=forward_operator)"
   ],
   "metadata": {
    "collapsed": false,
    "pycharm": {
     "name": "#%%\n"
    }
   }
  },
  {
   "cell_type": "markdown",
   "source": [
    "The initialization sets all model parameters like $\\bar{\\mathbf f}$, $\\beta_1$, ...,\n",
    "to default values. The default values are accessible through the object `model`.\n",
    "\n",
    "Let me list the default choices:\n",
    "\n",
    "- $\\beta_1 = \\mathrm{snr} \\cdot 1000$.\n",
    "This is just a rule-of-thumb that I found to work reasonably well for the experiments.\n",
    "- $\\bar{\\mathbf f} = \\mathbf 0$.\n",
    "- The covariance matrix $\\boldsymbol\\Sigma_1$ for the distribution function is an Ornstein-Uhlenbeck covariance.\n",
    "- I performed all the experiments with $\\theta_v$ fixed at its true value, so that our model reduces\n",
    "to a linear one.\n",
    "\n",
    "All the relevant parameters can be accessed as follows:"
   ],
   "metadata": {
    "collapsed": false,
    "pycharm": {
     "name": "#%% md\n"
    }
   }
  },
  {
   "cell_type": "code",
   "execution_count": null,
   "outputs": [],
   "source": [
    "beta1 = model.beta1     # The regularization parameter for f.\n",
    "P1 = model.P1.mat       # The matrix corresponding to the regularization operator for f.\n",
    "f_bar = model.f_bar     # The prior mean for f.\n",
    "# In particular, the covariance matrix for f is given by\n",
    "Sigma_1 = (1/beta1) * P1 @ P1.T"
   ],
   "metadata": {
    "collapsed": false,
    "pycharm": {
     "name": "#%%\n"
    }
   }
  },
  {
   "cell_type": "markdown",
   "source": [
    "Furthermore, I performed the experiments under the normalization-assumption. That is, I\n",
    "assumed that $\\mathbf f$ is normalized:\n",
    "\n",
    "$ \\sum_i f_i = 1.$\n",
    "\n",
    "## Dealing with equality constraints\n",
    "\n",
    "If the MCMC-method has no direct way of addressing the equality-constraint, one can use\n",
    "a linear transformation to reparametrize the model into an equivalent model that\n",
    "automatically incorporates the equality constraint. The trick is to apply a QR decomposition\n",
    "to the constraint equation\n",
    "\n",
    "$\n",
    "\\mathbf{C} \\mathbf{f} = 1, \\quad \\text{where } \\mathbf C = \\begin{bmatrix} 1 & 1 & \\ldots & 1 \\end{bmatrix}.\n",
    "$\n",
    "\n",
    "That is, let\n",
    "\n",
    "$\n",
    "\\mathbf{C}^\\top = \\mathbf{Q} \\mathbf{R} =\n",
    "\\begin{bmatrix} \\mathbf{Q}_1 & \\mathbf{Q}_2 \\end{bmatrix}\n",
    "\\begin{bmatrix} r_1 \\\\ \\mathbf{0}_{n - 1} \\end{bmatrix}\n",
    "$\n",
    "\n",
    "\n",
    "where $n = \\mathrm{dim}(\\mathbf f)$. If we define\n",
    "\n",
    "$\n",
    "\\begin{bmatrix}\n",
    "q_1 \\\\ q_2\n",
    "\\end{bmatrix} := \\mathbf{Q}^\\top \\mathbf f =\n",
    "\\begin{bmatrix} \\mathbf Q_1^\\top \\mathbf f \\\\ \\mathbf Q_2^\\top \\mathbf f \\end{bmatrix}\n",
    "$\n",
    "\n",
    "and insert this into the constraint equation, we obtain\n",
    "\n",
    "$\n",
    "\\mathbf C \\mathbf f = 1, \\quad \\Leftrightarrow \\quad \\mathbf R^\\top \\mathbf Q^\\top \\mathbf f = 1\n",
    "\\quad \\Leftrightarrow \\quad q_1 r_1 = 1.\n",
    "$\n",
    "\n",
    "That is, we satisfy the constraint by setting $q_1 = \\frac{1}{r_1}$. The parameter $\\mathbf q_2 \\in \\mathbb{R}^{n-1}$\n",
    "is now unconstrained, and we can translate our statistical model for $\\mathbf f$ to an equivalent statistical\n",
    "model for $\\mathbf q_2$ using the relation $\\mathbf q_2 = \\mathbf Q_2^\\top \\mathbf f$\n",
    "(treating the parameter $\\boldsymbol{\\theta}_v$ as given):\n",
    "\n",
    "$\\begin{align}\n",
    "\\mathbf{y} &= \\mathcal G(\\mathbf{f}, \\boldsymbol{\\theta}_v) + \\boldsymbol{\\eta}, \\\\\n",
    "\\mathbf{\\eta} & \\sim \\mathcal N(\\mathbf{0}, \\boldsymbol{\\sigma}_{\\mathbf{y}}^2), \\\\\n",
    "\\mathbf f & = \\mathbf f_1 + \\mathbf Q_2 \\mathbf q_2, \\quad \\mathbf f_1 = \\mathbf Q_1 q_1, \\\\\n",
    "\\mathbf q_2 & \\sim \\mathcal{N}_{\\mathbf Q_2 \\mathbf q_2 \\geq - \\mathbf f_1}\n",
    "(\\bar{\\mathbf q}_2, \\mathbf \\Sigma_{\\mathbf q_2}),\n",
    "\\quad \\bar{\\mathbf q}_2 = \\mathbf Q_2^\\top \\bar{\\mathbf f},\n",
    "\\qquad \\mathbf \\Sigma_{\\mathbf q_2} = \\mathbf Q_2^\\top \\mathbf \\Sigma_1 \\mathbf Q_2.\n",
    "\\end{align}$\n",
    "\n",
    "\n",
    "Here, $\\mathcal N_{\\mathbf Q_2 \\mathbf q_2 \\geq - \\mathbf f_1}$ denotes the multivariate Gaussian truncated to\n",
    "the set $\\{\\mathbf q_2 | \\mathbf Q_2 \\mathbf q_2 \\geq - \\mathbf f_1 \\}$.\n"
   ],
   "metadata": {
    "collapsed": false,
    "pycharm": {
     "name": "#%% md\n"
    }
   }
  }
 ],
 "metadata": {
  "kernelspec": {
   "display_name": "Python 3",
   "language": "python",
   "name": "python3"
  },
  "language_info": {
   "codemirror_mode": {
    "name": "ipython",
    "version": 2
   },
   "file_extension": ".py",
   "mimetype": "text/x-python",
   "name": "python",
   "nbconvert_exporter": "python",
   "pygments_lexer": "ipython2",
   "version": "2.7.6"
  }
 },
 "nbformat": 4,
 "nbformat_minor": 0
}