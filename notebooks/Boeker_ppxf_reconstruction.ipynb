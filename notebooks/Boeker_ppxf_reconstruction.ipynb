{
 "cells": [
  {
   "cell_type": "code",
   "execution_count": 1,
   "id": "2a8080aa",
   "metadata": {},
   "outputs": [],
   "source": [
    "import sys\n",
    "sys.path.append('../')\n",
    "\n",
    "import numpy as np\n",
    "import matplotlib.pyplot as plt\n",
    "import uq4pk_src\n",
    "\n",
    "from matplotlib.colors import LogNorm"
   ]
  },
  {
   "cell_type": "code",
   "execution_count": 2,
   "id": "7a7d13ec",
   "metadata": {},
   "outputs": [],
   "source": [
    "m54_data = uq4pk_src.data.M54()"
   ]
  },
  {
   "cell_type": "code",
   "execution_count": 3,
   "id": "afa9f366",
   "metadata": {},
   "outputs": [],
   "source": [
    "def orient_image(f):\n",
    "    image = np.flipud(f.T)\n",
    "    return image"
   ]
  },
  {
   "cell_type": "code",
   "execution_count": 4,
   "id": "f783d9bf",
   "metadata": {},
   "outputs": [],
   "source": [
    "ssps = uq4pk_src.model_grids.MilesSSP(\n",
    "    miles_mod_directory='EMILES_BASTI_BASE_BI_FITS',\n",
    "    imf_string='Ebi1.30',\n",
    "    lmd_min=None,\n",
    "    lmd_max=None,\n",
    "    )"
   ]
  },
  {
   "cell_type": "code",
   "execution_count": 5,
   "id": "5921d61d",
   "metadata": {},
   "outputs": [],
   "source": [
    "ppxf_sol_shifted = m54_data.ppxf_map_solution + 1e-8"
   ]
  },
  {
   "cell_type": "code",
   "execution_count": 6,
   "id": "cdb9a214",
   "metadata": {},
   "outputs": [
    {
     "data": {
      "text/plain": [
       "[Text(0, 0.08974358974358979, '-2'),\n",
       " Text(0, 0.3638888888888889, '-1'),\n",
       " Text(0, 0.7062499999999999, '0')]"
      ]
     },
     "execution_count": 6,
     "metadata": {},
     "output_type": "execute_result"
    },
    {
     "data": {
      "image/png": "[encoded data removed]",
      "text/plain": [
       "<Figure size 432x180 with 2 Axes>"
      ]
     },
     "metadata": {
      "needs_background": "light"
     },
     "output_type": "display_data"
    }
   ],
   "source": [
    "fig, ax = plt.subplots(1, 1, figsize=(6, 2.5))\n",
    "\n",
    "# plot with extent [0,1] in x- and y- dimension\n",
    "# this is needed for correct axis tick labels\n",
    "img = ax.imshow(\n",
    "    orient_image(ppxf_sol_shifted),\n",
    "    extent=(0,1,0,1),\n",
    "    aspect='auto',\n",
    "    cmap=plt.cm.magma,\n",
    "    norm=LogNorm()\n",
    ")\n",
    "\n",
    "# set colorbar\n",
    "cbar = plt.colorbar(img)\n",
    "cbar.set_ticks([])\n",
    "cbar.set_label('density')\n",
    "\n",
    "# label axes\n",
    "ax.set_xlabel('Age [Gyr]')\n",
    "ax.set_ylabel('Metallicity [Z/H]')\n",
    "\n",
    "# set x-axis tick labels\n",
    "ax.set_xticks(ssps.img_t_ticks)\n",
    "ax.set_xticklabels(ssps.t_ticks)\n",
    "\n",
    "# set y-axis tick labels\n",
    "ax.set_yticks(ssps.img_z_ticks)\n",
    "ax.set_yticklabels(ssps.z_ticks)"
   ]
  },
  {
   "cell_type": "markdown",
   "id": "2f1591c9",
   "metadata": {},
   "source": [
    "But this is mass. Let's convert to density.\n",
    "\n",
    "First get and orient the volume elements,"
   ]
  },
  {
   "cell_type": "code",
   "execution_count": 7,
   "id": "29c0a4d4",
   "metadata": {},
   "outputs": [],
   "source": [
    "dvol = ssps.delta_t[:,np.newaxis] * ssps.delta_z[np.newaxis,:]"
   ]
  },
  {
   "cell_type": "code",
   "execution_count": 8,
   "id": "69258161",
   "metadata": {},
   "outputs": [
    {
     "data": {
      "text/plain": [
       "<matplotlib.colorbar.Colorbar at 0x1652a5bb0>"
      ]
     },
     "execution_count": 8,
     "metadata": {},
     "output_type": "execute_result"
    },
    {
     "data": {
      "image/png": "[encoded data removed]",
      "text/plain": [
       "<Figure size 432x288 with 2 Axes>"
      ]
     },
     "metadata": {
      "needs_background": "light"
     },
     "output_type": "display_data"
    }
   ],
   "source": [
    "plt.imshow(\n",
    "    orient_image(dvol),\n",
    "    extent=(0,1,0,1),\n",
    "    aspect='auto',\n",
    "    cmap=plt.cm.magma\n",
    ")\n",
    "plt.colorbar()"
   ]
  },
  {
   "cell_type": "markdown",
   "id": "7b0538c4",
   "metadata": {},
   "source": [
    "Then divide mass by vol. element to get density,"
   ]
  },
  {
   "cell_type": "code",
   "execution_count": 9,
   "id": "c4c1d6de",
   "metadata": {},
   "outputs": [
    {
     "data": {
      "image/png": "[encoded data removed]",
      "text/plain": [
       "<Figure size 432x180 with 2 Axes>"
      ]
     },
     "metadata": {
      "needs_background": "light"
     },
     "output_type": "display_data"
    }
   ],
   "source": [
    "fig, ax = plt.subplots(1, 1, figsize=(6, 2.5))\n",
    "\n",
    "img = ax.imshow(\n",
    "    orient_image(ppxf_sol_shifted/dvol),\n",
    "    extent=(0,1,0,1),\n",
    "    aspect='auto',\n",
    "    cmap=plt.cm.magma,\n",
    "    norm=LogNorm(vmin=1e-1)\n",
    ")\n",
    "\n",
    "# set colorbar\n",
    "cbar = plt.colorbar(img)\n",
    "cbar.set_ticks([])\n",
    "cbar.set_label('density')\n",
    "\n",
    "# label axes\n",
    "ax.set_xlabel('Age [Gyr]')\n",
    "ax.set_ylabel('Metallicity [Z/H]')\n",
    "\n",
    "# set x-axis tick labels\n",
    "ax.set_xticks(ssps.img_t_ticks)\n",
    "ax.set_xticklabels(ssps.t_ticks)\n",
    "\n",
    "# set y-axis tick labels\n",
    "ax.set_yticks(ssps.img_z_ticks)\n",
    "ax.set_yticklabels(ssps.z_ticks)\n",
    "\n",
    "fig.tight_layout()\n",
    "\n",
    "fig.savefig('paper_plots/boeker_ppxf_reconstruction.png', dpi=300)"
   ]
  }
 ],
 "metadata": {
  "kernelspec": {
   "display_name": "Python 3 (ipykernel)",
   "language": "python",
   "name": "python3"
  },
  "language_info": {
   "codemirror_mode": {
    "name": "ipython",
    "version": 3
   },
   "file_extension": ".py",
   "mimetype": "text/x-python",
   "name": "python",
   "nbconvert_exporter": "python",
   "pygments_lexer": "ipython3",
   "version": "3.9.6"
  }
 },
 "nbformat": 4,
 "nbformat_minor": 5
}
