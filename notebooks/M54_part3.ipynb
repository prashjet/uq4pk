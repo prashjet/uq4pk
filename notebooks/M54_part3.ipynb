{
 "cells": [
  {
   "cell_type": "markdown",
   "source": [
    "M54 data - Part 3\n",
    "=================\n",
    "\n",
    "First, we set up the data:"
   ],
   "metadata": {
    "collapsed": false
   }
  },
  {
   "cell_type": "code",
   "execution_count": 187,
   "outputs": [
    {
     "name": "stdout",
     "output_type": "stream",
     "text": [
      "\n",
      "Spectres: new_wavs contains values outside the range in spec_wavs, new_fluxes and new_errs will be filled with the value set in the 'fill' keyword argument. \n",
      "\n"
     ]
    }
   ],
   "source": [
    "import numpy as np\n",
    "import matplotlib.pyplot as plt\n",
    "import uq4pk_src\n",
    "\n",
    "m54_data = uq4pk_src.data.M54()\n",
    "m54_data.logarithmically_resample(dv=50.)\n",
    "\n",
    "ssps = uq4pk_src.model_grids.MilesSSP(\n",
    "    miles_mod_directory='EMILES_BASTI_BASE_BI_FITS',\n",
    "    imf_string='Ebi1.30',\n",
    "    lmd_min=None,\n",
    "    lmd_max=None,\n",
    "    )\n",
    "ssps.resample_spectra(m54_data.lmd)\n",
    "# normalise the SSP templates to be light-weighted rather than mass-weighted,\n",
    "ssps.Xw /= np.sum(ssps.Xw, 0)\n",
    "ssps.dv = m54_data.dv\n",
    "ssps.speed_of_light = m54_data.speed_of_light"
   ],
   "metadata": {
    "collapsed": false,
    "pycharm": {
     "name": "#%%\n"
    }
   }
  },
  {
   "cell_type": "markdown",
   "source": [
    "Let us make a function that brings the fitted distribution function in the correct orientation."
   ],
   "metadata": {
    "collapsed": false
   }
  },
  {
   "cell_type": "code",
   "execution_count": 188,
   "outputs": [],
   "source": [
    "%matplotlib inline\n",
    "\n",
    "def orient_image(f):\n",
    "    \"\"\"\n",
    "    Transform the distribution function that goes into observation operator into an image\n",
    "    that has the correct orientation for visualisation.\n",
    "    \"\"\"\n",
    "    image = f\n",
    "    # Have to flip.\n",
    "    image = np.flipud(image)\n",
    "    return image"
   ],
   "metadata": {
    "collapsed": false,
    "pycharm": {
     "name": "#%%\n"
    }
   }
  },
  {
   "cell_type": "markdown",
   "source": [
    "Recreating the PPXF fit\n",
    "-----------------------\n",
    "\n",
    "Next, we fit the data using ``ppxf``"
   ],
   "metadata": {
    "collapsed": false
   }
  },
  {
   "cell_type": "code",
   "execution_count": 189,
   "outputs": [
    {
     "name": "stdout",
     "output_type": "stream",
     "text": [
      " Best Fit:       Vel     sigma        h3        h4\n",
      " comp.  0:       146         3    -0.008    -0.003\n",
      "chi2/DOF: 1.143; degree = -1; mdegree = 10\n",
      "method = capfit; Jac calls: 9; Func calls: 139; Status: 2\n",
      "linear_method = lsq_box; Nonzero Templates (>0.1%):  4 / 636\n"
     ]
    }
   ],
   "source": [
    "from ppxf import ppxf\n",
    "\n",
    "npix_buffer_mask = 20\n",
    "m54_data.mask[:npix_buffer_mask] = False\n",
    "m54_data.mask[-npix_buffer_mask:] = False\n",
    "\n",
    "templates = ssps.Xw\n",
    "galaxy = m54_data.y\n",
    "noise = m54_data.noise_level\n",
    "velscale = ssps.dv\n",
    "start = [0., 30., 0., 0.]\n",
    "bounds = [[-500,500], [3,300.], [-0.3,0.3], [-0.3,0.3]]\n",
    "moments = 4\n",
    "mask = m54_data.mask\n",
    "\n",
    "# final pixel is NAN, breaks PPXF even though this is masked, so remove it here manually\n",
    "templates = templates[:-1,:]\n",
    "galaxy = galaxy[:-1]\n",
    "noise = noise[:-1]\n",
    "mask = mask[:-1]\n",
    "\n",
    "ppxf_fit = ppxf.ppxf(\n",
    "    templates,\n",
    "    galaxy,\n",
    "    noise,\n",
    "    velscale,\n",
    "    start=start,\n",
    "    degree=-1,\n",
    "    mdegree=10,\n",
    "    moments=moments,\n",
    "    bounds=bounds,\n",
    "    regul=0,\n",
    "    mask=mask\n",
    ")\n",
    "\n",
    "f_ppxf = np.reshape(ppxf_fit.weights, ssps.par_dims)"
   ],
   "metadata": {
    "collapsed": false,
    "pycharm": {
     "name": "#%%\n"
    }
   }
  },
  {
   "cell_type": "markdown",
   "source": [
    "Next, we compute the MAP estimate from our Bayesian model:\n",
    "\n",
    "First, correct the templates using the fitted polynomial."
   ],
   "metadata": {
    "collapsed": false
   }
  },
  {
   "cell_type": "code",
   "execution_count": 190,
   "outputs": [],
   "source": [
    "continuum_distorition = ppxf_fit.mpoly\n",
    "# add an extra element to the end of array to account for one that we chopped off earlier\n",
    "continuum_distorition = np.concatenate([continuum_distorition, [continuum_distorition[-1]]])\n",
    "\n",
    "import copy\n",
    "ssps_corrected = copy.deepcopy(ssps)\n",
    "ssps_corrected.Xw = (ssps_corrected.Xw.T * continuum_distorition).T"
   ],
   "metadata": {
    "collapsed": false,
    "pycharm": {
     "name": "#%%\n"
    }
   }
  },
  {
   "cell_type": "markdown",
   "source": [
    "Adapt the observation operator:"
   ],
   "metadata": {
    "collapsed": false
   }
  },
  {
   "cell_type": "code",
   "execution_count": 191,
   "outputs": [
    {
     "name": "stdout",
     "output_type": "stream",
     "text": [
      "Distribution functions should have shape (12, 53)\n",
      "Distribution functions should have shape (12, 53)\n"
     ]
    }
   ],
   "source": [
    "from uq4pk_src.observation_operator import ObservationOperator\n",
    "G = ObservationOperator(ssps=ssps_corrected,\n",
    "                        dv=ssps_corrected.dv,\n",
    "                        do_log_resample=False)\n",
    "G_orig = ObservationOperator(ssps=ssps, dv=ssps.dv, do_log_resample=False)"
   ],
   "metadata": {
    "collapsed": false,
    "pycharm": {
     "name": "#%%\n"
    }
   }
  },
  {
   "cell_type": "markdown",
   "source": [
    "We set $\\theta_v$ equal to the PPXF fit. We have to invert the sign of $h_3$."
   ],
   "metadata": {
    "collapsed": false
   }
  },
  {
   "cell_type": "code",
   "execution_count": 192,
   "outputs": [],
   "source": [
    "theta_v = np.array([146, 3, 1., 0., 0., 0.008, -0.003])"
   ],
   "metadata": {
    "collapsed": false,
    "pycharm": {
     "name": "#%%\n"
    }
   }
  },
  {
   "cell_type": "markdown",
   "source": [
    "Rescale the data."
   ],
   "metadata": {
    "collapsed": false
   }
  },
  {
   "cell_type": "code",
   "execution_count": 193,
   "outputs": [],
   "source": [
    "mask = m54_data.mask\n",
    "y = m54_data.y[mask]\n",
    "y_sd = m54_data.noise_level[mask]\n",
    "\n",
    "ppxf_scale = np.linalg.norm(f_ppxf)\n",
    "s = ppxf_scale\n",
    "y_scaled = y / s\n",
    "y_sd_scaled = y_sd / s"
   ],
   "metadata": {
    "collapsed": false,
    "pycharm": {
     "name": "#%%\n"
    }
   }
  },
  {
   "cell_type": "markdown",
   "source": [
    "With this, lets compute the MAP estimate for $g = f / s$."
   ],
   "metadata": {
    "collapsed": false
   }
  },
  {
   "cell_type": "code",
   "execution_count": 194,
   "outputs": [
    {
     "name": "stdout",
     "output_type": "stream",
     "text": [
      "Distribution functions should have shape (12, 53)\n"
     ]
    },
    {
     "name": "stderr",
     "output_type": "stream",
     "text": [
      "\n",
      "\n",
      "Starting the constrained Gauss-Newton method. Cost at starting value: 5293.523736511346\n",
      "+-----------+-------------------------+-------------------------+-------------------------+-------------------------+-------------------------+\n",
      "| Iteration | Cost                    | Constraint violation    | Stepsize (||p||)        | Steplength (h)          | Computation time [s]    |\n",
      "+-----------+-------------------------+-------------------------+-------------------------+-------------------------+-------------------------+\n",
      "+-----------+-------------------------+-------------------------+-------------------------+-------------------------+-------------------------+\n",
      "|     1     |    0.7550108452560469   |  1.3157704092936484e-13 |    9.558396769562965    |           1.0           |    1.0869946479797363   |\n",
      "+-----------+-------------------------+-------------------------+-------------------------+-------------------------+-------------------------+\n",
      "|     2     |    0.7550108452560472   |  1.3131836321347494e-13 |  3.7641628076860904e-10 |           1.0           |    1.0275702476501465   |\n",
      "+-----------+-------------------------+-------------------------+-------------------------+-------------------------+-------------------------+\n",
      "|     3     |    0.7550108452560473   |  1.303626119814977e-13  |  6.524071166636742e-13  |           1.0           |    1.0124061107635498   |\n",
      "+-----------+-------------------------+-------------------------+-------------------------+-------------------------+-------------------------+\n",
      "|     4     |    0.7550108452560472   |  1.3054181901997648e-13 |   9.70046810791131e-13  |           0.25          |    1.024911642074585    |\n",
      "+-----------+-------------------------+-------------------------+-------------------------+-------------------------+-------------------------+\n",
      "The iteration converged successfully after 4 steps.\n",
      "Minimum of cost function: 0.7550108452560472\n"
     ]
    },
    {
     "data": {
      "text/plain": "<matplotlib.image.AxesImage at 0x7f755a1c3c10>"
     },
     "execution_count": 194,
     "metadata": {},
     "output_type": "execute_result"
    },
    {
     "data": {
      "text/plain": "<Figure size 432x288 with 1 Axes>",
      "image/png": "[encoded data removed]"
     },
     "metadata": {
      "needs_background": "light"
     },
     "output_type": "display_data"
    }
   ],
   "source": [
    "%matplotlib inline\n",
    "\n",
    "from uq4pk_fit.inference import ForwardOperator, StatModel\n",
    "\n",
    "\n",
    "forward_operator = ForwardOperator(hermite_order=4, mask=mask, ssps=ssps_corrected, dv=ssps_corrected.dv,\n",
    "                                   do_log_resample=False)\n",
    "# Fit the model\n",
    "model = StatModel(y=y_scaled, y_sd=y_sd_scaled, forward_operator=forward_operator)\n",
    "model.fix_theta_v(indices=np.arange(model.dim_theta), values=theta_v)\n",
    "model.beta1 = 10.\n",
    "fitted_model = model.fit()\n",
    "g_map = fitted_model.f_map\n",
    "f_map = s * g_map.clip(min=0.)  # Enforce nonnegativity\n",
    "\n",
    "im_map = orient_image(f_map)\n",
    "plt.imshow(im_map)\n"
   ],
   "metadata": {
    "collapsed": false,
    "pycharm": {
     "name": "#%%\n"
    }
   }
  },
  {
   "cell_type": "markdown",
   "source": [
    "Also, compute the unregularized (maximum likelihood) fit."
   ],
   "metadata": {
    "collapsed": false
   }
  },
  {
   "cell_type": "code",
   "execution_count": 195,
   "outputs": [
    {
     "name": "stderr",
     "output_type": "stream",
     "text": [
      "\n",
      "\n",
      "Starting the constrained Gauss-Newton method. Cost at starting value: 5293.523736436733\n",
      "+-----------+-------------------------+-------------------------+-------------------------+-------------------------+-------------------------+\n",
      "| Iteration | Cost                    | Constraint violation    | Stepsize (||p||)        | Steplength (h)          | Computation time [s]    |\n",
      "+-----------+-------------------------+-------------------------+-------------------------+-------------------------+-------------------------+\n",
      "+-----------+-------------------------+-------------------------+-------------------------+-------------------------+-------------------------+\n",
      "|     1     |    0.621242708712421    |  3.835845510582331e-10  |    124.40868367898906   |           1.0           |    1.2043180465698242   |\n",
      "+-----------+-------------------------+-------------------------+-------------------------+-------------------------+-------------------------+\n",
      "|     2     |    0.6212427087124208   |   3.8291137078063e-10   |  7.212280198985817e-10  |           1.0           |    1.218409538269043    |\n",
      "+-----------+-------------------------+-------------------------+-------------------------+-------------------------+-------------------------+\n",
      "The iteration converged successfully after 2 steps.\n",
      "Minimum of cost function: 0.6212427087124208\n"
     ]
    }
   ],
   "source": [
    "model.beta1 = 1e-12\n",
    "\n",
    "fitted_model_unregularized = model.fit()\n",
    "g_ml = fitted_model_unregularized.f_map\n",
    "f_ml = s * g_ml.clip(min=0.)"
   ],
   "metadata": {
    "collapsed": false,
    "pycharm": {
     "name": "#%%\n"
    }
   }
  },
  {
   "cell_type": "markdown",
   "source": [
    "After a week of trial and error, Prashin noted that there is a significant difference\n",
    "between our observation operator and the PPXF fit that has to do with the age-metallicity\n",
    "volume elements. In order to make the estimates from our custom implementation comparable with the PPXF fit,\n",
    "we have to perform the following rescaling:"
   ],
   "metadata": {
    "collapsed": false
   }
  },
  {
   "cell_type": "code",
   "execution_count": 196,
   "outputs": [],
   "source": [
    "delta_zt = ssps.delta_z[:, np.newaxis] * ssps.delta_t[np.newaxis]\n",
    "\n",
    "f_map_scaled = delta_zt * f_map\n",
    "f_ml_scaled = delta_zt * f_ml"
   ],
   "metadata": {
    "collapsed": false,
    "pycharm": {
     "name": "#%%\n"
    }
   }
  },
  {
   "cell_type": "markdown",
   "source": [
    "Finally, let us compare the images:"
   ],
   "metadata": {
    "collapsed": false
   }
  },
  {
   "cell_type": "code",
   "execution_count": 197,
   "outputs": [
    {
     "data": {
      "text/plain": "<Figure size 432x288 with 1 Axes>",
      "image/png": "[encoded data removed]"
     },
     "metadata": {
      "needs_background": "light"
     },
     "output_type": "display_data"
    },
    {
     "data": {
      "text/plain": "<Figure size 432x288 with 1 Axes>",
      "image/png": "[encoded data removed]"
     },
     "metadata": {
      "needs_background": "light"
     },
     "output_type": "display_data"
    },
    {
     "data": {
      "text/plain": "<Figure size 432x288 with 1 Axes>",
      "image/png": "[encoded data removed]"
     },
     "metadata": {
      "needs_background": "light"
     },
     "output_type": "display_data"
    }
   ],
   "source": [
    "im_ppxf = orient_image(f_ppxf)\n",
    "im_map = orient_image(f_map_scaled)\n",
    "im_ml = orient_image(f_ml_scaled)\n",
    "\n",
    "plt.imshow(im_ppxf)\n",
    "plt.title(\"PPXF fit\")\n",
    "plt.show()\n",
    "\n",
    "plt.imshow(im_ml)\n",
    "plt.title(\"Maximum likelihood fit\")\n",
    "plt.show()\n",
    "\n",
    "plt.imshow(im_map)\n",
    "plt.title(\"MAP fit\")\n",
    "plt.show()"
   ],
   "metadata": {
    "collapsed": false,
    "pycharm": {
     "name": "#%%\n"
    }
   }
  },
  {
   "cell_type": "markdown",
   "source": [
    "They all look much more similar than before! However, the maximum likelihood fit is not identical\n",
    "to the PPXF fit, in constrast to what we would expect. I experimented a little bit, and I found something that might\n",
    "be the cause: If we use just a little bit of regularization..."
   ],
   "metadata": {
    "collapsed": false
   }
  },
  {
   "cell_type": "code",
   "execution_count": 198,
   "outputs": [
    {
     "name": "stderr",
     "output_type": "stream",
     "text": [
      "\n",
      "\n",
      "Starting the constrained Gauss-Newton method. Cost at starting value: 5293.523736436807\n",
      "+-----------+-------------------------+-------------------------+-------------------------+-------------------------+-------------------------+\n",
      "| Iteration | Cost                    | Constraint violation    | Stepsize (||p||)        | Steplength (h)          | Computation time [s]    |\n",
      "+-----------+-------------------------+-------------------------+-------------------------+-------------------------+-------------------------+\n",
      "+-----------+-------------------------+-------------------------+-------------------------+-------------------------+-------------------------+\n",
      "|     1     |    0.5816527385270763   |  5.1995877221877596e-12 |    67.47357989473032    |           1.0           |    1.212470531463623    |\n",
      "+-----------+-------------------------+-------------------------+-------------------------+-------------------------+-------------------------+\n",
      "|     2     |    0.581652738527075    |  5.212013285867107e-12  |  1.077384501254134e-09  |           1.0           |    1.1366550922393799   |\n",
      "+-----------+-------------------------+-------------------------+-------------------------+-------------------------+-------------------------+\n",
      "The iteration converged successfully after 2 steps.\n",
      "Minimum of cost function: 0.581652738527075\n"
     ]
    }
   ],
   "source": [
    "model.beta1 = 1e-2\n",
    "\n",
    "fitted_model_mildly_regularized = model.fit()\n",
    "g_mr = fitted_model_mildly_regularized.f_map\n",
    "f_mr = s * g_mr.clip(min=0.)"
   ],
   "metadata": {
    "collapsed": false,
    "pycharm": {
     "name": "#%%\n"
    }
   }
  },
  {
   "cell_type": "markdown",
   "source": [
    "... we obtain something that looks (almost) exactly like the PPXF fit:"
   ],
   "metadata": {
    "collapsed": false
   }
  },
  {
   "cell_type": "code",
   "source": [
    "f_mr_scaled = delta_zt * f_mr\n",
    "im_mr = orient_image(f_mr_scaled)\n",
    "\n",
    "plt.imshow(im_mr)\n",
    "plt.title(\"Mildly regularized fit\")\n",
    "plt.show()\n",
    "\n",
    "plt.imshow(im_ppxf)\n",
    "plt.title(\"PPXF fit\")\n",
    "plt.show()"
   ],
   "metadata": {
    "collapsed": false,
    "pycharm": {
     "name": "#%%\n"
    }
   },
   "execution_count": 199,
   "outputs": [
    {
     "data": {
      "text/plain": "<Figure size 432x288 with 1 Axes>",
      "image/png": "[encoded data removed]"
     },
     "metadata": {
      "needs_background": "light"
     },
     "output_type": "display_data"
    },
    {
     "data": {
      "text/plain": "<Figure size 432x288 with 1 Axes>",
      "image/png": "[encoded data removed]"
     },
     "metadata": {
      "needs_background": "light"
     },
     "output_type": "display_data"
    }
   ]
  },
  {
   "cell_type": "markdown",
   "source": [
    "So, my theory is that either PPXF or the least-squares solver it internally calls use a little bit\n",
    "of regularization (which would be sensible, as otherwise the optimization problem becomes unstable),\n",
    "and so the PPXF fit corresponds not to the maximum likelihood fit but to a mildly regularized MAP\n",
    "fit.\n",
    "\n",
    "Finally, let us compare the data fit:"
   ],
   "metadata": {
    "collapsed": false,
    "pycharm": {
     "name": "#%% md\n"
    }
   }
  },
  {
   "cell_type": "code",
   "execution_count": 200,
   "outputs": [
    {
     "name": "stdout",
     "output_type": "stream",
     "text": [
      "Data fit of PPXF: 0.01813632622289025\n",
      "Data fit of the MAP estimate: 0.020349985637801885\n",
      "Data fit of the ML estimate: 0.01894719175846341\n",
      "Data fit of a mildly regularized MAP estimate: 0.018182039895021505\n"
     ]
    }
   ],
   "source": [
    "ydim = y.size\n",
    "def data_fit(z):\n",
    "    scaled_fit = np.linalg.norm((z - y) / y_sd) / ydim\n",
    "    return scaled_fit\n",
    "\n",
    "y_map = G.evaluate(f_map, theta_v)[mask]\n",
    "y_ml = G.evaluate(f_ml, theta_v)[mask]\n",
    "y_mr = G.evaluate(f_mr, theta_v)[mask]\n",
    "y_ppxf = z = ppxf_fit.bestfit[ppxf_fit.goodpixels]\n",
    "\n",
    "data_fit_map = data_fit(y_map)\n",
    "data_fit_ml = data_fit(y_ml)\n",
    "data_fit_mr = data_fit(y_mr)\n",
    "data_fit_ppxf = data_fit(y_ppxf)\n",
    "\n",
    "print(f\"Data fit of PPXF: {data_fit_ppxf}\")\n",
    "print(f\"Data fit of the MAP estimate: {data_fit_map}\")\n",
    "print(f\"Data fit of the ML estimate: {data_fit_ml}\")\n",
    "print(f\"Data fit of a mildly regularized MAP estimate: {data_fit_mr}\")\n"
   ],
   "metadata": {
    "collapsed": false,
    "pycharm": {
     "name": "#%%\n"
    }
   }
  }
 ],
 "metadata": {
  "kernelspec": {
   "display_name": "Python 3",
   "language": "python",
   "name": "python3"
  },
  "language_info": {
   "codemirror_mode": {
    "name": "ipython",
    "version": 2
   },
   "file_extension": ".py",
   "mimetype": "text/x-python",
   "name": "python",
   "nbconvert_exporter": "python",
   "pygments_lexer": "ipython2",
   "version": "2.7.6"
  }
 },
 "nbformat": 4,
 "nbformat_minor": 0
}