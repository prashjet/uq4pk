{
 "cells": [
  {
   "cell_type": "markdown",
   "source": [
    "M54 data - Part 3\n",
    "=================\n",
    "\n",
    "First, we set up the data:"
   ],
   "metadata": {
    "collapsed": false
   }
  },
  {
   "cell_type": "code",
   "execution_count": 1,
   "outputs": [
    {
     "name": "stdout",
     "output_type": "stream",
     "text": [
      "\n",
      "Spectres: new_wavs contains values outside the range in spec_wavs, new_fluxes and new_errs will be filled with the value set in the 'fill' keyword argument. \n",
      "\n"
     ]
    },
    {
     "ename": "FileNotFoundError",
     "evalue": "[Errno 2] No such file or directory: '/home/fabian/Software/uq4pk/modifications/uq4pk_src/../data/EMILES_BASTI_BASE_BI_FITS/'",
     "output_type": "error",
     "traceback": [
      "\u001B[0;31m---------------------------------------------------------------------------\u001B[0m",
      "\u001B[0;31mFileNotFoundError\u001B[0m                         Traceback (most recent call last)",
      "Input \u001B[0;32mIn [1]\u001B[0m, in \u001B[0;36m<cell line: 8>\u001B[0;34m()\u001B[0m\n\u001B[1;32m      5\u001B[0m m54_data \u001B[38;5;241m=\u001B[39m uq4pk_src\u001B[38;5;241m.\u001B[39mdata\u001B[38;5;241m.\u001B[39mM54()\n\u001B[1;32m      6\u001B[0m m54_data\u001B[38;5;241m.\u001B[39mlogarithmically_resample(dv\u001B[38;5;241m=\u001B[39m\u001B[38;5;241m50.\u001B[39m)\n\u001B[0;32m----> 8\u001B[0m ssps \u001B[38;5;241m=\u001B[39m \u001B[43muq4pk_src\u001B[49m\u001B[38;5;241;43m.\u001B[39;49m\u001B[43mmodel_grids\u001B[49m\u001B[38;5;241;43m.\u001B[39;49m\u001B[43mMilesSSP\u001B[49m\u001B[43m(\u001B[49m\n\u001B[1;32m      9\u001B[0m \u001B[43m    \u001B[49m\u001B[43mmiles_mod_directory\u001B[49m\u001B[38;5;241;43m=\u001B[39;49m\u001B[38;5;124;43m'\u001B[39;49m\u001B[38;5;124;43mEMILES_BASTI_BASE_BI_FITS\u001B[39;49m\u001B[38;5;124;43m'\u001B[39;49m\u001B[43m,\u001B[49m\n\u001B[1;32m     10\u001B[0m \u001B[43m    \u001B[49m\u001B[43mimf_string\u001B[49m\u001B[38;5;241;43m=\u001B[39;49m\u001B[38;5;124;43m'\u001B[39;49m\u001B[38;5;124;43mEbi1.30\u001B[39;49m\u001B[38;5;124;43m'\u001B[39;49m\u001B[43m,\u001B[49m\n\u001B[1;32m     11\u001B[0m \u001B[43m    \u001B[49m\u001B[43mlmd_min\u001B[49m\u001B[38;5;241;43m=\u001B[39;49m\u001B[38;5;28;43;01mNone\u001B[39;49;00m\u001B[43m,\u001B[49m\n\u001B[1;32m     12\u001B[0m \u001B[43m    \u001B[49m\u001B[43mlmd_max\u001B[49m\u001B[38;5;241;43m=\u001B[39;49m\u001B[38;5;28;43;01mNone\u001B[39;49;00m\u001B[43m,\u001B[49m\n\u001B[1;32m     13\u001B[0m \u001B[43m    \u001B[49m\u001B[43m)\u001B[49m\n\u001B[1;32m     14\u001B[0m ssps\u001B[38;5;241m.\u001B[39mresample_spectra(m54_data\u001B[38;5;241m.\u001B[39mlmd)\n\u001B[1;32m     15\u001B[0m \u001B[38;5;66;03m# normalise the SSP templates to be light-weighted rather than mass-weighted,\u001B[39;00m\n",
      "File \u001B[0;32m~/Software/uq4pk/modifications/uq4pk_src/model_grids.py:212\u001B[0m, in \u001B[0;36mMilesSSP.__init__\u001B[0;34m(self, miles_mod_directory, imf_string, pix_per_bin, lmd_min, lmd_max, age_lim, z_lim, thin_age, thin_z, normalise_models)\u001B[0m\n\u001B[1;32m    201\u001B[0m \u001B[38;5;28;01mdef\u001B[39;00m \u001B[38;5;21m__init__\u001B[39m(\u001B[38;5;28mself\u001B[39m,\n\u001B[1;32m    202\u001B[0m              miles_mod_directory\u001B[38;5;241m=\u001B[39m\u001B[38;5;124m'\u001B[39m\u001B[38;5;124mMILES_BASTI_CH_baseFe\u001B[39m\u001B[38;5;124m'\u001B[39m,\n\u001B[1;32m    203\u001B[0m              imf_string\u001B[38;5;241m=\u001B[39m\u001B[38;5;124m'\u001B[39m\u001B[38;5;124mMch1.30\u001B[39m\u001B[38;5;124m'\u001B[39m,\n\u001B[0;32m   (...)\u001B[0m\n\u001B[1;32m    210\u001B[0m              thin_z\u001B[38;5;241m=\u001B[39m\u001B[38;5;241m1\u001B[39m,\n\u001B[1;32m    211\u001B[0m              normalise_models\u001B[38;5;241m=\u001B[39m\u001B[38;5;28;01mFalse\u001B[39;00m):\n\u001B[0;32m--> 212\u001B[0m     ssps \u001B[38;5;241m=\u001B[39m \u001B[43mread_miles\u001B[49m\u001B[38;5;241;43m.\u001B[39;49m\u001B[43mMilesSSPs\u001B[49m\u001B[43m(\u001B[49m\u001B[43mmod_dir\u001B[49m\u001B[38;5;241;43m=\u001B[39;49m\u001B[43mmiles_mod_directory\u001B[49m\u001B[43m,\u001B[49m\n\u001B[1;32m    213\u001B[0m \u001B[43m                                \u001B[49m\u001B[43mage_lim\u001B[49m\u001B[38;5;241;43m=\u001B[39;49m\u001B[43mage_lim\u001B[49m\u001B[43m,\u001B[49m\n\u001B[1;32m    214\u001B[0m \u001B[43m                                \u001B[49m\u001B[43mz_lim\u001B[49m\u001B[38;5;241;43m=\u001B[39;49m\u001B[43mz_lim\u001B[49m\u001B[43m,\u001B[49m\n\u001B[1;32m    215\u001B[0m \u001B[43m                                \u001B[49m\u001B[43mthin_age\u001B[49m\u001B[38;5;241;43m=\u001B[39;49m\u001B[43mthin_age\u001B[49m\u001B[43m,\u001B[49m\n\u001B[1;32m    216\u001B[0m \u001B[43m                                \u001B[49m\u001B[43mthin_z\u001B[49m\u001B[38;5;241;43m=\u001B[39;49m\u001B[43mthin_z\u001B[49m\u001B[43m,\u001B[49m\n\u001B[1;32m    217\u001B[0m \u001B[43m                                \u001B[49m\u001B[43mimf_string\u001B[49m\u001B[38;5;241;43m=\u001B[39;49m\u001B[43mimf_string\u001B[49m\u001B[43m)\u001B[49m\n\u001B[1;32m    218\u001B[0m     ssps\u001B[38;5;241m.\u001B[39mtruncate_wavelengths(lmd_min\u001B[38;5;241m=\u001B[39mlmd_min, lmd_max\u001B[38;5;241m=\u001B[39mlmd_max)\n\u001B[1;32m    219\u001B[0m     ssps\u001B[38;5;241m.\u001B[39mbin_pixels(pix_per_bin\u001B[38;5;241m=\u001B[39mpix_per_bin)\n",
      "File \u001B[0;32m~/Software/uq4pk/modifications/uq4pk_src/read_miles.py:28\u001B[0m, in \u001B[0;36mMilesSSPs.__init__\u001B[0;34m(self, mod_dir, age_lim, z_lim, thin_age, thin_z, imf_string)\u001B[0m\n\u001B[1;32m     26\u001B[0m     mod_dir \u001B[38;5;241m=\u001B[39m mod_dir\u001B[38;5;241m+\u001B[39m\u001B[38;5;124m'\u001B[39m\u001B[38;5;124m/\u001B[39m\u001B[38;5;124m'\u001B[39m\n\u001B[1;32m     27\u001B[0m \u001B[38;5;28mself\u001B[39m\u001B[38;5;241m.\u001B[39mmod_dir \u001B[38;5;241m=\u001B[39m mod_dir\n\u001B[0;32m---> 28\u001B[0m modfiles \u001B[38;5;241m=\u001B[39m \u001B[43mos\u001B[49m\u001B[38;5;241;43m.\u001B[39;49m\u001B[43mlistdir\u001B[49m\u001B[43m(\u001B[49m\u001B[38;5;28;43mself\u001B[39;49m\u001B[38;5;241;43m.\u001B[39;49m\u001B[43mdata_dir\u001B[49m\u001B[43m \u001B[49m\u001B[38;5;241;43m+\u001B[39;49m\u001B[43m \u001B[49m\u001B[38;5;28;43mself\u001B[39;49m\u001B[38;5;241;43m.\u001B[39;49m\u001B[43mmod_dir\u001B[49m\u001B[43m)\u001B[49m\n\u001B[1;32m     29\u001B[0m \u001B[38;5;28;01mif\u001B[39;00m \u001B[38;5;124m'\u001B[39m\u001B[38;5;124mall_spectra.npy\u001B[39m\u001B[38;5;124m'\u001B[39m \u001B[38;5;129;01min\u001B[39;00m modfiles:\n\u001B[1;32m     30\u001B[0m     modfiles\u001B[38;5;241m.\u001B[39mremove(\u001B[38;5;124m'\u001B[39m\u001B[38;5;124mall_spectra.npy\u001B[39m\u001B[38;5;124m'\u001B[39m)\n",
      "\u001B[0;31mFileNotFoundError\u001B[0m: [Errno 2] No such file or directory: '/home/fabian/Software/uq4pk/modifications/uq4pk_src/../data/EMILES_BASTI_BASE_BI_FITS/'"
     ]
    }
   ],
   "source": [
    "import numpy as np\n",
    "import matplotlib.pyplot as plt\n",
    "import uq4pk_src\n",
    "\n",
    "m54_data = uq4pk_src.data.M54()\n",
    "m54_data.logarithmically_resample(dv=50.)\n",
    "\n",
    "ssps = uq4pk_src.model_grids.MilesSSP(\n",
    "    miles_mod_directory='EMILES_BASTI_BASE_BI_FITS',\n",
    "    imf_string='Ebi1.30',\n",
    "    lmd_min=None,\n",
    "    lmd_max=None,\n",
    "    )\n",
    "ssps.resample_spectra(m54_data.lmd)\n",
    "# normalise the SSP templates to be light-weighted rather than mass-weighted,\n",
    "ssps.Xw /= np.sum(ssps.Xw, 0)\n",
    "ssps.dv = m54_data.dv\n",
    "ssps.speed_of_light = m54_data.speed_of_light"
   ],
   "metadata": {
    "collapsed": false,
    "pycharm": {
     "name": "#%%\n"
    }
   }
  },
  {
   "cell_type": "markdown",
   "source": [
    "Let us make a function that brings the fitted distribution function in the correct orientation."
   ],
   "metadata": {
    "collapsed": false
   }
  },
  {
   "cell_type": "code",
   "execution_count": null,
   "outputs": [],
   "source": [
    "%matplotlib inline\n",
    "\n",
    "def orient_image(f):\n",
    "    \"\"\"\n",
    "    Transform the distribution function that goes into observation operator into an image\n",
    "    that has the correct orientation for visualisation.\n",
    "    \"\"\"\n",
    "    image = f\n",
    "    # Have to flip.\n",
    "    image = np.flipud(image)\n",
    "    return image"
   ],
   "metadata": {
    "collapsed": false,
    "pycharm": {
     "name": "#%%\n"
    }
   }
  },
  {
   "cell_type": "markdown",
   "source": [
    "Recreating the PPXF fit\n",
    "-----------------------\n",
    "\n",
    "Next, we fit the data using ``ppxf``"
   ],
   "metadata": {
    "collapsed": false
   }
  },
  {
   "cell_type": "code",
   "execution_count": null,
   "outputs": [],
   "source": [
    "from ppxf import ppxf\n",
    "\n",
    "npix_buffer_mask = 20\n",
    "m54_data.mask[:npix_buffer_mask] = False\n",
    "m54_data.mask[-npix_buffer_mask:] = False\n",
    "\n",
    "templates = ssps.Xw\n",
    "galaxy = m54_data.y\n",
    "noise = m54_data.noise_level\n",
    "velscale = ssps.dv\n",
    "start = [0., 30., 0., 0.]\n",
    "bounds = [[-500,500], [3,300.], [-0.3,0.3], [-0.3,0.3]]\n",
    "moments = 4\n",
    "mask = m54_data.mask\n",
    "\n",
    "# final pixel is NAN, breaks PPXF even though this is masked, so remove it here manually\n",
    "templates = templates[:-1,:]\n",
    "galaxy = galaxy[:-1]\n",
    "noise = noise[:-1]\n",
    "mask = mask[:-1]\n",
    "\n",
    "ppxf_fit = ppxf.ppxf(\n",
    "    templates,\n",
    "    galaxy,\n",
    "    noise,\n",
    "    velscale,\n",
    "    start=start,\n",
    "    degree=-1,\n",
    "    mdegree=21,\n",
    "    moments=moments,\n",
    "    bounds=bounds,\n",
    "    regul=5e-11,\n",
    "    mask=mask\n",
    ")\n",
    "\n",
    "f_ppxf = np.reshape(ppxf_fit.weights, ssps.par_dims)\n",
    "im_ppxf = orient_image(f_ppxf)\n",
    "plt.imshow(im_ppxf)\n",
    "plt.show()\n"
   ],
   "metadata": {
    "collapsed": false,
    "pycharm": {
     "name": "#%%\n"
    }
   }
  },
  {
   "cell_type": "markdown",
   "source": [
    "Next, we compute the MAP estimate from our Bayesian model:\n",
    "\n",
    "First, correct the templates using the fitted polynomial."
   ],
   "metadata": {
    "collapsed": false
   }
  },
  {
   "cell_type": "code",
   "execution_count": null,
   "outputs": [],
   "source": [
    "continuum_distorition = ppxf_fit.mpoly\n",
    "# add an extra element to the end of array to account for one that we chopped off earlier\n",
    "continuum_distorition = np.concatenate([continuum_distorition, [continuum_distorition[-1]]])\n",
    "\n",
    "import copy\n",
    "ssps_corrected = copy.deepcopy(ssps)\n",
    "ssps_corrected.Xw = (ssps_corrected.Xw.T * continuum_distorition).T"
   ],
   "metadata": {
    "collapsed": false,
    "pycharm": {
     "name": "#%%\n"
    }
   }
  },
  {
   "cell_type": "markdown",
   "source": [
    "Adapt the observation operator:"
   ],
   "metadata": {
    "collapsed": false
   }
  },
  {
   "cell_type": "code",
   "execution_count": null,
   "outputs": [],
   "source": [
    "from uq4pk_src.observation_operator import ObservationOperator\n",
    "G = ObservationOperator(ssps=ssps_corrected,\n",
    "                        dv=ssps_corrected.dv,\n",
    "                        do_log_resample=False)\n",
    "G_orig = ObservationOperator(ssps=ssps, dv=ssps.dv, do_log_resample=False)"
   ],
   "metadata": {
    "collapsed": false,
    "pycharm": {
     "name": "#%%\n"
    }
   }
  },
  {
   "cell_type": "markdown",
   "source": [
    "We set $\\theta_v$ equal to the PPXF fit. We have to invert the sign of $h_3$."
   ],
   "metadata": {
    "collapsed": false
   }
  },
  {
   "cell_type": "code",
   "execution_count": null,
   "outputs": [],
   "source": [
    "theta_v = np.array([146, 3, 1., 0., 0., -0.002, 0.002])"
   ],
   "metadata": {
    "collapsed": false,
    "pycharm": {
     "name": "#%%\n"
    }
   }
  },
  {
   "cell_type": "markdown",
   "source": [
    "Rescale the data."
   ],
   "metadata": {
    "collapsed": false
   }
  },
  {
   "cell_type": "code",
   "execution_count": null,
   "outputs": [],
   "source": [
    "mask = m54_data.mask\n",
    "y = m54_data.y[mask]\n",
    "y_sd = m54_data.noise_level[mask]\n",
    "\n",
    "ppxf_scale = np.linalg.norm(f_ppxf)\n",
    "s = ppxf_scale\n",
    "y_scaled = y / s\n",
    "y_sd_scaled = y_sd / s"
   ],
   "metadata": {
    "collapsed": false,
    "pycharm": {
     "name": "#%%\n"
    }
   }
  },
  {
   "cell_type": "markdown",
   "source": [
    "With this, lets compute the MAP estimate for $g = f / s$."
   ],
   "metadata": {
    "collapsed": false
   }
  },
  {
   "cell_type": "code",
   "execution_count": null,
   "outputs": [],
   "source": [
    "%matplotlib inline\n",
    "\n",
    "from uq4pk_fit.inference import ForwardOperator, StatModel\n",
    "\n",
    "\n",
    "forward_operator = ForwardOperator(hermite_order=4, mask=mask, ssps=ssps_corrected, dv=ssps_corrected.dv,\n",
    "                                   do_log_resample=False)\n",
    "# Fit the model\n",
    "model = StatModel(y=y_scaled, y_sd=y_sd_scaled, forward_operator=forward_operator)\n",
    "model.fix_theta_v(indices=np.arange(model.dim_theta), values=theta_v)\n",
    "model.beta1 = 1.\n",
    "fitted_model = model.fit()\n",
    "g_map = fitted_model.f_map\n",
    "f_map = s * g_map.clip(min=0.)  # Enforce nonnegativity\n",
    "\n",
    "im_map = orient_image(f_map)\n",
    "plt.imshow(im_map)\n"
   ],
   "metadata": {
    "collapsed": false,
    "pycharm": {
     "name": "#%%\n"
    }
   }
  },
  {
   "cell_type": "markdown",
   "source": [
    "Also, compute the unregularized (maximum likelihood) fit."
   ],
   "metadata": {
    "collapsed": false
   }
  },
  {
   "cell_type": "code",
   "execution_count": null,
   "outputs": [],
   "source": [
    "model.beta1 = 1e-12\n",
    "\n",
    "fitted_model_unregularized = model.fit()\n",
    "g_ml = fitted_model_unregularized.f_map\n",
    "f_ml = s * g_ml.clip(min=0.)"
   ],
   "metadata": {
    "collapsed": false,
    "pycharm": {
     "name": "#%%\n"
    }
   }
  },
  {
   "cell_type": "markdown",
   "source": [
    "After a week of trial and error, Prashin noted that there is a significant difference\n",
    "between our observation operator and the PPXF fit that has to do with the age-metallicity\n",
    "volume elements. In order to make the estimates from our custom implementation comparable with the PPXF fit,\n",
    "we have to perform the following rescaling:"
   ],
   "metadata": {
    "collapsed": false
   }
  },
  {
   "cell_type": "code",
   "execution_count": null,
   "outputs": [],
   "source": [
    "delta_zt = ssps.delta_z[:, np.newaxis] * ssps.delta_t[np.newaxis]\n",
    "\n",
    "f_map_scaled = delta_zt * f_map\n",
    "f_ml_scaled = delta_zt * f_ml"
   ],
   "metadata": {
    "collapsed": false,
    "pycharm": {
     "name": "#%%\n"
    }
   }
  },
  {
   "cell_type": "markdown",
   "source": [
    "Finally, let us compare the images:"
   ],
   "metadata": {
    "collapsed": false
   }
  },
  {
   "cell_type": "code",
   "execution_count": null,
   "outputs": [],
   "source": [
    "im_ppxf = orient_image(f_ppxf)\n",
    "im_map = orient_image(f_map_scaled)\n",
    "im_ml = orient_image(f_ml_scaled)\n",
    "\n",
    "plt.imshow(im_ppxf)\n",
    "plt.title(\"PPXF fit\")\n",
    "plt.show()\n",
    "\n",
    "plt.imshow(im_ml)\n",
    "plt.title(\"Maximum likelihood fit\")\n",
    "plt.show()\n",
    "\n",
    "plt.imshow(im_map)\n",
    "plt.title(\"MAP fit\")\n",
    "plt.show()"
   ],
   "metadata": {
    "collapsed": false,
    "pycharm": {
     "name": "#%%\n"
    }
   }
  },
  {
   "cell_type": "markdown",
   "source": [
    "They all look much more similar than before! However, the maximum likelihood fit is not identical\n",
    "to the PPXF fit, in constrast to what we would expect. I experimented a little bit, and I found something that might\n",
    "be the cause: If we use just a little bit of regularization..."
   ],
   "metadata": {
    "collapsed": false
   }
  },
  {
   "cell_type": "code",
   "execution_count": null,
   "outputs": [],
   "source": [
    "model.beta1 = 1e-3\n",
    "\n",
    "fitted_model_mildly_regularized = model.fit()\n",
    "g_mr = fitted_model_mildly_regularized.f_map\n",
    "f_mr = s * g_mr.clip(min=0.)"
   ],
   "metadata": {
    "collapsed": false,
    "pycharm": {
     "name": "#%%\n"
    }
   }
  },
  {
   "cell_type": "markdown",
   "source": [
    "... we obtain something that looks (almost) exactly like the PPXF fit:"
   ],
   "metadata": {
    "collapsed": false
   }
  },
  {
   "cell_type": "code",
   "source": [
    "f_mr_scaled = delta_zt * f_mr\n",
    "im_mr = orient_image(f_mr_scaled)\n",
    "\n",
    "plt.imshow(im_mr)\n",
    "plt.title(\"Mildly regularized fit\")\n",
    "plt.show()\n",
    "\n",
    "plt.imshow(im_ppxf)\n",
    "plt.title(\"PPXF fit\")\n",
    "plt.show()"
   ],
   "metadata": {
    "collapsed": false,
    "pycharm": {
     "name": "#%%\n"
    }
   },
   "execution_count": null,
   "outputs": []
  },
  {
   "cell_type": "markdown",
   "source": [
    "So, my theory is that either PPXF or the least-squares solver it internally calls use a little bit\n",
    "of regularization (which would be sensible, as otherwise the optimization problem becomes unstable),\n",
    "and so the PPXF fit corresponds not to the maximum likelihood fit but to a mildly regularized MAP\n",
    "fit.\n",
    "\n",
    "Finally, let us compare the data fit:"
   ],
   "metadata": {
    "collapsed": false,
    "pycharm": {
     "name": "#%% md\n"
    }
   }
  },
  {
   "cell_type": "code",
   "execution_count": null,
   "outputs": [],
   "source": [
    "ydim = y.size\n",
    "def data_fit(z):\n",
    "    scaled_fit = np.linalg.norm((z - y) / y_sd) / ydim\n",
    "    return scaled_fit\n",
    "\n",
    "y_map = G.evaluate(f_map, theta_v)[mask]\n",
    "y_ml = G.evaluate(f_ml, theta_v)[mask]\n",
    "y_mr = G.evaluate(f_mr, theta_v)[mask]\n",
    "y_ppxf = ppxf_fit.bestfit[ppxf_fit.goodpixels]\n",
    "\n",
    "data_fit_map = data_fit(y_map)\n",
    "data_fit_ml = data_fit(y_ml)\n",
    "data_fit_mr = data_fit(y_mr)\n",
    "data_fit_ppxf = data_fit(y_ppxf)\n",
    "\n",
    "print(f\"Data fit of PPXF: {data_fit_ppxf}\")\n",
    "print(f\"Data fit of the MAP estimate: {data_fit_map}\")\n",
    "print(f\"Data fit of the ML estimate: {data_fit_ml}\")\n",
    "print(f\"Data fit of a mildly regularized MAP estimate: {data_fit_mr}\")"
   ],
   "metadata": {
    "collapsed": false,
    "pycharm": {
     "name": "#%%\n"
    }
   }
  },
  {
   "cell_type": "markdown",
   "source": [
    "Difference to M54-PPXF fit\n",
    "--------------------------\n",
    "\n",
    "Finally, let us compare these results to the PPXF fit provided with the M54 data:"
   ],
   "metadata": {
    "collapsed": false,
    "pycharm": {
     "name": "#%% md\n"
    }
   }
  },
  {
   "cell_type": "code",
   "execution_count": null,
   "outputs": [],
   "source": [
    "f_ppxf_m54 = m54_data.ppxf_map_solution.T\n",
    "im_ppxf_m54 = orient_image(f_ppxf_m54)\n",
    "plt.imshow(im_ppxf_m54)\n",
    "plt.gca().set_title('M54-PPXF ')\n",
    "plt.show()\n",
    "\n",
    "plt.imshow(im_ppxf)\n",
    "plt.title(\"Our PPXF fit\")\n",
    "plt.show()\n",
    "\n",
    "plt.imshow(im_map)\n",
    "plt.title(\"MAP estimate\")\n",
    "plt.show()"
   ],
   "metadata": {
    "collapsed": false,
    "pycharm": {
     "name": "#%%\n"
    }
   }
  },
  {
   "cell_type": "markdown",
   "source": [
    "Compare the two PPXF fits to data."
   ],
   "metadata": {
    "collapsed": false
   }
  },
  {
   "cell_type": "code",
   "execution_count": null,
   "outputs": [],
   "source": [
    "y_ppxf = ppxf_fit.bestfit[ppxf_fit.goodpixels]\n",
    "data = m54_data.y[ppxf_fit.goodpixels]\n",
    "wavelength = m54_data.lmd[ppxf_fit.goodpixels]\n",
    "residual = (data - y_ppxf) / y_ppxf\n",
    "\n",
    "plt.figure(figsize=(10, 6))\n",
    "plt.plot(wavelength, data, label=\"data\")\n",
    "plt.plot(wavelength, y_ppxf, label=\"our PPXF fit\")\n",
    "plt.legend()\n",
    "plt.show()\n",
    "\n",
    "plt.figure(figsize=(10, 6))\n",
    "plt.plot(wavelength, residual)\n",
    "plt.title(\"Residual\")\n",
    "plt.show()\n",
    "\n"
   ],
   "metadata": {
    "collapsed": false,
    "pycharm": {
     "name": "#%%\n"
    }
   }
  }
 ],
 "metadata": {
  "kernelspec": {
   "display_name": "Python 3",
   "language": "python",
   "name": "python3"
  },
  "language_info": {
   "codemirror_mode": {
    "name": "ipython",
    "version": 2
   },
   "file_extension": ".py",
   "mimetype": "text/x-python",
   "name": "python",
   "nbconvert_exporter": "python",
   "pygments_lexer": "ipython2",
   "version": "2.7.6"
  }
 },
 "nbformat": 4,
 "nbformat_minor": 0
}