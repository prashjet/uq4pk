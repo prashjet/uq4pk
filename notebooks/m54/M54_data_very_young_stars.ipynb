{
 "cells": [
  {
   "cell_type": "markdown",
   "id": "1700ab00",
   "metadata": {},
   "source": [
    "# M54 data \n",
    "\n",
    "Let's try to get rid of the very young star contibution.\n",
    "\n",
    "## Look at the data"
   ]
  },
  {
   "cell_type": "code",
   "execution_count": 1,
   "id": "5b01bdc3",
   "metadata": {},
   "outputs": [
    {
     "name": "stdout",
     "output_type": "stream",
     "text": [
      "/Users/pjethwa/Astro/Science/uq4pk\n"
     ]
    }
   ],
   "source": [
    "cd ../"
   ]
  },
  {
   "cell_type": "code",
   "execution_count": 2,
   "id": "514db3bc",
   "metadata": {},
   "outputs": [
    {
     "name": "stdout",
     "output_type": "stream",
     "text": [
      "(3361,)\n",
      "\n",
      "Spectres: new_wavs contains values outside the range in spec_wavs, new_fluxes and new_errs will be filled with the value set in the 'fill' keyword argument. \n",
      "\n",
      "(3800,)\n"
     ]
    }
   ],
   "source": [
    "import numpy as np\n",
    "import matplotlib.pyplot as plt\n",
    "import uq4pk_src\n",
    "\n",
    "m54_data = uq4pk_src.data.M54()\n",
    "print(m54_data.y.shape)\n",
    "\n",
    "m54_data.logarithmically_resample(dv=50.)\n",
    "print(m54_data.y.shape)"
   ]
  },
  {
   "cell_type": "code",
   "execution_count": 3,
   "id": "2485ca41",
   "metadata": {},
   "outputs": [
    {
     "name": "stderr",
     "output_type": "stream",
     "text": [
      "/var/folders/s5/ts6_t97x4lbb7lz292_yv_dw0007l9/T/ipykernel_74822/631431647.py:6: RuntimeWarning: divide by zero encountered in log10\n",
      "  plt.imshow(orient_image(np.log10(img)))\n"
     ]
    },
    {
     "data": {
      "image/png": "[encoded data removed]",
      "text/plain": [
       "<Figure size 432x288 with 1 Axes>"
      ]
     },
     "metadata": {
      "needs_background": "light"
     },
     "output_type": "display_data"
    },
    {
     "data": {
      "image/png": "[encoded data removed]",
      "text/plain": [
       "<Figure size 432x288 with 1 Axes>"
      ]
     },
     "metadata": {
      "needs_background": "light"
     },
     "output_type": "display_data"
    },
    {
     "data": {
      "image/png": "[encoded data removed]",
      "text/plain": [
       "<Figure size 432x288 with 1 Axes>"
      ]
     },
     "metadata": {
      "needs_background": "light"
     },
     "output_type": "display_data"
    }
   ],
   "source": [
    "def orient_image(img):\n",
    "    return np.flipud(img.T)\n",
    "\n",
    "# MAP solutuon\n",
    "img = m54_data.ppxf_map_solution\n",
    "plt.imshow(orient_image(np.log10(img)))\n",
    "plt.gca().set_title('MAP solution using PPXF ')\n",
    "plt.show()\n",
    "\n",
    "# current best error estimate\n",
    "# 100 MAP solutions from monte carlo resampling of noise\n",
    "img = np.std(m54_data.mcsims_map_weights, -1)\n",
    "plt.imshow(orient_image(img))\n",
    "plt.gca().set_title('Current best error estimate from MC sims')\n",
    "plt.show()\n",
    "\n",
    "# ground truth \n",
    "img = m54_data.ground_truth\n",
    "plt.imshow(orient_image(img))\n",
    "plt.gca().set_title('Ground Truth')\n",
    "plt.show()"
   ]
  },
  {
   "cell_type": "markdown",
   "id": "3e2ead69",
   "metadata": {},
   "source": [
    "## SSP models\n",
    "\n",
    "*Note*: the SSP models we need to fit this data are different to those we have been using previously (due to different wavelength ranges). To get the right models, follow the instructions above to get the data-files, which should then be read in as follows,"
   ]
  },
  {
   "cell_type": "code",
   "execution_count": 4,
   "id": "85237d67",
   "metadata": {},
   "outputs": [],
   "source": [
    "ssps = uq4pk_src.model_grids.MilesSSP(\n",
    "    miles_mod_directory='EMILES_BASTI_BASE_BI_FITS',\n",
    "    imf_string='Ebi1.30',\n",
    "    lmd_min=None,\n",
    "    lmd_max=None,\n",
    "    )\n",
    "ssps.resample_spectra(m54_data.lmd)\n",
    "# normalise the SSP templates to be light-weighted rather than mass-weighted,\n",
    "ssps.Xw /= np.sum(ssps.Xw, 0)\n",
    "ssps.dv = m54_data.dv\n",
    "ssps.speed_of_light = m54_data.speed_of_light"
   ]
  },
  {
   "cell_type": "markdown",
   "id": "5320c148",
   "metadata": {},
   "source": [
    "### Re-creating the ppxf fit"
   ]
  },
  {
   "cell_type": "code",
   "execution_count": 5,
   "id": "065dbf3e",
   "metadata": {},
   "outputs": [
    {
     "name": "stdout",
     "output_type": "stream",
     "text": [
      " Best Fit:       Vel     sigma        h3        h4\n",
      " comp.  0:       146         3    -0.088     0.187\n",
      "chi2/DOF: 0.9353; degree = -1; mdegree = 21\n",
      "method = capfit; Jac calls: 9; Func calls: 241; Status: 2\n",
      "linear_method = lsq_box; Nonzero Templates (>0.1%):  22 / 636\n"
     ]
    }
   ],
   "source": [
    "from ppxf import ppxf\n",
    "\n",
    "npix_buffer_mask = 20\n",
    "m54_data.mask[:npix_buffer_mask] = False\n",
    "m54_data.mask[-npix_buffer_mask:] = False\n",
    "\n",
    "templates = ssps.Xw\n",
    "galaxy = m54_data.y\n",
    "noise = m54_data.noise_level\n",
    "velscale = ssps.dv\n",
    "start = [0., 30., 0., 0.]\n",
    "bounds = [[-500,500], [3,300.], [-0.3,0.3], [-0.3,0.3]]\n",
    "moments = 4\n",
    "mask = m54_data.mask\n",
    "\n",
    "# final pixel is NAN, breaks PPXF even though this is masked, so remove it here manually\n",
    "templates = templates[:-1,:]\n",
    "galaxy = galaxy[:-1]\n",
    "noise = noise[:-1]\n",
    "mask = mask[:-1]\n",
    "\n",
    "ppxf_fit = ppxf.ppxf(\n",
    "    templates,\n",
    "    galaxy,\n",
    "    noise,\n",
    "    velscale,\n",
    "    start=start,\n",
    "    degree=-1,\n",
    "    mdegree=21,\n",
    "    moments=moments,\n",
    "    bounds=bounds,\n",
    "    regul=1e-10,\n",
    "    mask=mask\n",
    ")"
   ]
  },
  {
   "cell_type": "code",
   "execution_count": 6,
   "id": "b1870428",
   "metadata": {},
   "outputs": [
    {
     "name": "stderr",
     "output_type": "stream",
     "text": [
      "/var/folders/s5/ts6_t97x4lbb7lz292_yv_dw0007l9/T/ipykernel_74822/739162578.py:2: RuntimeWarning: divide by zero encountered in log10\n",
      "  plt.imshow(np.flipud(np.log10(f_ppxf)))\n"
     ]
    },
    {
     "data": {
      "image/png": "[encoded data removed]",
      "text/plain": [
       "<Figure size 432x288 with 1 Axes>"
      ]
     },
     "metadata": {
      "needs_background": "light"
     },
     "output_type": "display_data"
    }
   ],
   "source": [
    "f_ppxf = np.reshape(ppxf_fit.weights, ssps.par_dims)\n",
    "plt.imshow(np.flipud(np.log10(f_ppxf)))\n",
    "plt.show()"
   ]
  },
  {
   "cell_type": "code",
   "execution_count": 7,
   "id": "8b607c65",
   "metadata": {},
   "outputs": [
    {
     "data": {
      "image/png": "[encoded data removed]",
      "text/plain": [
       "<Figure size 432x288 with 1 Axes>"
      ]
     },
     "metadata": {
      "needs_background": "light"
     },
     "output_type": "display_data"
    }
   ],
   "source": [
    "ppxf_fit.plot()"
   ]
  },
  {
   "cell_type": "code",
   "execution_count": 8,
   "id": "bd6d7f0b",
   "metadata": {},
   "outputs": [
    {
     "data": {
      "image/png": "[encoded data removed]",
      "text/plain": [
       "<Figure size 432x288 with 1 Axes>"
      ]
     },
     "metadata": {
      "needs_background": "light"
     },
     "output_type": "display_data"
    }
   ],
   "source": [
    "f_ppxf = np.reshape(ppxf_fit.weights, ssps.par_dims)\n",
    "im_ppxf = f_ppxf\n",
    "plt.imshow(np.flipud(im_ppxf))\n",
    "plt.show()"
   ]
  },
  {
   "cell_type": "markdown",
   "id": "ea85a975",
   "metadata": {},
   "source": [
    "# Truncate young ages"
   ]
  },
  {
   "cell_type": "code",
   "execution_count": 9,
   "id": "9a880939",
   "metadata": {},
   "outputs": [],
   "source": [
    "ssps2 = uq4pk_src.model_grids.MilesSSP(\n",
    "    miles_mod_directory='EMILES_BASTI_BASE_BI_FITS',\n",
    "    imf_string='Ebi1.30',\n",
    "    lmd_min=None,\n",
    "    lmd_max=None,\n",
    "    age_lim=(0.1,14)\n",
    "    )\n",
    "ssps2.resample_spectra(m54_data.lmd)\n",
    "# normalise the SSP templates to be light-weighted rather than mass-weighted,\n",
    "ssps2.Xw /= np.sum(ssps2.Xw, 0)\n",
    "ssps2.dv = m54_data.dv\n",
    "ssps2.speed_of_light = m54_data.speed_of_light"
   ]
  },
  {
   "cell_type": "code",
   "execution_count": 10,
   "id": "6354917f",
   "metadata": {},
   "outputs": [
    {
     "data": {
      "text/plain": [
       "(53689, 552)"
      ]
     },
     "execution_count": 10,
     "metadata": {},
     "output_type": "execute_result"
    }
   ],
   "source": [
    "ssps2.X.shape"
   ]
  },
  {
   "cell_type": "code",
   "execution_count": 11,
   "id": "84661e83",
   "metadata": {},
   "outputs": [
    {
     "name": "stdout",
     "output_type": "stream",
     "text": [
      " Best Fit:       Vel     sigma        h3        h4\n",
      " comp.  0:       146         3    -0.014     0.169\n",
      "chi2/DOF: 0.9752; degree = -1; mdegree = 21\n",
      "method = capfit; Jac calls: 10; Func calls: 267; Status: 2\n",
      "linear_method = lsq_box; Nonzero Templates (>0.1%):  18 / 552\n"
     ]
    }
   ],
   "source": [
    "templates = ssps2.Xw\n",
    "# final pixel is NAN, breaks PPXF even though this is masked, so remove it here manually\n",
    "templates = templates[:-1,:]\n",
    "\n",
    "ppxf_fit2 = ppxf.ppxf(\n",
    "    templates,\n",
    "    galaxy,\n",
    "    noise,\n",
    "    velscale,\n",
    "    start=start,\n",
    "    degree=-1,\n",
    "    mdegree=21,\n",
    "    moments=moments,\n",
    "    bounds=bounds,\n",
    "    regul=1e-10,\n",
    "    mask=mask\n",
    ")"
   ]
  },
  {
   "cell_type": "code",
   "execution_count": 12,
   "id": "0024ec1a",
   "metadata": {},
   "outputs": [
    {
     "name": "stderr",
     "output_type": "stream",
     "text": [
      "/var/folders/s5/ts6_t97x4lbb7lz292_yv_dw0007l9/T/ipykernel_74822/3037749488.py:3: RuntimeWarning: divide by zero encountered in log10\n",
      "  plt.imshow(np.log10(im_ppxf))\n"
     ]
    },
    {
     "data": {
      "image/png": "[encoded data removed]",
      "text/plain": [
       "<Figure size 432x288 with 1 Axes>"
      ]
     },
     "metadata": {
      "needs_background": "light"
     },
     "output_type": "display_data"
    }
   ],
   "source": [
    "f_ppxf = np.reshape(ppxf_fit2.weights, ssps2.par_dims)\n",
    "im_ppxf = np.flipud(f_ppxf)\n",
    "plt.imshow(np.log10(im_ppxf))\n",
    "plt.show()"
   ]
  },
  {
   "cell_type": "code",
   "execution_count": 13,
   "id": "a2f77fc4",
   "metadata": {},
   "outputs": [
    {
     "data": {
      "text/plain": [
       "(12, 53)"
      ]
     },
     "execution_count": 13,
     "metadata": {},
     "output_type": "execute_result"
    }
   ],
   "source": [
    "ssps.par_dims"
   ]
  },
  {
   "cell_type": "code",
   "execution_count": 14,
   "id": "a51cf6ca",
   "metadata": {},
   "outputs": [
    {
     "data": {
      "text/plain": [
       "(12, 46)"
      ]
     },
     "execution_count": 14,
     "metadata": {},
     "output_type": "execute_result"
    }
   ],
   "source": [
    "ssps2.par_dims"
   ]
  },
  {
   "cell_type": "markdown",
   "id": "fe62d527",
   "metadata": {},
   "source": [
    "Truncating the 7 youngest SSP bins *solves* the problem :P"
   ]
  }
 ],
 "metadata": {
  "kernelspec": {
   "display_name": "Python 3 (ipykernel)",
   "language": "python",
   "name": "python3"
  },
  "language_info": {
   "codemirror_mode": {
    "name": "ipython",
    "version": 3
   },
   "file_extension": ".py",
   "mimetype": "text/x-python",
   "name": "python",
   "nbconvert_exporter": "python",
   "pygments_lexer": "ipython3",
   "version": "3.9.6"
  }
 },
 "nbformat": 4,
 "nbformat_minor": 5
}
