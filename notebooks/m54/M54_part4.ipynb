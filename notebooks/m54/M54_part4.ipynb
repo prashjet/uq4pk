{
 "cells": [
  {
   "cell_type": "markdown",
   "source": [
    "M54 data - Part 4\n",
    "=================\n",
    "\n",
    "First, we set up the data:"
   ],
   "metadata": {
    "collapsed": false
   }
  },
  {
   "cell_type": "code",
   "execution_count": 189,
   "outputs": [
    {
     "name": "stdout",
     "output_type": "stream",
     "text": [
      "\n",
      "Spectres: new_wavs contains values outside the range in spec_wavs, new_fluxes and new_errs will be filled with the value set in the 'fill' keyword argument. \n",
      "\n"
     ]
    }
   ],
   "source": [
    "import numpy as np\n",
    "import matplotlib.pyplot as plt\n",
    "import uq4pk_src\n",
    "\n",
    "m54_data = uq4pk_src.data.M54()\n",
    "m54_data.logarithmically_resample(dv=50.)\n",
    "\n",
    "ssps = uq4pk_src.model_grids.MilesSSP(\n",
    "    miles_mod_directory='EMILES_BASTI_BASE_BI_FITS',\n",
    "    imf_string='Ebi1.30',\n",
    "    lmd_min=None,\n",
    "    lmd_max=None,\n",
    "    )\n",
    "ssps.resample_spectra(m54_data.lmd)\n",
    "# normalise the SSP templates to be light-weighted rather than mass-weighted,\n",
    "ssps.Xw /= np.sum(ssps.Xw, 0)\n",
    "ssps.dv = m54_data.dv\n",
    "ssps.speed_of_light = m54_data.speed_of_light"
   ],
   "metadata": {
    "collapsed": false,
    "pycharm": {
     "name": "#%%\n"
    }
   }
  },
  {
   "cell_type": "markdown",
   "source": [
    "Let us make a function that brings the fitted distribution function in the correct orientation."
   ],
   "metadata": {
    "collapsed": false
   }
  },
  {
   "cell_type": "code",
   "execution_count": 190,
   "outputs": [],
   "source": [
    "%matplotlib inline\n",
    "\n",
    "def orient_image(f):\n",
    "    \"\"\"\n",
    "    Transform the distribution function that goes into observation operator into an image\n",
    "    that has the correct orientation for visualisation.\n",
    "    \"\"\"\n",
    "    image = f\n",
    "    # Have to flip.\n",
    "    image = np.flipud(image)\n",
    "    return image"
   ],
   "metadata": {
    "collapsed": false,
    "pycharm": {
     "name": "#%%\n"
    }
   }
  },
  {
   "cell_type": "markdown",
   "source": [
    "Recreating the PPXF fit\n",
    "-----------------------\n",
    "\n",
    "Next, we fit the data using ``ppxf``"
   ],
   "metadata": {
    "collapsed": false
   }
  },
  {
   "cell_type": "code",
   "execution_count": 191,
   "outputs": [
    {
     "name": "stdout",
     "output_type": "stream",
     "text": [
      " Best Fit:       Vel     sigma        h3        h4\n",
      " comp.  0:       146         3    -0.088     0.187\n",
      "chi2/DOF: 0.9353; degree = -1; mdegree = 21\n",
      "method = capfit; Jac calls: 9; Func calls: 241; Status: 2\n",
      "linear_method = lsq_box; Nonzero Templates (>0.1%):  22 / 636\n"
     ]
    },
    {
     "data": {
      "text/plain": "<Figure size 432x288 with 1 Axes>",
      "image/png": "[encoded data removed]"
     },
     "metadata": {
      "needs_background": "light"
     },
     "output_type": "display_data"
    }
   ],
   "source": [
    "from ppxf import ppxf\n",
    "\n",
    "npix_buffer_mask = 20\n",
    "m54_data.mask[:npix_buffer_mask] = False\n",
    "m54_data.mask[-npix_buffer_mask:] = False\n",
    "\n",
    "templates = ssps.Xw\n",
    "galaxy = m54_data.y\n",
    "noise = m54_data.noise_level\n",
    "velscale = ssps.dv\n",
    "start = [0., 30., 0., 0.]\n",
    "bounds = [[-500,500], [3,300.], [-0.3,0.3], [-0.3,0.3]]\n",
    "moments = 4\n",
    "mask = m54_data.mask\n",
    "\n",
    "# final pixel is NAN, breaks PPXF even though this is masked, so remove it here manually\n",
    "templates = templates[:-1,:]\n",
    "galaxy = galaxy[:-1]\n",
    "noise = noise[:-1]\n",
    "mask = mask[:-1]\n",
    "\n",
    "ppxf_fit = ppxf.ppxf(\n",
    "    templates,\n",
    "    galaxy,\n",
    "    noise,\n",
    "    velscale,\n",
    "    start=start,\n",
    "    degree=-1,\n",
    "    mdegree=21,\n",
    "    moments=moments,\n",
    "    bounds=bounds,\n",
    "    regul=1e-10,\n",
    "    mask=mask\n",
    ")\n",
    "\n",
    "f_ppxf = np.reshape(ppxf_fit.weights, ssps.par_dims)\n",
    "im_ppxf = orient_image(f_ppxf)\n",
    "plt.imshow(im_ppxf)\n",
    "plt.show()\n",
    "\n",
    "\n"
   ],
   "metadata": {
    "collapsed": false,
    "pycharm": {
     "name": "#%%\n"
    }
   }
  },
  {
   "cell_type": "markdown",
   "source": [
    "Repeat fit, but with lower regularization.\n"
   ],
   "metadata": {
    "collapsed": false,
    "pycharm": {
     "name": "#%% md\n"
    }
   }
  },
  {
   "cell_type": "code",
   "execution_count": 192,
   "outputs": [
    {
     "name": "stdout",
     "output_type": "stream",
     "text": [
      " Best Fit:       Vel     sigma        h3        h4\n",
      " comp.  0:       146         3    -0.000    -0.012\n",
      "chi2/DOF: 0.8946; degree = -1; mdegree = 21\n",
      "method = capfit; Jac calls: 14; Func calls: 370; Status: 2\n",
      "linear_method = lsq_box; Nonzero Templates (>0.1%):  5 / 636\n"
     ]
    },
    {
     "data": {
      "text/plain": "<Figure size 432x288 with 1 Axes>",
      "image/png": "[encoded data removed]"
     },
     "metadata": {
      "needs_background": "light"
     },
     "output_type": "display_data"
    }
   ],
   "source": [
    "ppxf_fit2 = ppxf.ppxf(\n",
    "    templates,\n",
    "    galaxy,\n",
    "    noise,\n",
    "    velscale,\n",
    "    start=start,\n",
    "    degree=-1,\n",
    "    mdegree=21,\n",
    "    moments=moments,\n",
    "    bounds=bounds,\n",
    "    regul=1e-12,\n",
    "    mask=mask\n",
    ")\n",
    "\n",
    "f_ppxf2 = np.reshape(ppxf_fit2.weights, ssps.par_dims)\n",
    "im_ppxf2 = orient_image(f_ppxf2)\n",
    "plt.imshow(im_ppxf2)\n",
    "plt.show()\n"
   ],
   "metadata": {
    "collapsed": false,
    "pycharm": {
     "name": "#%%\n"
    }
   }
  },
  {
   "cell_type": "markdown",
   "source": [
    "Next, we compute the MAP estimate from our Bayesian model:\n",
    "\n",
    "First, correct the templates using the fitted polynomial."
   ],
   "metadata": {
    "collapsed": false
   }
  },
  {
   "cell_type": "code",
   "execution_count": 193,
   "outputs": [],
   "source": [
    "continuum_distorition = ppxf_fit.mpoly\n",
    "# add an extra element to the end of array to account for one that we chopped off earlier\n",
    "continuum_distorition = np.concatenate([continuum_distorition, [continuum_distorition[-1]]])\n",
    "\n",
    "import copy\n",
    "ssps_corrected = copy.deepcopy(ssps)\n",
    "ssps_corrected.Xw = (ssps_corrected.Xw.T * continuum_distorition).T"
   ],
   "metadata": {
    "collapsed": false,
    "pycharm": {
     "name": "#%%\n"
    }
   }
  },
  {
   "cell_type": "markdown",
   "source": [
    "Adapt the observation operator:"
   ],
   "metadata": {
    "collapsed": false
   }
  },
  {
   "cell_type": "code",
   "execution_count": 194,
   "outputs": [
    {
     "name": "stdout",
     "output_type": "stream",
     "text": [
      "Distribution functions should have shape (12, 53)\n",
      "Distribution functions should have shape (12, 53)\n"
     ]
    }
   ],
   "source": [
    "from uq4pk_src.observation_operator import ObservationOperator\n",
    "G = ObservationOperator(ssps=ssps_corrected,\n",
    "                        dv=ssps_corrected.dv,\n",
    "                        do_log_resample=False)\n",
    "G_orig = ObservationOperator(ssps=ssps, dv=ssps.dv, do_log_resample=False)"
   ],
   "metadata": {
    "collapsed": false,
    "pycharm": {
     "name": "#%%\n"
    }
   }
  },
  {
   "cell_type": "markdown",
   "source": [
    "We set $\\theta_v$ equal to the PPXF fit. We have to invert the sign of $h_3$."
   ],
   "metadata": {
    "collapsed": false
   }
  },
  {
   "cell_type": "code",
   "execution_count": 195,
   "outputs": [],
   "source": [
    "theta_v = np.array([146, 3, 1., 0., 0., 0.088, 0.187])"
   ],
   "metadata": {
    "collapsed": false,
    "pycharm": {
     "name": "#%%\n"
    }
   }
  },
  {
   "cell_type": "markdown",
   "source": [
    "Rescale the data."
   ],
   "metadata": {
    "collapsed": false
   }
  },
  {
   "cell_type": "code",
   "execution_count": 196,
   "outputs": [],
   "source": [
    "mask = m54_data.mask\n",
    "y = m54_data.y[mask]\n",
    "y_sd = m54_data.noise_level[mask]\n",
    "\n",
    "ppxf_scale = np.linalg.norm(f_ppxf)\n",
    "s = ppxf_scale\n",
    "y_scaled = y / s\n",
    "y_sd_scaled = y_sd / s"
   ],
   "metadata": {
    "collapsed": false,
    "pycharm": {
     "name": "#%%\n"
    }
   }
  },
  {
   "cell_type": "markdown",
   "source": [
    "With this, lets compute the MAP estimate for $g = f / s$."
   ],
   "metadata": {
    "collapsed": false
   }
  },
  {
   "cell_type": "code",
   "execution_count": 197,
   "outputs": [
    {
     "name": "stdout",
     "output_type": "stream",
     "text": [
      "Distribution functions should have shape (12, 53)\n"
     ]
    },
    {
     "name": "stderr",
     "output_type": "stream",
     "text": [
      "\n",
      "\n",
      "Starting the constrained Gauss-Newton method. Cost at starting value: 5571.298589693\n",
      "+-----------+-------------------------+-------------------------+-------------------------+-------------------------+-------------------------+\n",
      "| Iteration | Cost                    | Constraint violation    | Stepsize (||p||)        | Steplength (h)          | Computation time [s]    |\n",
      "+-----------+-------------------------+-------------------------+-------------------------+-------------------------+-------------------------+\n",
      "+-----------+-------------------------+-------------------------+-------------------------+-------------------------+-------------------------+\n",
      "|     1     |    0.536040052623116    |  4.294752487671305e-13  |    20.30109994079702    |           1.0           |    1.0443904399871826   |\n",
      "+-----------+-------------------------+-------------------------+-------------------------+-------------------------+-------------------------+\n",
      "|     2     |    0.5360400526231158   |  4.319052565143841e-13  |  2.0735877834006914e-09 |           1.0           |    1.0285248756408691   |\n",
      "+-----------+-------------------------+-------------------------+-------------------------+-------------------------+-------------------------+\n",
      "The iteration converged successfully after 2 steps.\n",
      "Minimum of cost function: 0.5360400526231158\n"
     ]
    },
    {
     "data": {
      "text/plain": "<Figure size 432x288 with 1 Axes>",
      "image/png": "[encoded data removed]"
     },
     "metadata": {
      "needs_background": "light"
     },
     "output_type": "display_data"
    }
   ],
   "source": [
    "%matplotlib inline\n",
    "\n",
    "from uq4pk_fit.inference import ForwardOperator, StatModel\n",
    "from uq4pk_fit.special_operators import OrnsteinUhlenbeck, DiscreteGradient, DiscreteLaplacian\n",
    "\n",
    "\n",
    "forward_operator = ForwardOperator(hermite_order=4, mask=mask, ssps=ssps_corrected, dv=ssps_corrected.dv,\n",
    "                                   do_log_resample=False)\n",
    "# Fit the model\n",
    "model = StatModel(y=y_scaled, y_sd=y_sd_scaled, forward_operator=forward_operator)\n",
    "model.fix_theta_v(indices=np.arange(model.dim_theta), values=theta_v)\n",
    "model.beta1 = 1.\n",
    "model.P1 = OrnsteinUhlenbeck(m=model.m_f, n=model.n_f, h=np.array([2., 1.]))\n",
    "fitted_model = model.fit()\n",
    "g_map = fitted_model.f_map\n",
    "f_map = s * g_map.clip(min=0.)  # Enforce nonnegativity\n",
    "\n",
    "im_map = orient_image(f_map)\n",
    "plt.imshow(im_map)\n",
    "\n",
    "delta_zt = ssps.delta_z[:, np.newaxis] * ssps.delta_t[np.newaxis]\n",
    "f_map_scaled = delta_zt * f_map"
   ],
   "metadata": {
    "collapsed": false,
    "pycharm": {
     "name": "#%%\n"
    }
   }
  },
  {
   "cell_type": "markdown",
   "source": [
    "Finally, let us compare the images:"
   ],
   "metadata": {
    "collapsed": false
   }
  },
  {
   "cell_type": "code",
   "execution_count": 198,
   "outputs": [
    {
     "data": {
      "text/plain": "<Figure size 432x288 with 1 Axes>",
      "image/png": "[encoded data removed]"
     },
     "metadata": {
      "needs_background": "light"
     },
     "output_type": "display_data"
    },
    {
     "data": {
      "text/plain": "<Figure size 432x288 with 1 Axes>",
      "image/png": "[encoded data removed]"
     },
     "metadata": {
      "needs_background": "light"
     },
     "output_type": "display_data"
    },
    {
     "data": {
      "text/plain": "<Figure size 432x288 with 1 Axes>",
      "image/png": "[encoded data removed]"
     },
     "metadata": {
      "needs_background": "light"
     },
     "output_type": "display_data"
    },
    {
     "data": {
      "text/plain": "<Figure size 432x288 with 1 Axes>",
      "image/png": "[encoded data removed]"
     },
     "metadata": {
      "needs_background": "light"
     },
     "output_type": "display_data"
    },
    {
     "data": {
      "text/plain": "<Figure size 432x288 with 1 Axes>",
      "image/png": "[encoded data removed]"
     },
     "metadata": {
      "needs_background": "light"
     },
     "output_type": "display_data"
    }
   ],
   "source": [
    "im_ppxf = orient_image(f_ppxf)\n",
    "im_map = orient_image(f_map_scaled)\n",
    "\n",
    "f_true = m54_data.ground_truth.T\n",
    "im_true = orient_image(f_true)\n",
    "plt.imshow(im_true)\n",
    "plt.title('\"Ground truth\"')\n",
    "plt.show()\n",
    "\n",
    "f_ppxf_m54 = m54_data.ppxf_map_solution.T\n",
    "im_ppxf_m54 = orient_image(f_ppxf_m54)\n",
    "plt.imshow(im_ppxf_m54)\n",
    "plt.title('M54-PPXF ')\n",
    "plt.show()\n",
    "\n",
    "plt.imshow(im_ppxf)\n",
    "plt.title(\"Our PPXF fit\")\n",
    "plt.show()\n",
    "\n",
    "plt.imshow(im_ppxf2)\n",
    "plt.title(\"Our PPXF fit with lower regularization\")\n",
    "plt.show()\n",
    "\n",
    "plt.imshow(im_map)\n",
    "plt.title(\"MAP fit\")\n",
    "plt.show()"
   ],
   "metadata": {
    "collapsed": false,
    "pycharm": {
     "name": "#%%\n"
    }
   }
  },
  {
   "cell_type": "markdown",
   "source": [
    "I wonder whether M54 shows the leftmost clump at all? Let us compare the thresholded images:\n"
   ],
   "metadata": {
    "collapsed": false
   }
  },
  {
   "cell_type": "code",
   "execution_count": 199,
   "outputs": [
    {
     "data": {
      "text/plain": "<Figure size 432x288 with 1 Axes>",
      "image/png": "[encoded data removed]"
     },
     "metadata": {
      "needs_background": "light"
     },
     "output_type": "display_data"
    },
    {
     "data": {
      "text/plain": "<Figure size 432x288 with 1 Axes>",
      "image/png": "[encoded data removed]"
     },
     "metadata": {
      "needs_background": "light"
     },
     "output_type": "display_data"
    },
    {
     "data": {
      "text/plain": "<Figure size 432x288 with 1 Axes>",
      "image/png": "[encoded data removed]"
     },
     "metadata": {
      "needs_background": "light"
     },
     "output_type": "display_data"
    },
    {
     "data": {
      "text/plain": "<Figure size 432x288 with 1 Axes>",
      "image/png": "[encoded data removed]"
     },
     "metadata": {
      "needs_background": "light"
     },
     "output_type": "display_data"
    }
   ],
   "source": [
    "# Create helper function that computes the threshold-image.\n",
    "def threshold_image(image, rthresh):\n",
    "    # Absolute threshold = Relative threshold * image maximum\n",
    "    athresh = rthresh * image.max()\n",
    "    thresholded_image = (image > athresh)\n",
    "    return thresholded_image\n",
    "\n",
    "# Let's use 1% relative threshold\n",
    "rthresh = 0.01\n",
    "\n",
    "plt.imshow(threshold_image(im_true, rthresh))\n",
    "plt.title('\"Ground truth\"')\n",
    "plt.show()\n",
    "\n",
    "\n",
    "plt.imshow(threshold_image(im_ppxf_m54, rthresh))\n",
    "plt.title('M54-PPXF ')\n",
    "plt.show()\n",
    "\n",
    "plt.imshow(threshold_image(im_ppxf, rthresh))\n",
    "plt.title(\"Our PPXF fit\")\n",
    "plt.show()\n",
    "\n",
    "plt.imshow(threshold_image(im_map, rthresh))\n",
    "plt.title(\"MAP fit\")\n",
    "plt.show()\n"
   ],
   "metadata": {
    "collapsed": false,
    "pycharm": {
     "name": "#%%\n"
    }
   }
  }
 ],
 "metadata": {
  "kernelspec": {
   "display_name": "Python 3",
   "language": "python",
   "name": "python3"
  },
  "language_info": {
   "codemirror_mode": {
    "name": "ipython",
    "version": 2
   },
   "file_extension": ".py",
   "mimetype": "text/x-python",
   "name": "python",
   "nbconvert_exporter": "python",
   "pygments_lexer": "ipython2",
   "version": "2.7.6"
  }
 },
 "nbformat": 4,
 "nbformat_minor": 0
}