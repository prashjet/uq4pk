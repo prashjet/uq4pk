{
 "cells": [
  {
   "cell_type": "markdown",
   "id": "78b15011",
   "metadata": {},
   "source": [
    "# PPXF vs our observation operator: are they different?\n",
    "\n",
    "Do a data simulation using our operator, then fit with PPXF:"
   ]
  },
  {
   "cell_type": "code",
   "execution_count": 1,
   "id": "bd9161a7",
   "metadata": {},
   "outputs": [
    {
     "name": "stdout",
     "output_type": "stream",
     "text": [
      "/Users/pjethwa/Astro/Science/uq4pk\n"
     ]
    }
   ],
   "source": [
    "cd ../"
   ]
  },
  {
   "cell_type": "code",
   "execution_count": 2,
   "id": "7784c074",
   "metadata": {},
   "outputs": [],
   "source": [
    "import numpy as np\n",
    "import matplotlib.pyplot as plt\n",
    "import uq4pk_src\n",
    "from uq4pk_src.observation_operator import ObservationOperator\n",
    "from ppxf import ppxf"
   ]
  },
  {
   "cell_type": "code",
   "execution_count": 3,
   "id": "e7c6e66c",
   "metadata": {},
   "outputs": [],
   "source": [
    "ssps = uq4pk_src.model_grids.MilesSSP(\n",
    "    miles_mod_directory='EMILES_BASTI_BASE_BI_FITS',\n",
    "    imf_string='Ebi1.30',\n",
    "    lmd_min=6000,\n",
    "    lmd_max=7000,\n",
    "    )\n",
    "ssps.X /= np.sum(ssps.X, 0)"
   ]
  },
  {
   "cell_type": "code",
   "execution_count": 4,
   "id": "3d256886",
   "metadata": {},
   "outputs": [
    {
     "name": "stdout",
     "output_type": "stream",
     "text": [
      "Distribution functions should have shape (12, 53)\n"
     ]
    }
   ],
   "source": [
    "G = ObservationOperator(ssps=ssps,\n",
    "                        dv=10.,\n",
    "                        do_log_resample=True,\n",
    "                        max_order_hermite=6)"
   ]
  },
  {
   "cell_type": "code",
   "execution_count": 5,
   "id": "d8745b04",
   "metadata": {},
   "outputs": [
    {
     "data": {
      "text/plain": [
       "<matplotlib.image.AxesImage at 0x108231790>"
      ]
     },
     "execution_count": 5,
     "metadata": {},
     "output_type": "execute_result"
    },
    {
     "data": {
      "image/png": "[encoded data removed]",
      "text/plain": [
       "<Figure size 432x288 with 1 Axes>"
      ]
     },
     "metadata": {
      "needs_background": "light"
     },
     "output_type": "display_data"
    }
   ],
   "source": [
    "f_true = np.zeros((12,53))\n",
    "f_true[10,5] = 1.5\n",
    "f_true[0,0] = 4.\n",
    "f_true[2,50] = 2.\n",
    "plt.imshow(f_true)"
   ]
  },
  {
   "cell_type": "code",
   "execution_count": 6,
   "id": "db525070",
   "metadata": {},
   "outputs": [],
   "source": [
    "theta_v_true = [100, 40, 1., 0., 0., 0.2, 0.2, 0.1, 0.3]"
   ]
  },
  {
   "cell_type": "code",
   "execution_count": 7,
   "id": "9c9bd3fd",
   "metadata": {},
   "outputs": [],
   "source": [
    "ybar = G.evaluate(f_true, theta_v_true)"
   ]
  },
  {
   "cell_type": "code",
   "execution_count": 8,
   "id": "a292f3bd",
   "metadata": {},
   "outputs": [],
   "source": [
    "noise = 1e-9\n",
    "y = ybar + np.random.normal(scale=noise, size=ybar.size)"
   ]
  },
  {
   "cell_type": "code",
   "execution_count": 9,
   "id": "40a18960",
   "metadata": {},
   "outputs": [
    {
     "data": {
      "text/plain": [
       "[<matplotlib.lines.Line2D at 0x15bf3d400>]"
      ]
     },
     "execution_count": 9,
     "metadata": {},
     "output_type": "execute_result"
    },
    {
     "data": {
      "image/png": "[encoded data removed]",
      "text/plain": [
       "<Figure size 432x288 with 1 Axes>"
      ]
     },
     "metadata": {
      "needs_background": "light"
     },
     "output_type": "display_data"
    }
   ],
   "source": [
    "plt.plot(ybar)\n",
    "plt.plot(y, '.k', alpha=0.1)"
   ]
  },
  {
   "cell_type": "code",
   "execution_count": 10,
   "id": "131390dd",
   "metadata": {},
   "outputs": [],
   "source": [
    "mask = np.ones_like(ybar, dtype=bool)\n",
    "mask[:50] = False\n",
    "mask[-50:] = False"
   ]
  },
  {
   "cell_type": "code",
   "execution_count": null,
   "id": "599c3dba",
   "metadata": {},
   "outputs": [],
   "source": [
    "templates = ssps.Xw\n",
    "galaxy = y\n",
    "noise = np.ones_like(ybar)*noise\n",
    "velscale = ssps.dv\n",
    "start = [0., 30., 0., 0., 0., 0.]\n",
    "bounds = [[-500,500], [3,300.], [-0.3,0.3], [-0.3,0.3], [-0.3,0.3], [-0.3,0.3]]\n",
    "moments = 6\n",
    "mask = mask\n",
    "\n",
    "ppxf_fit = ppxf.ppxf(\n",
    "    templates, \n",
    "    galaxy, \n",
    "    noise, \n",
    "    velscale,\n",
    "    start=start,\n",
    "    degree=-1,\n",
    "    mdegree=-1,\n",
    "    moments=moments,\n",
    "    bounds=bounds,\n",
    "    regul=0,\n",
    "    mask=mask,\n",
    "    bias=0       # ppxf bias for regularisation\n",
    ")"
   ]
  },
  {
   "cell_type": "code",
   "execution_count": null,
   "id": "f72400fc",
   "metadata": {},
   "outputs": [],
   "source": [
    "ppxf_fit.plot()"
   ]
  },
  {
   "cell_type": "markdown",
   "id": "92416557",
   "metadata": {},
   "source": [
    "Let's compare the recovered distribtuion functions.\n",
    "\n",
    "The `f` that enters our observation operator and the `weights` that come from `ppxf` differ by a factor of $\\Delta t \\Delta z$ i.e. the volument element of the age/metallicity grid.\n",
    "\n",
    "To make the two comparable, we must either divide the `ppxf_fit.weights` by the volume element,"
   ]
  },
  {
   "cell_type": "code",
   "execution_count": null,
   "id": "2cbaa564",
   "metadata": {},
   "outputs": [],
   "source": [
    "delta_zt = ssps.delta_z[:, np.newaxis] * ssps.delta_t[np.newaxis, :]"
   ]
  },
  {
   "cell_type": "code",
   "execution_count": null,
   "id": "81c111f2",
   "metadata": {},
   "outputs": [],
   "source": [
    "plt.imshow(f_true)\n",
    "plt.show()\n",
    "\n",
    "img = np.reshape(ppxf_fit.weights/delta_zt.flatten(), ssps.par_dims)\n",
    "plt.imshow(img)\n",
    "plt.show()"
   ]
  },
  {
   "cell_type": "markdown",
   "id": "92cf636d",
   "metadata": {},
   "source": [
    "or multiply the `f` belonging to our observation operator by the volume element, i.e."
   ]
  },
  {
   "cell_type": "code",
   "execution_count": null,
   "id": "b1e3cf3e",
   "metadata": {},
   "outputs": [],
   "source": [
    "plt.imshow(f_true*delta_zt)\n",
    "plt.show()\n",
    "\n",
    "img = np.reshape(ppxf_fit.weights, ssps.par_dims)\n",
    "plt.imshow(img)\n",
    "plt.show()"
   ]
  },
  {
   "cell_type": "markdown",
   "id": "c9345511",
   "metadata": {},
   "source": [
    "This second choice should make our result comparable to `m54_data.ppxf_map_solution`."
   ]
  },
  {
   "cell_type": "markdown",
   "id": "8f39c78f",
   "metadata": {},
   "source": [
    "Let's compare the kinematics,"
   ]
  },
  {
   "cell_type": "code",
   "execution_count": null,
   "id": "686be28a",
   "metadata": {},
   "outputs": [],
   "source": [
    "print(theta_v_true)"
   ]
  },
  {
   "cell_type": "code",
   "execution_count": null,
   "id": "89a26273",
   "metadata": {},
   "outputs": [],
   "source": [
    "ppxf_fit.sol"
   ]
  },
  {
   "cell_type": "markdown",
   "id": "294c6659",
   "metadata": {},
   "source": [
    "There is a sign differnce in the odd gauss hermite moments."
   ]
  },
  {
   "cell_type": "code",
   "execution_count": null,
   "id": "6b0ab513",
   "metadata": {},
   "outputs": [],
   "source": []
  }
 ],
 "metadata": {
  "kernelspec": {
   "display_name": "Python 3 (ipykernel)",
   "language": "python",
   "name": "python3"
  },
  "language_info": {
   "codemirror_mode": {
    "name": "ipython",
    "version": 3
   },
   "file_extension": ".py",
   "mimetype": "text/x-python",
   "name": "python",
   "nbconvert_exporter": "python",
   "pygments_lexer": "ipython3",
   "version": "3.9.6"
  }
 },
 "nbformat": 4,
 "nbformat_minor": 5
}
