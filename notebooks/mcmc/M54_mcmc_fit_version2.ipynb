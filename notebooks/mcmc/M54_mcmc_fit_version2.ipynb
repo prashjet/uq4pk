{
 "cells": [
  {
   "cell_type": "code",
   "execution_count": 1,
   "metadata": {},
   "outputs": [],
   "source": [
    "import sys\n",
    "sys.path.append('../')"
   ]
  },
  {
   "cell_type": "code",
   "execution_count": 2,
   "metadata": {},
   "outputs": [],
   "source": [
    "from numpyro import diagnostics\n",
    "import numpy as np\n",
    "import matplotlib.pyplot as plt\n",
    "import uq4pk_src\n",
    "from jax import random\n",
    "rng_key = random.PRNGKey(32743)"
   ]
  },
  {
   "cell_type": "markdown",
   "metadata": {},
   "source": [
    "# Fit M54 with SVD-MCMC \n",
    "\n",
    "First, we set up the data:"
   ]
  },
  {
   "cell_type": "code",
   "execution_count": 3,
   "metadata": {
    "pycharm": {
     "name": "#%%\n"
    },
    "scrolled": true
   },
   "outputs": [
    {
     "name": "stdout",
     "output_type": "stream",
     "text": [
      "\n",
      "Spectres: new_wavs contains values outside the range in spec_wavs, new_fluxes and new_errs will be filled with the value set in the 'fill' keyword argument. \n",
      "\n"
     ]
    }
   ],
   "source": [
    "m54_data = uq4pk_src.data.M54()\n",
    "m54_data.logarithmically_resample(dv=50.)\n",
    "\n",
    "ssps = uq4pk_src.model_grids.MilesSSP(\n",
    "    miles_mod_directory='EMILES_BASTI_BASE_BI_FITS',\n",
    "    imf_string='Ebi1.30',\n",
    "    lmd_min=None,\n",
    "    lmd_max=None,\n",
    "    )\n",
    "ssps.resample_spectra(m54_data.lmd)\n",
    "# normalise the SSP templates to be light-weighted rather than mass-weighted,\n",
    "ssps.Xw /= np.sum(ssps.Xw, 0)\n",
    "ssps.dv = m54_data.dv\n",
    "ssps.speed_of_light = m54_data.speed_of_light"
   ]
  },
  {
   "cell_type": "markdown",
   "metadata": {},
   "source": [
    "Fit the data using ``ppxf`` to get the multiplicative polynomial correction,"
   ]
  },
  {
   "cell_type": "code",
   "execution_count": 4,
   "metadata": {
    "pycharm": {
     "name": "#%%\n"
    }
   },
   "outputs": [
    {
     "name": "stdout",
     "output_type": "stream",
     "text": [
      " Best Fit:       Vel     sigma        h3        h4\n",
      " comp.  0:       146         3    -0.088     0.187\n",
      "chi2/DOF: 0.9353; degree = -1; mdegree = 21\n",
      "method = capfit; Jac calls: 9; Func calls: 241; Status: 2\n",
      "linear_method = lsq_box; Nonzero Templates (>0.1%):  22 / 636\n"
     ]
    },
    {
     "data": {
      "image/png": "[encoded data removed]",
      "text/plain": [
       "<Figure size 432x288 with 1 Axes>"
      ]
     },
     "metadata": {
      "needs_background": "light"
     },
     "output_type": "display_data"
    }
   ],
   "source": [
    "%matplotlib inline\n",
    "\n",
    "def orient_image(f):\n",
    "    \"\"\"\n",
    "    Transform the distribution function that goes into observation operator into an image\n",
    "    that has the correct orientation for visualisation.\n",
    "    \"\"\"\n",
    "    image = f\n",
    "    # Have to flip.\n",
    "    image = np.flipud(image)\n",
    "    return image\n",
    "\n",
    "from ppxf import ppxf\n",
    "\n",
    "npix_buffer_mask = 20\n",
    "m54_data.mask[:npix_buffer_mask] = False\n",
    "m54_data.mask[-npix_buffer_mask:] = False\n",
    "\n",
    "templates = ssps.Xw\n",
    "galaxy = m54_data.y\n",
    "noise = m54_data.noise_level\n",
    "velscale = ssps.dv\n",
    "start = [0., 30., 0., 0.]\n",
    "bounds = [[-500,500], [3,300.], [-0.3,0.3], [-0.3,0.3]]\n",
    "moments = 4\n",
    "mask = m54_data.mask\n",
    "\n",
    "# final pixel is NAN, breaks PPXF even though this is masked, so remove it here manually\n",
    "templates = templates[:-1,:]\n",
    "galaxy = galaxy[:-1]\n",
    "noise = noise[:-1]\n",
    "mask = mask[:-1]\n",
    "\n",
    "ppxf_fit = ppxf.ppxf(\n",
    "    templates,\n",
    "    galaxy,\n",
    "    noise,\n",
    "    velscale,\n",
    "    start=start,\n",
    "    degree=-1,\n",
    "    mdegree=21,\n",
    "    moments=moments,\n",
    "    bounds=bounds,\n",
    "    regul=1e-10,\n",
    "    mask=mask\n",
    ")\n",
    "\n",
    "f_ppxf = np.reshape(ppxf_fit.weights, ssps.par_dims)\n",
    "im_ppxf = orient_image(f_ppxf)\n",
    "plt.imshow(im_ppxf)\n",
    "plt.show()"
   ]
  },
  {
   "cell_type": "markdown",
   "metadata": {},
   "source": [
    "Next, correct the templates using the fitted polynomial."
   ]
  },
  {
   "cell_type": "code",
   "execution_count": 5,
   "metadata": {
    "pycharm": {
     "name": "#%%\n"
    }
   },
   "outputs": [],
   "source": [
    "continuum_distorition = ppxf_fit.mpoly\n",
    "# add an extra element to the end of array to account for one that we chopped off earlier\n",
    "continuum_distorition = np.concatenate([continuum_distorition, [continuum_distorition[-1]]])\n",
    "\n",
    "import copy\n",
    "ssps_corrected = copy.deepcopy(ssps)\n",
    "ssps_corrected.Xw = (ssps_corrected.Xw.T * continuum_distorition).T"
   ]
  },
  {
   "cell_type": "markdown",
   "metadata": {},
   "source": [
    "We set $\\theta_v$ equal to the PPXF fit. We have to invert the sign of $h_3$."
   ]
  },
  {
   "cell_type": "code",
   "execution_count": 6,
   "metadata": {
    "pycharm": {
     "name": "#%%\n"
    }
   },
   "outputs": [],
   "source": [
    "theta_v = np.array([146, 3, 1., 0., 0., 0.088, 0.187])"
   ]
  },
  {
   "cell_type": "markdown",
   "metadata": {},
   "source": [
    "The final element of M54 data and the noise level is `nan` and this screws things up. Simplest fix is to replace it with a non nan value. This is masked anyway - so won't make a difference to the results,"
   ]
  },
  {
   "cell_type": "code",
   "execution_count": 7,
   "metadata": {},
   "outputs": [],
   "source": [
    "y = 1.*m54_data.y\n",
    "y[-1] = y[-2]\n",
    "sigma_y = 1.*m54_data.noise_level\n",
    "sigma_y[-1] = sigma_y[-2]"
   ]
  },
  {
   "cell_type": "markdown",
   "metadata": {},
   "source": [
    "## fit the spectrum"
   ]
  },
  {
   "cell_type": "code",
   "execution_count": 8,
   "metadata": {
    "scrolled": true
   },
   "outputs": [
    {
     "name": "stdout",
     "output_type": "stream",
     "text": [
      "Distribution functions should have shape (12, 53)\n"
     ]
    }
   ],
   "source": [
    "svd_mcmc = uq4pk_src.svd_mcmc.SVD_MCMC(\n",
    "    ssps=ssps_corrected,\n",
    "    Theta_v_true=theta_v,\n",
    "    y=y,\n",
    "    sigma_y=sigma_y,\n",
    "    dv=m54_data.dv,\n",
    "    mask=m54_data.mask,\n",
    "    do_log_resample=False)"
   ]
  },
  {
   "cell_type": "code",
   "execution_count": 9,
   "metadata": {},
   "outputs": [],
   "source": [
    "svd_mcmc.set_q(15)"
   ]
  },
  {
   "cell_type": "code",
   "execution_count": 10,
   "metadata": {
    "scrolled": true
   },
   "outputs": [
    {
     "name": "stderr",
     "output_type": "stream",
     "text": [
      "/Users/pjethwa/miniconda3/envs/dcdirect/lib/python3.9/site-packages/ray/autoscaler/_private/cli_logger.py:57: FutureWarning: Not all Ray CLI dependencies were found. In Ray 1.4+, the Ray CLI, autoscaler, and dashboard will only be usable via `pip install 'ray[default]'`. Please update your install command.\n",
      "  warnings.warn(\n"
     ]
    },
    {
     "name": "stdout",
     "output_type": "stream",
     "text": [
      "Distribution functions should have shape (12, 53)\n"
     ]
    }
   ],
   "source": [
    "mask = m54_data.mask\n",
    "y = m54_data.y[mask]\n",
    "y_sd = m54_data.noise_level[mask]\n",
    "\n",
    "ppxf_scale = np.linalg.norm(f_ppxf)\n",
    "s = ppxf_scale\n",
    "y_scaled = y / s\n",
    "y_sd_scaled = y_sd / s\n",
    "from uq4pk_fit.inference import ForwardOperator, StatModel\n",
    "from uq4pk_fit.special_operators import OrnsteinUhlenbeck, DiscreteGradient, DiscreteLaplacian\n",
    "\n",
    "\n",
    "forward_operator = ForwardOperator(hermite_order=4, mask=mask, ssps=ssps_corrected, dv=ssps_corrected.dv,\n",
    "                                   do_log_resample=False)\n",
    "# Fit the model\n",
    "model = StatModel(y=y_scaled, y_sd=y_sd_scaled, forward_operator=forward_operator)\n",
    "model.fix_theta_v(indices=np.arange(model.dim_theta), values=theta_v)\n",
    "model.beta1 = 1.\n",
    "model.P1 = OrnsteinUhlenbeck(m=model.m_f, n=model.n_f, h=np.array([2., 1.]))\n",
    "\n",
    "beta_tilde_prior_cov = model.P1.cov/model.beta1"
   ]
  },
  {
   "cell_type": "code",
   "execution_count": 11,
   "metadata": {},
   "outputs": [],
   "source": [
    "beta_tilde_dr_single_model = svd_mcmc.get_beta_tilde_dr_single_model(Sigma_beta_tilde=beta_tilde_prior_cov)\n",
    "beta_tilde_dr_single_sampler = svd_mcmc.get_mcmc_sampler(beta_tilde_dr_single_model, num_warmup=500, num_samples=1000)"
   ]
  },
  {
   "cell_type": "code",
   "execution_count": 12,
   "metadata": {},
   "outputs": [
    {
     "name": "stderr",
     "output_type": "stream",
     "text": [
      "sample: 100%|█| 1500/1500 [08:10<00:00,  3.06it/s, 1023 steps of size 1.97e-\n"
     ]
    }
   ],
   "source": [
    "beta_tilde_dr_single_sampler.run(rng_key)"
   ]
  },
  {
   "cell_type": "markdown",
   "metadata": {},
   "source": [
    "## Diagnostics"
   ]
  },
  {
   "cell_type": "code",
   "execution_count": 13,
   "metadata": {},
   "outputs": [
    {
     "name": "stdout",
     "output_type": "stream",
     "text": [
      "\n",
      "                     mean       std    median      5.0%     95.0%     n_eff     r_hat\n",
      "  beta_tilde[0]      0.00      0.00      0.00      0.00      0.00    707.36      1.00\n",
      "  beta_tilde[1]      0.00      0.00      0.00      0.00      0.00    873.02      1.00\n",
      "  beta_tilde[2]      0.00      0.00      0.00      0.00      0.00    310.36      1.00\n",
      "  beta_tilde[3]      0.00      0.00      0.00      0.00      0.00    582.87      1.00\n",
      "  beta_tilde[4]      0.00      0.00      0.00      0.00      0.00    679.05      1.00\n",
      "  beta_tilde[5]      0.00      0.00      0.00      0.00      0.00    598.24      1.00\n",
      "  beta_tilde[6]      0.00      0.00      0.00      0.00      0.00    634.55      1.00\n",
      "  beta_tilde[7]      0.00      0.00      0.00      0.00      0.00    725.05      1.00\n",
      "  beta_tilde[8]      0.00      0.00      0.00      0.00      0.00    333.79      1.00\n",
      "  beta_tilde[9]      0.00      0.00      0.00      0.00      0.00    535.51      1.00\n",
      " beta_tilde[10]      0.00      0.00      0.00      0.00      0.00    871.56      1.00\n",
      " beta_tilde[11]      0.00      0.00      0.00      0.00      0.00    598.55      1.00\n",
      " beta_tilde[12]      0.00      0.00      0.00      0.00      0.00    470.95      1.00\n",
      " beta_tilde[13]      0.00      0.00      0.00      0.00      0.00    676.46      1.00\n",
      " beta_tilde[14]      0.00      0.00      0.00      0.00      0.00    843.17      1.00\n",
      " beta_tilde[15]      0.00      0.00      0.00      0.00      0.00    807.90      1.00\n",
      " beta_tilde[16]      0.00      0.00      0.00      0.00      0.00    712.58      1.00\n",
      " beta_tilde[17]      0.00      0.00      0.00      0.00      0.00    459.68      1.00\n",
      " beta_tilde[18]      0.00      0.00      0.00      0.00      0.00    585.85      1.00\n",
      " beta_tilde[19]      0.00      0.00      0.00      0.00      0.00    408.62      1.01\n",
      " beta_tilde[20]      0.00      0.00      0.00      0.00      0.00    630.54      1.00\n",
      " beta_tilde[21]      0.00      0.00      0.00      0.00      0.00    836.91      1.00\n",
      " beta_tilde[22]      0.00      0.00      0.00      0.00      0.00    522.56      1.00\n",
      " beta_tilde[23]      0.00      0.00      0.00      0.00      0.00    609.77      1.00\n",
      " beta_tilde[24]      0.00      0.00      0.00      0.00      0.00    499.95      1.00\n",
      " beta_tilde[25]      0.00      0.00      0.00      0.00      0.00    852.99      1.00\n",
      " beta_tilde[26]      0.00      0.00      0.00      0.00      0.00   1057.51      1.00\n",
      " beta_tilde[27]      0.00      0.00      0.00      0.00      0.00    407.99      1.00\n",
      " beta_tilde[28]      0.00      0.00      0.00      0.00      0.00    772.88      1.00\n",
      " beta_tilde[29]      0.00      0.00      0.00      0.00      0.00    512.70      1.00\n",
      " beta_tilde[30]      0.00      0.00      0.00      0.00      0.00    841.28      1.00\n",
      " beta_tilde[31]      0.00      0.00      0.00      0.00      0.00    712.89      1.00\n",
      " beta_tilde[32]      0.00      0.00      0.00      0.00      0.00    572.44      1.00\n",
      " beta_tilde[33]      0.00      0.00      0.00      0.00      0.00    665.15      1.00\n",
      " beta_tilde[34]      0.00      0.00      0.00      0.00      0.00    440.81      1.00\n",
      " beta_tilde[35]      0.00      0.00      0.00      0.00      0.00    569.00      1.00\n",
      " beta_tilde[36]      0.00      0.00      0.00      0.00      0.00    423.63      1.00\n",
      " beta_tilde[37]      0.00      0.00      0.00      0.00      0.00    882.33      1.00\n",
      " beta_tilde[38]      0.00      0.00      0.00      0.00      0.00    579.67      1.00\n",
      " beta_tilde[39]      0.00      0.00      0.00      0.00      0.00    368.83      1.00\n",
      " beta_tilde[40]      0.00      0.00      0.00      0.00      0.00    644.10      1.00\n",
      " beta_tilde[41]      0.00      0.00      0.00      0.00      0.00    291.77      1.00\n",
      " beta_tilde[42]      0.00      0.00      0.00      0.00      0.00    744.01      1.00\n",
      " beta_tilde[43]      0.00      0.00      0.00      0.00      0.00    476.89      1.00\n",
      " beta_tilde[44]      0.00      0.00      0.00      0.00      0.00   1203.58      1.00\n",
      " beta_tilde[45]      0.00      0.00      0.00      0.00      0.00    732.32      1.00\n",
      " beta_tilde[46]      0.00      0.00      0.00      0.00      0.00    784.26      1.00\n",
      " beta_tilde[47]      0.00      0.00      0.00      0.00      0.00    375.37      1.00\n",
      " beta_tilde[48]      0.00      0.00      0.00      0.00      0.00    399.97      1.00\n",
      " beta_tilde[49]      0.00      0.00      0.00      0.00      0.00    312.18      1.00\n",
      " beta_tilde[50]      0.00      0.00      0.00      0.00      0.00    599.72      1.00\n",
      " beta_tilde[51]      0.00      0.00      0.00      0.00      0.00   1283.57      1.00\n",
      " beta_tilde[52]      0.00      0.00      0.00      0.00      0.00    512.59      1.00\n",
      " beta_tilde[53]      0.00      0.00      0.00      0.00      0.00    541.18      1.00\n",
      " beta_tilde[54]      0.00      0.00      0.00      0.00      0.00    991.47      1.00\n",
      " beta_tilde[55]      0.00      0.00      0.00      0.00      0.00    667.53      1.00\n",
      " beta_tilde[56]      0.00      0.00      0.00      0.00      0.00    315.04      1.00\n",
      " beta_tilde[57]      0.00      0.00      0.00      0.00      0.00    649.07      1.00\n",
      " beta_tilde[58]      0.00      0.00      0.00      0.00      0.00    414.29      1.00\n",
      " beta_tilde[59]      0.00      0.00      0.00      0.00      0.00    511.81      1.00\n",
      " beta_tilde[60]      0.00      0.00      0.00      0.00      0.00    611.78      1.00\n",
      " beta_tilde[61]      0.00      0.00      0.00      0.00      0.00    221.04      1.00\n",
      " beta_tilde[62]      0.00      0.00      0.00      0.00      0.00    539.58      1.00\n",
      " beta_tilde[63]      0.00      0.00      0.00      0.00      0.00    421.92      1.00\n",
      " beta_tilde[64]      0.00      0.00      0.00      0.00      0.00    358.05      1.00\n",
      " beta_tilde[65]      0.00      0.00      0.00      0.00      0.00   1180.61      1.00\n",
      " beta_tilde[66]      0.00      0.00      0.00      0.00      0.00    383.52      1.02\n",
      " beta_tilde[67]      0.00      0.00      0.00      0.00      0.00   1347.90      1.00\n",
      " beta_tilde[68]      0.00      0.00      0.00      0.00      0.00    499.91      1.00\n",
      " beta_tilde[69]      0.00      0.00      0.00      0.00      0.00    378.24      1.00\n",
      " beta_tilde[70]      0.00      0.00      0.00      0.00      0.00   1139.68      1.00\n",
      " beta_tilde[71]      0.00      0.00      0.00      0.00      0.00    840.33      1.00\n",
      " beta_tilde[72]      0.00      0.00      0.00      0.00      0.00    764.57      1.00\n",
      " beta_tilde[73]      0.00      0.00      0.00      0.00      0.00    469.39      1.00\n",
      " beta_tilde[74]      0.00      0.00      0.00      0.00      0.00    717.91      1.00\n",
      " beta_tilde[75]      0.00      0.00      0.00      0.00      0.00    401.03      1.00\n",
      " beta_tilde[76]      0.00      0.00      0.00      0.00      0.00    590.15      1.00\n",
      " beta_tilde[77]      0.00      0.00      0.00      0.00      0.00    436.35      1.00\n",
      " beta_tilde[78]      0.00      0.00      0.00      0.00      0.00    548.84      1.00\n",
      " beta_tilde[79]      0.00      0.00      0.00      0.00      0.00    333.56      1.00\n",
      " beta_tilde[80]      0.00      0.00      0.00      0.00      0.00    412.95      1.00\n",
      " beta_tilde[81]      0.00      0.00      0.00      0.00      0.00    489.37      1.00\n",
      " beta_tilde[82]      0.00      0.00      0.00      0.00      0.00    259.67      1.01\n",
      " beta_tilde[83]      0.00      0.00      0.00      0.00      0.00    468.03      1.00\n",
      " beta_tilde[84]      0.00      0.00      0.00      0.00      0.00    581.76      1.00\n",
      " beta_tilde[85]      0.00      0.00      0.00      0.00      0.00    569.80      1.00\n",
      " beta_tilde[86]      0.00      0.00      0.00      0.00      0.00    453.32      1.00\n",
      " beta_tilde[87]      0.00      0.00      0.00      0.00      0.00    769.72      1.00\n",
      " beta_tilde[88]      0.00      0.00      0.00      0.00      0.00    786.99      1.00\n",
      " beta_tilde[89]      0.00      0.00      0.00      0.00      0.00    338.70      1.00\n",
      " beta_tilde[90]      0.00      0.00      0.00      0.00      0.00    533.38      1.00\n",
      " beta_tilde[91]      0.00      0.00      0.00      0.00      0.00    467.74      1.00\n",
      " beta_tilde[92]      0.00      0.00      0.00      0.00      0.00    495.95      1.00\n",
      " beta_tilde[93]      0.00      0.00      0.00      0.00      0.00   1095.39      1.00\n",
      " beta_tilde[94]      0.00      0.00      0.00      0.00      0.00    733.25      1.00\n",
      " beta_tilde[95]      0.00      0.00      0.00      0.00      0.00    403.48      1.00\n",
      " beta_tilde[96]      0.00      0.00      0.00      0.00      0.00    742.24      1.00\n",
      " beta_tilde[97]      0.00      0.00      0.00      0.00      0.00    542.07      1.00\n",
      " beta_tilde[98]      0.00      0.00      0.00      0.00      0.00    557.22      1.00\n",
      " beta_tilde[99]      0.00      0.00      0.00      0.00      0.00    492.02      1.00\n",
      "beta_tilde[100]      0.00      0.00      0.00      0.00      0.00    430.65      1.00\n",
      "beta_tilde[101]      0.00      0.00      0.00      0.00      0.00    444.25      1.00\n",
      "beta_tilde[102]      0.00      0.00      0.00      0.00      0.00    649.49      1.00\n",
      "beta_tilde[103]      0.00      0.00      0.00      0.00      0.00   1252.01      1.00\n",
      "beta_tilde[104]      0.00      0.00      0.00      0.00      0.01    900.94      1.00\n",
      "beta_tilde[105]      0.00      0.00      0.00      0.00      0.01    316.20      1.00\n",
      "beta_tilde[106]      0.00      0.00      0.00      0.00      0.00    822.69      1.00\n",
      "beta_tilde[107]      0.00      0.00      0.00      0.00      0.00    665.83      1.00\n",
      "beta_tilde[108]      0.00      0.00      0.00      0.00      0.00    600.29      1.01\n",
      "beta_tilde[109]      0.00      0.00      0.00      0.00      0.00   1262.81      1.00\n",
      "beta_tilde[110]      0.00      0.00      0.00      0.00      0.00    561.66      1.00\n",
      "beta_tilde[111]      0.00      0.00      0.00      0.00      0.00    932.49      1.00\n",
      "beta_tilde[112]      0.00      0.00      0.00      0.00      0.00    577.14      1.00\n",
      "beta_tilde[113]      0.00      0.00      0.00      0.00      0.00    569.00      1.00\n",
      "beta_tilde[114]      0.00      0.00      0.00      0.00      0.00   1162.33      1.00\n",
      "beta_tilde[115]      0.00      0.00      0.00      0.00      0.00    175.58      1.00\n",
      "beta_tilde[116]      0.00      0.00      0.00      0.00      0.00    833.82      1.00\n",
      "beta_tilde[117]      0.00      0.00      0.00      0.00      0.00    493.27      1.00\n",
      "beta_tilde[118]      0.00      0.00      0.00      0.00      0.00    423.09      1.00\n",
      "beta_tilde[119]      0.00      0.00      0.00      0.00      0.00    928.12      1.00\n",
      "beta_tilde[120]      0.00      0.00      0.00      0.00      0.00    935.46      1.00\n",
      "beta_tilde[121]      0.00      0.00      0.00      0.00      0.00    427.49      1.00\n",
      "beta_tilde[122]      0.00      0.00      0.00      0.00      0.00    405.52      1.00\n",
      "beta_tilde[123]      0.00      0.00      0.00      0.00      0.00    505.32      1.00\n",
      "beta_tilde[124]      0.00      0.00      0.00      0.00      0.00    534.19      1.00\n",
      "beta_tilde[125]      0.00      0.00      0.00      0.00      0.00   1040.01      1.00\n",
      "beta_tilde[126]      0.00      0.00      0.00      0.00      0.00    441.08      1.00\n",
      "beta_tilde[127]      0.00      0.00      0.00      0.00      0.00    791.53      1.00\n",
      "beta_tilde[128]      0.00      0.00      0.00      0.00      0.00    337.59      1.00\n",
      "beta_tilde[129]      0.00      0.00      0.00      0.00      0.00    274.67      1.00\n",
      "beta_tilde[130]      0.00      0.00      0.00      0.00      0.00    247.14      1.00\n",
      "beta_tilde[131]      0.00      0.00      0.00      0.00      0.00    633.72      1.01\n",
      "beta_tilde[132]      0.00      0.00      0.00      0.00      0.00    638.43      1.00\n",
      "beta_tilde[133]      0.00      0.00      0.00      0.00      0.00    533.34      1.00\n",
      "beta_tilde[134]      0.00      0.00      0.00      0.00      0.00    712.88      1.00\n",
      "beta_tilde[135]      0.00      0.00      0.00      0.00      0.00    742.46      1.00\n",
      "beta_tilde[136]      0.00      0.00      0.00      0.00      0.00    395.16      1.01\n",
      "beta_tilde[137]      0.00      0.00      0.00      0.00      0.00    851.73      1.00\n",
      "beta_tilde[138]      0.00      0.00      0.00      0.00      0.00    557.47      1.00\n",
      "beta_tilde[139]      0.00      0.00      0.00      0.00      0.00    661.98      1.00\n",
      "beta_tilde[140]      0.00      0.00      0.00      0.00      0.00    528.72      1.00\n",
      "beta_tilde[141]      0.00      0.00      0.00      0.00      0.00    451.56      1.00\n",
      "beta_tilde[142]      0.00      0.00      0.00      0.00      0.00    646.11      1.00\n",
      "beta_tilde[143]      0.00      0.00      0.00      0.00      0.00    890.07      1.00\n",
      "beta_tilde[144]      0.00      0.00      0.00      0.00      0.00    487.99      1.00\n",
      "beta_tilde[145]      0.00      0.00      0.00      0.00      0.00    382.57      1.01\n",
      "beta_tilde[146]      0.00      0.00      0.00      0.00      0.00    537.21      1.00\n",
      "beta_tilde[147]      0.00      0.00      0.00      0.00      0.01    772.81      1.00\n",
      "beta_tilde[148]      0.00      0.00      0.00      0.00      0.01    363.67      1.00\n",
      "beta_tilde[149]      0.00      0.00      0.00      0.00      0.01    408.49      1.00\n",
      "beta_tilde[150]      0.00      0.00      0.00      0.00      0.01    670.33      1.00\n",
      "beta_tilde[151]      0.00      0.00      0.00      0.00      0.01    446.93      1.00\n",
      "beta_tilde[152]      0.00      0.00      0.00      0.00      0.01    737.05      1.00\n",
      "beta_tilde[153]      0.00      0.00      0.00      0.00      0.01    815.14      1.00\n",
      "beta_tilde[154]      0.00      0.00      0.00      0.00      0.01    640.45      1.01\n",
      "beta_tilde[155]      0.00      0.00      0.00      0.00      0.01    253.34      1.01\n",
      "beta_tilde[156]      0.00      0.00      0.00      0.00      0.01   1063.51      1.00\n",
      "beta_tilde[157]      0.00      0.00      0.00      0.00      0.01    797.80      1.00\n",
      "beta_tilde[158]      0.45      0.02      0.45      0.41      0.49    181.08      1.00\n",
      "beta_tilde[159]      0.00      0.00      0.00      0.00      0.00    362.86      1.00\n",
      "beta_tilde[160]      0.00      0.00      0.00      0.00      0.00    496.93      1.00\n",
      "beta_tilde[161]      0.00      0.00      0.00      0.00      0.00    564.06      1.00\n",
      "beta_tilde[162]      0.00      0.00      0.00      0.00      0.00    594.21      1.00\n",
      "beta_tilde[163]      0.00      0.00      0.00      0.00      0.00    408.41      1.00\n",
      "beta_tilde[164]      0.00      0.00      0.00      0.00      0.00    496.07      1.00\n",
      "beta_tilde[165]      0.00      0.00      0.00      0.00      0.00    618.66      1.00\n",
      "beta_tilde[166]      0.00      0.00      0.00      0.00      0.00   1181.93      1.00\n",
      "beta_tilde[167]      0.00      0.00      0.00      0.00      0.00    470.54      1.01\n",
      "beta_tilde[168]      0.00      0.00      0.00      0.00      0.00    471.40      1.00\n",
      "beta_tilde[169]      0.00      0.00      0.00      0.00      0.00    673.61      1.00\n",
      "beta_tilde[170]      0.00      0.00      0.00      0.00      0.00    852.58      1.00\n",
      "beta_tilde[171]      0.00      0.00      0.00      0.00      0.00    614.53      1.00\n",
      "beta_tilde[172]      0.00      0.00      0.00      0.00      0.00    833.55      1.00\n",
      "beta_tilde[173]      0.00      0.00      0.00      0.00      0.00    786.63      1.00\n",
      "beta_tilde[174]      0.00      0.00      0.00      0.00      0.00    409.84      1.00\n",
      "beta_tilde[175]      0.00      0.00      0.00      0.00      0.00    511.80      1.00\n",
      "beta_tilde[176]      0.00      0.00      0.00      0.00      0.00    694.84      1.00\n",
      "beta_tilde[177]      0.00      0.00      0.00      0.00      0.00    404.37      1.00\n",
      "beta_tilde[178]      0.00      0.00      0.00      0.00      0.00    515.17      1.01\n",
      "beta_tilde[179]      0.00      0.00      0.00      0.00      0.00    502.63      1.00\n",
      "beta_tilde[180]      0.00      0.00      0.00      0.00      0.00    547.43      1.00\n",
      "beta_tilde[181]      0.00      0.00      0.00      0.00      0.00   1096.45      1.00\n",
      "beta_tilde[182]      0.00      0.00      0.00      0.00      0.00    825.17      1.00\n",
      "beta_tilde[183]      0.00      0.00      0.00      0.00      0.00    610.64      1.01\n",
      "beta_tilde[184]      0.00      0.00      0.00      0.00      0.00    868.41      1.00\n",
      "beta_tilde[185]      0.00      0.00      0.00      0.00      0.00    496.89      1.00\n",
      "beta_tilde[186]      0.00      0.00      0.00      0.00      0.00    280.21      1.00\n",
      "beta_tilde[187]      0.00      0.00      0.00      0.00      0.00    408.57      1.00\n",
      "beta_tilde[188]      0.00      0.00      0.00      0.00      0.00    460.24      1.00\n",
      "beta_tilde[189]      0.00      0.00      0.00      0.00      0.00    580.98      1.00\n",
      "beta_tilde[190]      0.00      0.00      0.00      0.00      0.00    407.75      1.01\n",
      "beta_tilde[191]      0.00      0.00      0.00      0.00      0.00    484.17      1.00\n",
      "beta_tilde[192]      0.00      0.00      0.00      0.00      0.00    287.19      1.00\n",
      "beta_tilde[193]      0.00      0.00      0.00      0.00      0.00    335.74      1.00\n",
      "beta_tilde[194]      0.00      0.00      0.00      0.00      0.00    767.58      1.00\n",
      "beta_tilde[195]      0.00      0.00      0.00      0.00      0.00    461.54      1.00\n",
      "beta_tilde[196]      0.00      0.00      0.00      0.00      0.01    354.49      1.00\n",
      "beta_tilde[197]      0.00      0.00      0.00      0.00      0.01    820.53      1.00\n",
      "beta_tilde[198]      0.00      0.00      0.00      0.00      0.01    871.01      1.00\n",
      "beta_tilde[199]      0.01      0.01      0.00      0.00      0.01    283.35      1.01\n",
      "beta_tilde[200]      0.01      0.01      0.00      0.00      0.01    471.51      1.00\n",
      "beta_tilde[201]      0.01      0.01      0.01      0.00      0.02    553.21      1.00\n",
      "beta_tilde[202]      0.02      0.01      0.01      0.00      0.04    340.02      1.00\n",
      "beta_tilde[203]      0.01      0.01      0.00      0.00      0.01    924.74      1.00\n",
      "beta_tilde[204]      0.00      0.00      0.00      0.00      0.01    668.46      1.00\n",
      "beta_tilde[205]      0.00      0.00      0.00      0.00      0.01    624.18      1.00\n",
      "beta_tilde[206]      0.00      0.00      0.00      0.00      0.00    818.11      1.00\n",
      "beta_tilde[207]      0.00      0.00      0.00      0.00      0.00    760.61      1.00\n",
      "beta_tilde[208]      0.00      0.00      0.00      0.00      0.00    358.00      1.00\n",
      "beta_tilde[209]      0.00      0.00      0.00      0.00      0.00    867.97      1.00\n",
      "beta_tilde[210]      0.00      0.00      0.00      0.00      0.00    592.64      1.00\n",
      "beta_tilde[211]      0.00      0.00      0.00      0.00      0.01    911.41      1.00\n",
      "beta_tilde[212]      0.00      0.00      0.00      0.00      0.00    841.13      1.00\n",
      "beta_tilde[213]      0.00      0.00      0.00      0.00      0.00    983.41      1.00\n",
      "beta_tilde[214]      0.00      0.00      0.00      0.00      0.00    462.71      1.01\n",
      "beta_tilde[215]      0.00      0.00      0.00      0.00      0.00    600.27      1.00\n",
      "beta_tilde[216]      0.00      0.00      0.00      0.00      0.00    630.33      1.00\n",
      "beta_tilde[217]      0.00      0.00      0.00      0.00      0.00   1048.57      1.00\n",
      "beta_tilde[218]      0.00      0.00      0.00      0.00      0.00    527.95      1.00\n",
      "beta_tilde[219]      0.00      0.00      0.00      0.00      0.00    809.07      1.02\n",
      "beta_tilde[220]      0.00      0.00      0.00      0.00      0.00    707.63      1.00\n",
      "beta_tilde[221]      0.00      0.00      0.00      0.00      0.00    262.34      1.00\n",
      "beta_tilde[222]      0.00      0.00      0.00      0.00      0.00    603.98      1.00\n",
      "beta_tilde[223]      0.00      0.00      0.00      0.00      0.00    419.26      1.00\n",
      "beta_tilde[224]      0.00      0.00      0.00      0.00      0.00    389.49      1.01\n",
      "beta_tilde[225]      0.00      0.00      0.00      0.00      0.00    586.57      1.00\n",
      "beta_tilde[226]      0.00      0.00      0.00      0.00      0.00    412.20      1.00\n",
      "beta_tilde[227]      0.00      0.00      0.00      0.00      0.00    360.64      1.01\n",
      "beta_tilde[228]      0.00      0.00      0.00      0.00      0.00    432.00      1.00\n",
      "beta_tilde[229]      0.00      0.00      0.00      0.00      0.00    421.96      1.00\n",
      "beta_tilde[230]      0.00      0.00      0.00      0.00      0.00    387.46      1.00\n",
      "beta_tilde[231]      0.00      0.00      0.00      0.00      0.00    221.01      1.01\n",
      "beta_tilde[232]      0.00      0.00      0.00      0.00      0.00    396.25      1.00\n",
      "beta_tilde[233]      0.00      0.00      0.00      0.00      0.00    420.88      1.00\n",
      "beta_tilde[234]      0.00      0.00      0.00      0.00      0.00    645.10      1.00\n",
      "beta_tilde[235]      0.00      0.00      0.00      0.00      0.00    625.80      1.00\n",
      "beta_tilde[236]      0.00      0.00      0.00      0.00      0.00    384.21      1.00\n",
      "beta_tilde[237]      0.00      0.00      0.00      0.00      0.00    793.48      1.00\n",
      "beta_tilde[238]      0.00      0.00      0.00      0.00      0.00    573.10      1.01\n",
      "beta_tilde[239]      0.00      0.00      0.00      0.00      0.00    549.56      1.00\n",
      "beta_tilde[240]      0.00      0.00      0.00      0.00      0.00    496.54      1.00\n",
      "beta_tilde[241]      0.00      0.00      0.00      0.00      0.00    271.62      1.00\n",
      "beta_tilde[242]      0.00      0.00      0.00      0.00      0.00    784.35      1.00\n",
      "beta_tilde[243]      0.00      0.00      0.00      0.00      0.00    569.12      1.00\n",
      "beta_tilde[244]      0.00      0.00      0.00      0.00      0.00    687.74      1.00\n",
      "beta_tilde[245]      0.00      0.00      0.00      0.00      0.00    529.02      1.00\n",
      "beta_tilde[246]      0.00      0.00      0.00      0.00      0.00    378.84      1.00\n",
      "beta_tilde[247]      0.00      0.00      0.00      0.00      0.00    513.89      1.00\n",
      "beta_tilde[248]      0.00      0.00      0.00      0.00      0.00    472.65      1.00\n",
      "beta_tilde[249]      0.00      0.00      0.00      0.00      0.00   1146.90      1.00\n",
      "beta_tilde[250]      0.00      0.00      0.00      0.00      0.00   1161.84      1.00\n",
      "beta_tilde[251]      0.00      0.00      0.00      0.00      0.00    372.76      1.00\n",
      "beta_tilde[252]      0.00      0.00      0.00      0.00      0.00    745.09      1.00\n",
      "beta_tilde[253]      0.00      0.00      0.00      0.00      0.00   1140.19      1.00\n",
      "beta_tilde[254]      0.00      0.00      0.00      0.00      0.00    690.62      1.00\n",
      "beta_tilde[255]      0.00      0.00      0.00      0.00      0.00    482.68      1.00\n",
      "beta_tilde[256]      0.00      0.00      0.00      0.00      0.00    505.16      1.00\n",
      "beta_tilde[257]      0.00      0.00      0.00      0.00      0.00    360.41      1.01\n",
      "beta_tilde[258]      0.00      0.00      0.00      0.00      0.00    535.22      1.00\n",
      "beta_tilde[259]      0.00      0.00      0.00      0.00      0.00    846.38      1.00\n",
      "beta_tilde[260]      0.00      0.00      0.00      0.00      0.00    420.15      1.00\n",
      "beta_tilde[261]      0.00      0.00      0.00      0.00      0.00    681.56      1.00\n",
      "beta_tilde[262]      0.00      0.00      0.00      0.00      0.00    957.25      1.00\n",
      "beta_tilde[263]      0.00      0.00      0.00      0.00      0.00    317.26      1.00\n",
      "beta_tilde[264]      0.00      0.00      0.00      0.00      0.00    477.14      1.00\n",
      "beta_tilde[265]      0.00      0.00      0.00      0.00      0.01    435.07      1.00\n",
      "beta_tilde[266]      0.03      0.02      0.03      0.00      0.05    272.23      1.00\n",
      "beta_tilde[267]      0.03      0.02      0.03      0.00      0.05    276.80      1.00\n",
      "beta_tilde[268]      0.01      0.01      0.01      0.00      0.02    528.16      1.00\n",
      "beta_tilde[269]      0.00      0.00      0.00      0.00      0.01    505.52      1.00\n",
      "beta_tilde[270]      0.00      0.00      0.00      0.00      0.00    804.00      1.01\n",
      "beta_tilde[271]      0.00      0.00      0.00      0.00      0.00    884.20      1.00\n",
      "beta_tilde[272]      0.00      0.00      0.00      0.00      0.00    365.07      1.00\n",
      "beta_tilde[273]      0.00      0.00      0.00      0.00      0.00    308.23      1.00\n",
      "beta_tilde[274]      0.00      0.00      0.00      0.00      0.00    563.15      1.00\n",
      "beta_tilde[275]      0.00      0.00      0.00      0.00      0.00    577.07      1.00\n",
      "beta_tilde[276]      0.00      0.00      0.00      0.00      0.00    714.70      1.01\n",
      "beta_tilde[277]      0.00      0.00      0.00      0.00      0.00    453.56      1.00\n",
      "beta_tilde[278]      0.00      0.00      0.00      0.00      0.00    425.75      1.00\n",
      "beta_tilde[279]      0.00      0.00      0.00      0.00      0.00    677.55      1.00\n",
      "beta_tilde[280]      0.00      0.00      0.00      0.00      0.00    520.12      1.00\n",
      "beta_tilde[281]      0.00      0.00      0.00      0.00      0.00    519.64      1.00\n",
      "beta_tilde[282]      0.00      0.00      0.00      0.00      0.00    531.48      1.00\n",
      "beta_tilde[283]      0.00      0.00      0.00      0.00      0.00    380.04      1.00\n",
      "beta_tilde[284]      0.00      0.00      0.00      0.00      0.00    444.95      1.00\n",
      "beta_tilde[285]      0.00      0.00      0.00      0.00      0.00    827.49      1.00\n",
      "beta_tilde[286]      0.00      0.00      0.00      0.00      0.00    531.71      1.00\n",
      "beta_tilde[287]      0.00      0.00      0.00      0.00      0.00    302.12      1.00\n",
      "beta_tilde[288]      0.00      0.00      0.00      0.00      0.00    661.00      1.00\n",
      "beta_tilde[289]      0.00      0.00      0.00      0.00      0.00    410.71      1.01\n",
      "beta_tilde[290]      0.00      0.00      0.00      0.00      0.00    767.71      1.00\n",
      "beta_tilde[291]      0.00      0.00      0.00      0.00      0.00    352.35      1.00\n",
      "beta_tilde[292]      0.00      0.00      0.00      0.00      0.00    907.23      1.00\n",
      "beta_tilde[293]      0.00      0.00      0.00      0.00      0.00    399.78      1.00\n",
      "beta_tilde[294]      0.00      0.00      0.00      0.00      0.00    519.55      1.00\n",
      "beta_tilde[295]      0.00      0.00      0.00      0.00      0.00    903.20      1.00\n",
      "beta_tilde[296]      0.00      0.00      0.00      0.00      0.00    584.37      1.00\n",
      "beta_tilde[297]      0.00      0.00      0.00      0.00      0.00    711.51      1.00\n",
      "beta_tilde[298]      0.00      0.00      0.00      0.00      0.00    499.90      1.01\n",
      "beta_tilde[299]      0.00      0.00      0.00      0.00      0.00    756.02      1.00\n",
      "beta_tilde[300]      0.00      0.00      0.00      0.00      0.00   1137.24      1.00\n",
      "beta_tilde[301]      0.00      0.00      0.00      0.00      0.00    557.68      1.00\n",
      "beta_tilde[302]      0.00      0.00      0.00      0.00      0.00    582.06      1.00\n",
      "beta_tilde[303]      0.00      0.00      0.00      0.00      0.00    545.04      1.00\n",
      "beta_tilde[304]      0.00      0.00      0.00      0.00      0.00    743.77      1.00\n",
      "beta_tilde[305]      0.00      0.00      0.00      0.00      0.00    456.16      1.00\n",
      "beta_tilde[306]      0.00      0.00      0.00      0.00      0.00    500.11      1.00\n",
      "beta_tilde[307]      0.00      0.00      0.00      0.00      0.00    445.98      1.00\n",
      "beta_tilde[308]      0.00      0.00      0.00      0.00      0.00    330.08      1.00\n",
      "beta_tilde[309]      0.00      0.00      0.00      0.00      0.00    431.94      1.00\n",
      "beta_tilde[310]      0.00      0.00      0.00      0.00      0.00    420.65      1.01\n",
      "beta_tilde[311]      0.00      0.00      0.00      0.00      0.00    708.11      1.00\n",
      "beta_tilde[312]      0.00      0.00      0.00      0.00      0.00    821.01      1.00\n",
      "beta_tilde[313]      0.00      0.00      0.00      0.00      0.00    755.50      1.00\n",
      "beta_tilde[314]      0.00      0.00      0.00      0.00      0.00    501.24      1.00\n",
      "beta_tilde[315]      0.00      0.00      0.00      0.00      0.00    946.15      1.00\n",
      "beta_tilde[316]      0.00      0.00      0.00      0.00      0.00    770.95      1.00\n",
      "beta_tilde[317]      0.00      0.00      0.00      0.00      0.00    930.13      1.00\n",
      "beta_tilde[318]      0.00      0.00      0.00      0.00      0.00    273.02      1.00\n",
      "beta_tilde[319]      0.00      0.00      0.00      0.00      0.00    429.76      1.00\n",
      "beta_tilde[320]      0.00      0.00      0.00      0.00      0.00    379.63      1.00\n",
      "beta_tilde[321]      0.00      0.00      0.00      0.00      0.00    269.85      1.00\n",
      "beta_tilde[322]      0.00      0.00      0.00      0.00      0.00    722.35      1.00\n",
      "beta_tilde[323]      0.00      0.00      0.00      0.00      0.00    605.61      1.00\n",
      "beta_tilde[324]      0.00      0.00      0.00      0.00      0.00    344.88      1.00\n",
      "beta_tilde[325]      0.00      0.00      0.00      0.00      0.00    694.42      1.00\n",
      "beta_tilde[326]      0.00      0.00      0.00      0.00      0.00   1160.86      1.00\n",
      "beta_tilde[327]      0.00      0.00      0.00      0.00      0.00    683.04      1.00\n",
      "beta_tilde[328]      0.00      0.00      0.00      0.00      0.00    925.93      1.00\n",
      "beta_tilde[329]      0.00      0.00      0.00      0.00      0.00    897.53      1.00\n",
      "beta_tilde[330]      0.00      0.00      0.00      0.00      0.00    324.22      1.00\n",
      "beta_tilde[331]      0.00      0.00      0.00      0.00      0.00    722.44      1.00\n",
      "beta_tilde[332]      0.00      0.00      0.00      0.00      0.00    392.56      1.00\n",
      "beta_tilde[333]      0.00      0.00      0.00      0.00      0.00    543.23      1.00\n",
      "beta_tilde[334]      0.00      0.00      0.00      0.00      0.00    768.17      1.00\n",
      "beta_tilde[335]      0.00      0.00      0.00      0.00      0.00    611.53      1.00\n",
      "beta_tilde[336]      0.00      0.00      0.00      0.00      0.00   1245.44      1.00\n",
      "beta_tilde[337]      0.00      0.00      0.00      0.00      0.00    792.82      1.00\n",
      "beta_tilde[338]      0.00      0.00      0.00      0.00      0.00    374.29      1.00\n",
      "beta_tilde[339]      0.00      0.00      0.00      0.00      0.00    350.08      1.00\n",
      "beta_tilde[340]      0.00      0.00      0.00      0.00      0.00    752.32      1.00\n",
      "beta_tilde[341]      0.00      0.00      0.00      0.00      0.00    430.92      1.00\n",
      "beta_tilde[342]      0.00      0.00      0.00      0.00      0.00    511.12      1.00\n",
      "beta_tilde[343]      0.00      0.00      0.00      0.00      0.00    500.40      1.00\n",
      "beta_tilde[344]      0.00      0.00      0.00      0.00      0.00    502.52      1.01\n",
      "beta_tilde[345]      0.00      0.00      0.00      0.00      0.00    243.60      1.00\n",
      "beta_tilde[346]      0.00      0.00      0.00      0.00      0.00    365.68      1.01\n",
      "beta_tilde[347]      0.00      0.00      0.00      0.00      0.00   1086.76      1.00\n",
      "beta_tilde[348]      0.00      0.00      0.00      0.00      0.00   1026.83      1.00\n",
      "beta_tilde[349]      0.00      0.00      0.00      0.00      0.00    295.73      1.01\n",
      "beta_tilde[350]      0.00      0.00      0.00      0.00      0.00    496.57      1.00\n",
      "beta_tilde[351]      0.00      0.00      0.00      0.00      0.00    455.84      1.00\n",
      "beta_tilde[352]      0.00      0.00      0.00      0.00      0.00    388.26      1.01\n",
      "beta_tilde[353]      0.00      0.00      0.00      0.00      0.00    667.92      1.00\n",
      "beta_tilde[354]      0.00      0.00      0.00      0.00      0.00    340.55      1.00\n",
      "beta_tilde[355]      0.00      0.00      0.00      0.00      0.00    559.49      1.00\n",
      "beta_tilde[356]      0.00      0.00      0.00      0.00      0.00    692.45      1.00\n",
      "beta_tilde[357]      0.00      0.00      0.00      0.00      0.00    423.21      1.00\n",
      "beta_tilde[358]      0.00      0.00      0.00      0.00      0.00    441.36      1.00\n",
      "beta_tilde[359]      0.00      0.00      0.00      0.00      0.00    784.34      1.00\n",
      "beta_tilde[360]      0.00      0.00      0.00      0.00      0.00    480.61      1.00\n",
      "beta_tilde[361]      0.00      0.00      0.00      0.00      0.00    596.87      1.00\n",
      "beta_tilde[362]      0.00      0.00      0.00      0.00      0.00    406.10      1.00\n",
      "beta_tilde[363]      0.00      0.00      0.00      0.00      0.00    301.29      1.00\n",
      "beta_tilde[364]      0.00      0.00      0.00      0.00      0.00    497.85      1.00\n",
      "beta_tilde[365]      0.00      0.00      0.00      0.00      0.00    598.41      1.00\n",
      "beta_tilde[366]      0.00      0.00      0.00      0.00      0.00    439.33      1.00\n",
      "beta_tilde[367]      0.00      0.00      0.00      0.00      0.00    647.69      1.00\n",
      "beta_tilde[368]      0.00      0.00      0.00      0.00      0.00    768.07      1.00\n",
      "beta_tilde[369]      0.00      0.00      0.00      0.00      0.00    773.08      1.00\n",
      "beta_tilde[370]      0.00      0.00      0.00      0.00      0.00    288.35      1.01\n",
      "beta_tilde[371]      0.00      0.00      0.00      0.00      0.00    616.03      1.00\n",
      "beta_tilde[372]      0.00      0.00      0.00      0.00      0.00    754.58      1.00\n",
      "beta_tilde[373]      0.00      0.00      0.00      0.00      0.00    337.14      1.00\n",
      "beta_tilde[374]      0.00      0.00      0.00      0.00      0.00    386.02      1.00\n",
      "beta_tilde[375]      0.00      0.00      0.00      0.00      0.00    863.92      1.00\n",
      "beta_tilde[376]      0.00      0.00      0.00      0.00      0.00    483.61      1.00\n",
      "beta_tilde[377]      0.00      0.00      0.00      0.00      0.00    617.66      1.00\n",
      "beta_tilde[378]      0.00      0.00      0.00      0.00      0.00    608.31      1.00\n",
      "beta_tilde[379]      0.00      0.00      0.00      0.00      0.00    581.34      1.00\n",
      "beta_tilde[380]      0.00      0.00      0.00      0.00      0.00    477.44      1.00\n",
      "beta_tilde[381]      0.00      0.00      0.00      0.00      0.00    797.95      1.00\n",
      "beta_tilde[382]      0.00      0.00      0.00      0.00      0.00   1037.74      1.00\n",
      "beta_tilde[383]      0.00      0.00      0.00      0.00      0.00    504.45      1.01\n",
      "beta_tilde[384]      0.00      0.00      0.00      0.00      0.00    354.96      1.01\n",
      "beta_tilde[385]      0.00      0.00      0.00      0.00      0.00    502.57      1.00\n",
      "beta_tilde[386]      0.00      0.00      0.00      0.00      0.00    695.25      1.00\n",
      "beta_tilde[387]      0.00      0.00      0.00      0.00      0.00    611.01      1.00\n",
      "beta_tilde[388]      0.00      0.00      0.00      0.00      0.00   1162.05      1.00\n",
      "beta_tilde[389]      0.00      0.00      0.00      0.00      0.00    365.88      1.00\n",
      "beta_tilde[390]      0.00      0.00      0.00      0.00      0.00    641.66      1.00\n",
      "beta_tilde[391]      0.00      0.00      0.00      0.00      0.00    781.37      1.00\n",
      "beta_tilde[392]      0.00      0.00      0.00      0.00      0.00    568.86      1.00\n",
      "beta_tilde[393]      0.00      0.00      0.00      0.00      0.00    846.56      1.00\n",
      "beta_tilde[394]      0.00      0.00      0.00      0.00      0.00    594.73      1.00\n",
      "beta_tilde[395]      0.00      0.00      0.00      0.00      0.00    702.59      1.01\n",
      "beta_tilde[396]      0.00      0.00      0.00      0.00      0.00    984.94      1.00\n",
      "beta_tilde[397]      0.00      0.00      0.00      0.00      0.00    413.48      1.01\n",
      "beta_tilde[398]      0.00      0.00      0.00      0.00      0.00    760.73      1.00\n",
      "beta_tilde[399]      0.00      0.00      0.00      0.00      0.00    506.86      1.00\n",
      "beta_tilde[400]      0.00      0.00      0.00      0.00      0.00    433.95      1.00\n",
      "beta_tilde[401]      0.00      0.00      0.00      0.00      0.00    475.29      1.00\n",
      "beta_tilde[402]      0.00      0.00      0.00      0.00      0.00    568.72      1.00\n",
      "beta_tilde[403]      0.00      0.00      0.00      0.00      0.00    354.64      1.00\n",
      "beta_tilde[404]      0.00      0.00      0.00      0.00      0.00   1257.10      1.00\n",
      "beta_tilde[405]      0.00      0.00      0.00      0.00      0.00    458.97      1.00\n",
      "beta_tilde[406]      0.00      0.00      0.00      0.00      0.00    411.23      1.00\n",
      "beta_tilde[407]      0.00      0.00      0.00      0.00      0.00    542.09      1.00\n",
      "beta_tilde[408]      0.00      0.00      0.00      0.00      0.00    856.33      1.00\n",
      "beta_tilde[409]      0.00      0.00      0.00      0.00      0.00    865.69      1.00\n",
      "beta_tilde[410]      0.00      0.00      0.00      0.00      0.00    744.32      1.00\n",
      "beta_tilde[411]      0.00      0.00      0.00      0.00      0.00    415.57      1.00\n",
      "beta_tilde[412]      0.00      0.00      0.00      0.00      0.00    720.98      1.00\n",
      "beta_tilde[413]      0.00      0.00      0.00      0.00      0.00    678.71      1.00\n",
      "beta_tilde[414]      0.00      0.00      0.00      0.00      0.00    306.65      1.00\n",
      "beta_tilde[415]      0.00      0.00      0.00      0.00      0.00    379.59      1.00\n",
      "beta_tilde[416]      0.00      0.00      0.00      0.00      0.00    397.83      1.00\n",
      "beta_tilde[417]      0.00      0.00      0.00      0.00      0.00    696.19      1.00\n",
      "beta_tilde[418]      0.00      0.00      0.00      0.00      0.00    499.09      1.00\n",
      "beta_tilde[419]      0.00      0.00      0.00      0.00      0.00    870.99      1.00\n",
      "beta_tilde[420]      0.00      0.00      0.00      0.00      0.00    267.12      1.00\n",
      "beta_tilde[421]      0.00      0.00      0.00      0.00      0.00    762.79      1.00\n",
      "beta_tilde[422]      0.00      0.00      0.00      0.00      0.00    582.80      1.01\n",
      "beta_tilde[423]      0.00      0.00      0.00      0.00      0.00    602.24      1.01\n",
      "beta_tilde[424]      0.00      0.00      0.00      0.00      0.00    344.77      1.00\n",
      "beta_tilde[425]      0.00      0.00      0.00      0.00      0.00    795.21      1.00\n",
      "beta_tilde[426]      0.00      0.00      0.00      0.00      0.00    491.20      1.00\n",
      "beta_tilde[427]      0.00      0.00      0.00      0.00      0.00    745.02      1.00\n",
      "beta_tilde[428]      0.00      0.00      0.00      0.00      0.00    423.73      1.00\n",
      "beta_tilde[429]      0.00      0.00      0.00      0.00      0.00    765.73      1.00\n",
      "beta_tilde[430]      0.00      0.00      0.00      0.00      0.00    695.20      1.00\n",
      "beta_tilde[431]      0.00      0.00      0.00      0.00      0.00    567.99      1.00\n",
      "beta_tilde[432]      0.00      0.00      0.00      0.00      0.00    572.77      1.00\n",
      "beta_tilde[433]      0.00      0.00      0.00      0.00      0.00   1157.21      1.00\n",
      "beta_tilde[434]      0.00      0.00      0.00      0.00      0.00    719.94      1.00\n",
      "beta_tilde[435]      0.00      0.00      0.00      0.00      0.00    974.24      1.00\n",
      "beta_tilde[436]      0.00      0.00      0.00      0.00      0.00    457.28      1.00\n",
      "beta_tilde[437]      0.00      0.00      0.00      0.00      0.00    369.07      1.00\n",
      "beta_tilde[438]      0.00      0.00      0.00      0.00      0.00   1059.29      1.00\n",
      "beta_tilde[439]      0.00      0.00      0.00      0.00      0.00    579.51      1.00\n",
      "beta_tilde[440]      0.00      0.00      0.00      0.00      0.00    740.41      1.00\n",
      "beta_tilde[441]      0.00      0.00      0.00      0.00      0.00   1643.55      1.00\n",
      "beta_tilde[442]      0.00      0.00      0.00      0.00      0.00   1150.34      1.00\n",
      "beta_tilde[443]      0.00      0.00      0.00      0.00      0.00    655.47      1.00\n",
      "beta_tilde[444]      0.00      0.00      0.00      0.00      0.00    792.66      1.00\n",
      "beta_tilde[445]      0.00      0.00      0.00      0.00      0.01    502.97      1.00\n",
      "beta_tilde[446]      0.00      0.00      0.00      0.00      0.00    352.71      1.00\n",
      "beta_tilde[447]      0.00      0.00      0.00      0.00      0.00    865.72      1.00\n",
      "beta_tilde[448]      0.00      0.00      0.00      0.00      0.00    278.90      1.00\n",
      "beta_tilde[449]      0.00      0.00      0.00      0.00      0.00    835.06      1.00\n",
      "beta_tilde[450]      0.00      0.00      0.00      0.00      0.00    561.30      1.00\n",
      "beta_tilde[451]      0.00      0.00      0.00      0.00      0.00    497.40      1.01\n",
      "beta_tilde[452]      0.00      0.00      0.00      0.00      0.00    575.76      1.00\n",
      "beta_tilde[453]      0.00      0.00      0.00      0.00      0.00    288.59      1.01\n",
      "beta_tilde[454]      0.00      0.00      0.00      0.00      0.00    516.90      1.00\n",
      "beta_tilde[455]      0.00      0.00      0.00      0.00      0.00    641.58      1.00\n",
      "beta_tilde[456]      0.00      0.00      0.00      0.00      0.00    556.05      1.00\n",
      "beta_tilde[457]      0.00      0.00      0.00      0.00      0.00    412.73      1.00\n",
      "beta_tilde[458]      0.00      0.00      0.00      0.00      0.00    640.15      1.00\n",
      "beta_tilde[459]      0.00      0.00      0.00      0.00      0.00    635.39      1.00\n",
      "beta_tilde[460]      0.00      0.00      0.00      0.00      0.00    849.94      1.00\n",
      "beta_tilde[461]      0.00      0.00      0.00      0.00      0.00    402.25      1.00\n",
      "beta_tilde[462]      0.00      0.00      0.00      0.00      0.00    400.98      1.00\n",
      "beta_tilde[463]      0.00      0.00      0.00      0.00      0.00    773.82      1.00\n",
      "beta_tilde[464]      0.00      0.00      0.00      0.00      0.00    747.81      1.00\n",
      "beta_tilde[465]      0.00      0.00      0.00      0.00      0.00    540.54      1.00\n",
      "beta_tilde[466]      0.00      0.00      0.00      0.00      0.00    552.76      1.00\n",
      "beta_tilde[467]      0.00      0.00      0.00      0.00      0.00    331.63      1.00\n",
      "beta_tilde[468]      0.00      0.00      0.00      0.00      0.00   1036.91      1.00\n",
      "beta_tilde[469]      0.00      0.00      0.00      0.00      0.00    754.47      1.00\n",
      "beta_tilde[470]      0.00      0.00      0.00      0.00      0.00   1053.02      1.00\n",
      "beta_tilde[471]      0.00      0.00      0.00      0.00      0.00    624.10      1.00\n",
      "beta_tilde[472]      0.00      0.00      0.00      0.00      0.00    976.80      1.00\n",
      "beta_tilde[473]      0.00      0.00      0.00      0.00      0.00    686.32      1.00\n",
      "beta_tilde[474]      0.00      0.00      0.00      0.00      0.00    490.23      1.01\n",
      "beta_tilde[475]      0.00      0.00      0.00      0.00      0.00   1078.90      1.00\n",
      "beta_tilde[476]      0.00      0.00      0.00      0.00      0.00    375.25      1.00\n",
      "beta_tilde[477]      0.00      0.00      0.00      0.00      0.00    511.36      1.00\n",
      "beta_tilde[478]      0.00      0.00      0.00      0.00      0.00    742.31      1.00\n",
      "beta_tilde[479]      0.00      0.00      0.00      0.00      0.00    355.27      1.00\n",
      "beta_tilde[480]      0.00      0.00      0.00      0.00      0.00    480.10      1.00\n",
      "beta_tilde[481]      0.00      0.00      0.00      0.00      0.00    376.65      1.00\n",
      "beta_tilde[482]      0.00      0.00      0.00      0.00      0.00    335.70      1.00\n",
      "beta_tilde[483]      0.00      0.00      0.00      0.00      0.00    638.80      1.00\n",
      "beta_tilde[484]      0.00      0.00      0.00      0.00      0.00    368.80      1.00\n",
      "beta_tilde[485]      0.00      0.00      0.00      0.00      0.00   1151.57      1.00\n",
      "beta_tilde[486]      0.00      0.00      0.00      0.00      0.00    659.30      1.00\n",
      "beta_tilde[487]      0.00      0.00      0.00      0.00      0.00    351.52      1.01\n",
      "beta_tilde[488]      0.00      0.00      0.00      0.00      0.00    857.86      1.00\n",
      "beta_tilde[489]      0.00      0.00      0.00      0.00      0.00    498.68      1.00\n",
      "beta_tilde[490]      0.00      0.00      0.00      0.00      0.00    502.40      1.00\n",
      "beta_tilde[491]      0.00      0.00      0.00      0.00      0.00    587.77      1.00\n",
      "beta_tilde[492]      0.00      0.00      0.00      0.00      0.00    407.29      1.00\n",
      "beta_tilde[493]      0.00      0.00      0.00      0.00      0.00    673.11      1.00\n",
      "beta_tilde[494]      0.00      0.00      0.00      0.00      0.00    284.71      1.01\n",
      "beta_tilde[495]      0.00      0.00      0.00      0.00      0.00    283.44      1.01\n",
      "beta_tilde[496]      0.00      0.00      0.00      0.00      0.00   1744.26      1.00\n",
      "beta_tilde[497]      0.00      0.00      0.00      0.00      0.00    446.82      1.00\n",
      "beta_tilde[498]      0.00      0.00      0.00      0.00      0.01    312.21      1.00\n",
      "beta_tilde[499]      0.00      0.00      0.00      0.00      0.00    624.06      1.00\n",
      "beta_tilde[500]      0.00      0.00      0.00      0.00      0.00    839.35      1.00\n",
      "beta_tilde[501]      0.00      0.00      0.00      0.00      0.00    429.81      1.00\n",
      "beta_tilde[502]      0.00      0.00      0.00      0.00      0.00    500.71      1.00\n",
      "beta_tilde[503]      0.00      0.00      0.00      0.00      0.00    653.62      1.00\n",
      "beta_tilde[504]      0.00      0.00      0.00      0.00      0.00    721.34      1.00\n",
      "beta_tilde[505]      0.00      0.00      0.00      0.00      0.00    415.78      1.00\n",
      "beta_tilde[506]      0.00      0.00      0.00      0.00      0.00    749.75      1.00\n",
      "beta_tilde[507]      0.00      0.00      0.00      0.00      0.00   1238.50      1.00\n",
      "beta_tilde[508]      0.00      0.00      0.00      0.00      0.00    636.53      1.00\n",
      "beta_tilde[509]      0.00      0.00      0.00      0.00      0.00    276.95      1.00\n",
      "beta_tilde[510]      0.00      0.00      0.00      0.00      0.00    380.55      1.00\n",
      "beta_tilde[511]      0.00      0.00      0.00      0.00      0.00    357.06      1.00\n",
      "beta_tilde[512]      0.00      0.00      0.00      0.00      0.00    422.27      1.00\n",
      "beta_tilde[513]      0.00      0.00      0.00      0.00      0.00    528.80      1.00\n",
      "beta_tilde[514]      0.00      0.00      0.00      0.00      0.00    820.52      1.00\n",
      "beta_tilde[515]      0.00      0.00      0.00      0.00      0.00    929.58      1.00\n",
      "beta_tilde[516]      0.00      0.00      0.00      0.00      0.00    295.10      1.00\n",
      "beta_tilde[517]      0.00      0.00      0.00      0.00      0.00    537.73      1.01\n",
      "beta_tilde[518]      0.00      0.00      0.00      0.00      0.00    521.38      1.00\n",
      "beta_tilde[519]      0.00      0.00      0.00      0.00      0.00    562.67      1.01\n",
      "beta_tilde[520]      0.00      0.00      0.00      0.00      0.00    533.99      1.00\n",
      "beta_tilde[521]      0.00      0.00      0.00      0.00      0.00    279.32      1.00\n",
      "beta_tilde[522]      0.00      0.00      0.00      0.00      0.00    464.24      1.00\n",
      "beta_tilde[523]      0.00      0.00      0.00      0.00      0.00    457.47      1.00\n",
      "beta_tilde[524]      0.00      0.00      0.00      0.00      0.00    698.41      1.00\n",
      "beta_tilde[525]      0.00      0.00      0.00      0.00      0.00    557.50      1.00\n",
      "beta_tilde[526]      0.00      0.00      0.00      0.00      0.00    568.26      1.00\n",
      "beta_tilde[527]      0.00      0.00      0.00      0.00      0.00    707.43      1.00\n",
      "beta_tilde[528]      0.00      0.00      0.00      0.00      0.00    557.61      1.00\n",
      "beta_tilde[529]      0.00      0.00      0.00      0.00      0.00    413.64      1.00\n",
      "beta_tilde[530]      0.00      0.00      0.00      0.00      0.00    566.27      1.00\n",
      "beta_tilde[531]      0.00      0.00      0.00      0.00      0.00    286.00      1.00\n",
      "beta_tilde[532]      0.00      0.00      0.00      0.00      0.00    539.01      1.00\n",
      "beta_tilde[533]      0.00      0.00      0.00      0.00      0.00    554.63      1.00\n",
      "beta_tilde[534]      0.00      0.00      0.00      0.00      0.00    694.68      1.00\n",
      "beta_tilde[535]      0.00      0.00      0.00      0.00      0.00    782.71      1.00\n",
      "beta_tilde[536]      0.00      0.00      0.00      0.00      0.00    564.96      1.00\n",
      "beta_tilde[537]      0.00      0.00      0.00      0.00      0.00    416.75      1.00\n",
      "beta_tilde[538]      0.00      0.00      0.00      0.00      0.00    771.18      1.00\n",
      "beta_tilde[539]      0.00      0.00      0.00      0.00      0.00    721.45      1.00\n",
      "beta_tilde[540]      0.00      0.00      0.00      0.00      0.00    399.12      1.00\n",
      "beta_tilde[541]      0.00      0.00      0.00      0.00      0.00    411.73      1.00\n",
      "beta_tilde[542]      0.00      0.00      0.00      0.00      0.00    394.41      1.00\n",
      "beta_tilde[543]      0.00      0.00      0.00      0.00      0.00    326.38      1.00\n",
      "beta_tilde[544]      0.00      0.00      0.00      0.00      0.00    555.22      1.00\n",
      "beta_tilde[545]      0.00      0.00      0.00      0.00      0.00    608.75      1.00\n",
      "beta_tilde[546]      0.00      0.00      0.00      0.00      0.00   1159.40      1.00\n",
      "beta_tilde[547]      0.00      0.00      0.00      0.00      0.00    647.88      1.00\n",
      "beta_tilde[548]      0.00      0.00      0.00      0.00      0.00    371.57      1.00\n",
      "beta_tilde[549]      0.00      0.00      0.00      0.00      0.00    682.69      1.00\n",
      "beta_tilde[550]      0.00      0.00      0.00      0.00      0.00    735.65      1.00\n",
      "beta_tilde[551]      0.09      0.01      0.09      0.07      0.11    149.22      1.00\n",
      "beta_tilde[552]      0.00      0.00      0.00      0.00      0.00    613.71      1.00\n",
      "beta_tilde[553]      0.00      0.00      0.00      0.00      0.00    307.24      1.00\n",
      "beta_tilde[554]      0.00      0.00      0.00      0.00      0.00    642.69      1.00\n",
      "beta_tilde[555]      0.00      0.00      0.00      0.00      0.00    967.71      1.00\n",
      "beta_tilde[556]      0.00      0.00      0.00      0.00      0.00    421.22      1.01\n",
      "beta_tilde[557]      0.00      0.00      0.00      0.00      0.00    349.07      1.00\n",
      "beta_tilde[558]      0.00      0.00      0.00      0.00      0.00    582.68      1.00\n",
      "beta_tilde[559]      0.00      0.00      0.00      0.00      0.00    275.74      1.01\n",
      "beta_tilde[560]      0.00      0.00      0.00      0.00      0.00    842.92      1.00\n",
      "beta_tilde[561]      0.00      0.00      0.00      0.00      0.00    377.63      1.00\n",
      "beta_tilde[562]      0.00      0.00      0.00      0.00      0.00    437.56      1.01\n",
      "beta_tilde[563]      0.00      0.00      0.00      0.00      0.00    739.94      1.00\n",
      "beta_tilde[564]      0.00      0.00      0.00      0.00      0.00    322.12      1.01\n",
      "beta_tilde[565]      0.00      0.00      0.00      0.00      0.00    548.52      1.00\n",
      "beta_tilde[566]      0.00      0.00      0.00      0.00      0.00    969.93      1.00\n",
      "beta_tilde[567]      0.00      0.00      0.00      0.00      0.00    850.30      1.01\n",
      "beta_tilde[568]      0.00      0.00      0.00      0.00      0.00    444.08      1.00\n",
      "beta_tilde[569]      0.00      0.00      0.00      0.00      0.00    346.98      1.00\n",
      "beta_tilde[570]      0.00      0.00      0.00      0.00      0.00    965.99      1.00\n",
      "beta_tilde[571]      0.00      0.00      0.00      0.00      0.00    894.95      1.00\n",
      "beta_tilde[572]      0.00      0.00      0.00      0.00      0.00    458.11      1.00\n",
      "beta_tilde[573]      0.00      0.00      0.00      0.00      0.00   1031.55      1.00\n",
      "beta_tilde[574]      0.00      0.00      0.00      0.00      0.00    642.75      1.00\n",
      "beta_tilde[575]      0.00      0.00      0.00      0.00      0.00    457.36      1.00\n",
      "beta_tilde[576]      0.00      0.00      0.00      0.00      0.00    964.44      1.01\n",
      "beta_tilde[577]      0.00      0.00      0.00      0.00      0.00    656.38      1.00\n",
      "beta_tilde[578]      0.00      0.00      0.00      0.00      0.00    701.60      1.00\n",
      "beta_tilde[579]      0.00      0.00      0.00      0.00      0.00    451.31      1.00\n",
      "beta_tilde[580]      0.00      0.00      0.00      0.00      0.00    426.03      1.01\n",
      "beta_tilde[581]      0.00      0.00      0.00      0.00      0.00    663.28      1.00\n",
      "beta_tilde[582]      0.00      0.00      0.00      0.00      0.00    764.74      1.00\n",
      "beta_tilde[583]      0.00      0.00      0.00      0.00      0.00    801.28      1.00\n",
      "beta_tilde[584]      0.00      0.00      0.00      0.00      0.00    392.67      1.00\n",
      "beta_tilde[585]      0.00      0.00      0.00      0.00      0.00    788.93      1.00\n",
      "beta_tilde[586]      0.00      0.00      0.00      0.00      0.00    864.52      1.00\n",
      "beta_tilde[587]      0.00      0.00      0.00      0.00      0.00    946.56      1.00\n",
      "beta_tilde[588]      0.00      0.00      0.00      0.00      0.00    717.99      1.00\n",
      "beta_tilde[589]      0.00      0.00      0.00      0.00      0.00    384.21      1.00\n",
      "beta_tilde[590]      0.00      0.00      0.00      0.00      0.00    485.91      1.00\n",
      "beta_tilde[591]      0.00      0.00      0.00      0.00      0.00    835.50      1.00\n",
      "beta_tilde[592]      0.00      0.00      0.00      0.00      0.00    690.72      1.00\n",
      "beta_tilde[593]      0.00      0.00      0.00      0.00      0.00    793.11      1.00\n",
      "beta_tilde[594]      0.00      0.00      0.00      0.00      0.00    573.31      1.00\n",
      "beta_tilde[595]      0.00      0.00      0.00      0.00      0.00    394.00      1.00\n",
      "beta_tilde[596]      0.00      0.00      0.00      0.00      0.00    303.27      1.00\n",
      "beta_tilde[597]      0.00      0.00      0.00      0.00      0.00    386.55      1.00\n",
      "beta_tilde[598]      0.00      0.00      0.00      0.00      0.00    424.53      1.00\n",
      "beta_tilde[599]      0.00      0.00      0.00      0.00      0.00    731.74      1.00\n",
      "beta_tilde[600]      0.00      0.00      0.00      0.00      0.00    572.25      1.00\n",
      "beta_tilde[601]      0.00      0.00      0.00      0.00      0.00    789.62      1.00\n",
      "beta_tilde[602]      0.00      0.00      0.00      0.00      0.01    380.34      1.00\n",
      "beta_tilde[603]      0.00      0.00      0.00      0.00      0.01    559.83      1.00\n",
      "beta_tilde[604]      0.01      0.01      0.01      0.00      0.02    165.68      1.00\n",
      "beta_tilde[605]      0.00      0.00      0.00      0.00      0.00    741.82      1.00\n",
      "beta_tilde[606]      0.00      0.00      0.00      0.00      0.00    703.90      1.00\n",
      "beta_tilde[607]      0.00      0.00      0.00      0.00      0.00    639.42      1.00\n",
      "beta_tilde[608]      0.00      0.00      0.00      0.00      0.00    660.94      1.01\n",
      "beta_tilde[609]      0.00      0.00      0.00      0.00      0.00    617.88      1.00\n",
      "beta_tilde[610]      0.00      0.00      0.00      0.00      0.00    436.46      1.00\n",
      "beta_tilde[611]      0.00      0.00      0.00      0.00      0.00   1569.93      1.00\n",
      "beta_tilde[612]      0.00      0.00      0.00      0.00      0.00    941.70      1.00\n",
      "beta_tilde[613]      0.00      0.00      0.00      0.00      0.00   1040.17      1.00\n",
      "beta_tilde[614]      0.00      0.00      0.00      0.00      0.00    839.89      1.00\n",
      "beta_tilde[615]      0.00      0.00      0.00      0.00      0.00    897.15      1.00\n",
      "beta_tilde[616]      0.00      0.00      0.00      0.00      0.00    411.94      1.00\n",
      "beta_tilde[617]      0.00      0.00      0.00      0.00      0.00    740.47      1.00\n",
      "beta_tilde[618]      0.00      0.00      0.00      0.00      0.00    478.87      1.01\n",
      "beta_tilde[619]      0.00      0.00      0.00      0.00      0.00    709.33      1.00\n",
      "beta_tilde[620]      0.00      0.00      0.00      0.00      0.00    321.41      1.00\n",
      "beta_tilde[621]      0.00      0.00      0.00      0.00      0.00    805.77      1.00\n",
      "beta_tilde[622]      0.00      0.00      0.00      0.00      0.00    728.64      1.00\n",
      "beta_tilde[623]      0.00      0.00      0.00      0.00      0.00    808.36      1.00\n",
      "beta_tilde[624]      0.00      0.00      0.00      0.00      0.00    928.01      1.00\n",
      "beta_tilde[625]      0.00      0.00      0.00      0.00      0.00    301.34      1.00\n",
      "beta_tilde[626]      0.00      0.00      0.00      0.00      0.00    468.36      1.00\n",
      "beta_tilde[627]      0.00      0.00      0.00      0.00      0.00    585.90      1.01\n",
      "beta_tilde[628]      0.00      0.00      0.00      0.00      0.00    423.84      1.00\n",
      "beta_tilde[629]      0.00      0.00      0.00      0.00      0.00    882.55      1.00\n",
      "beta_tilde[630]      0.00      0.00      0.00      0.00      0.00    507.37      1.00\n",
      "beta_tilde[631]      0.00      0.00      0.00      0.00      0.00    602.34      1.00\n",
      "beta_tilde[632]      0.00      0.00      0.00      0.00      0.00    336.26      1.00\n",
      "beta_tilde[633]      0.00      0.00      0.00      0.00      0.00    620.62      1.00\n",
      "beta_tilde[634]      0.00      0.00      0.00      0.00      0.00    581.73      1.00\n",
      "beta_tilde[635]      0.00      0.00      0.00      0.00      0.00    701.92      1.00\n",
      "\n",
      "Number of divergences: 0\n"
     ]
    }
   ],
   "source": [
    "beta_tilde_dr_single_sampler.print_summary()"
   ]
  },
  {
   "cell_type": "code",
   "execution_count": 14,
   "metadata": {},
   "outputs": [],
   "source": [
    "beta_tilde_samples = beta_tilde_dr_single_sampler.get_samples()\n",
    "beta_tilde = np.array(beta_tilde_samples['beta_tilde'])"
   ]
  },
  {
   "cell_type": "code",
   "execution_count": 15,
   "metadata": {},
   "outputs": [
    {
     "data": {
      "text/plain": [
       "<matplotlib.lines.Line2D at 0x16831b9d0>"
      ]
     },
     "execution_count": 15,
     "metadata": {},
     "output_type": "execute_result"
    },
    {
     "data": {
      "image/png": "[encoded data removed]",
      "text/plain": [
       "<Figure size 432x288 with 1 Axes>"
      ]
     },
     "metadata": {
      "needs_background": "light"
     },
     "output_type": "display_data"
    }
   ],
   "source": [
    "plt.hist(diagnostics.effective_sample_size(beta_tilde[np.newaxis,:,:]), bins=50)\n",
    "plt.axvline(100, ls='--', color='k')"
   ]
  },
  {
   "cell_type": "code",
   "execution_count": 16,
   "metadata": {},
   "outputs": [
    {
     "data": {
      "text/plain": [
       "<matplotlib.lines.Line2D at 0x16d5f3850>"
      ]
     },
     "execution_count": 16,
     "metadata": {},
     "output_type": "execute_result"
    },
    {
     "data": {
      "image/png": "[encoded data removed]",
      "text/plain": [
       "<Figure size 432x288 with 1 Axes>"
      ]
     },
     "metadata": {
      "needs_background": "light"
     },
     "output_type": "display_data"
    }
   ],
   "source": [
    "plt.hist(diagnostics.split_gelman_rubin(beta_tilde[np.newaxis,:,:]), bins=50)\n",
    "plt.axvline(1.05, ls='--', color='k')"
   ]
  },
  {
   "cell_type": "markdown",
   "metadata": {},
   "source": [
    "## Posterior predictive"
   ]
  },
  {
   "cell_type": "code",
   "execution_count": 17,
   "metadata": {},
   "outputs": [
    {
     "data": {
      "image/png": "[encoded data removed]",
      "text/plain": [
       "<Figure size 432x288 with 2 Axes>"
      ]
     },
     "metadata": {
      "needs_background": "light"
     },
     "output_type": "display_data"
    }
   ],
   "source": [
    "y_smp = svd_mcmc.get_pp_from_beta_tilde(beta_tilde_samples)\n",
    "_ = svd_mcmc.plot_posterior_predictve(y_smp)"
   ]
  },
  {
   "cell_type": "markdown",
   "metadata": {},
   "source": [
    "## Pixel wise posterior percentiles"
   ]
  },
  {
   "cell_type": "code",
   "execution_count": 18,
   "metadata": {},
   "outputs": [
    {
     "data": {
      "image/png": "[encoded data removed]",
      "text/plain": [
       "<Figure size 432x288 with 1 Axes>"
      ]
     },
     "metadata": {
      "needs_background": "light"
     },
     "output_type": "display_data"
    }
   ],
   "source": [
    "_ = svd_mcmc.plot_pixel_wise_posterior_percentiles(beta_tilde_samples, percentile=5, clim=(0,5e10))"
   ]
  },
  {
   "cell_type": "code",
   "execution_count": 19,
   "metadata": {},
   "outputs": [
    {
     "data": {
      "image/png": "[encoded data removed]",
      "text/plain": [
       "<Figure size 432x288 with 1 Axes>"
      ]
     },
     "metadata": {
      "needs_background": "light"
     },
     "output_type": "display_data"
    }
   ],
   "source": [
    "_ = svd_mcmc.plot_pixel_wise_posterior_percentiles(beta_tilde_samples, percentile=50, clim=(0,5e10))"
   ]
  },
  {
   "cell_type": "code",
   "execution_count": 20,
   "metadata": {},
   "outputs": [
    {
     "data": {
      "image/png": "[encoded data removed]",
      "text/plain": [
       "<Figure size 432x288 with 1 Axes>"
      ]
     },
     "metadata": {
      "needs_background": "light"
     },
     "output_type": "display_data"
    }
   ],
   "source": [
    "_ = svd_mcmc.plot_pixel_wise_posterior_percentiles(beta_tilde_samples, percentile=95, clim=(0,5e10))"
   ]
  },
  {
   "cell_type": "code",
   "execution_count": null,
   "metadata": {},
   "outputs": [],
   "source": []
  }
 ],
 "metadata": {
  "kernelspec": {
   "display_name": "Python 3 (ipykernel)",
   "language": "python",
   "name": "python3"
  },
  "language_info": {
   "codemirror_mode": {
    "name": "ipython",
    "version": 3
   },
   "file_extension": ".py",
   "mimetype": "text/x-python",
   "name": "python",
   "nbconvert_exporter": "python",
   "pygments_lexer": "ipython3",
   "version": "3.9.6"
  }
 },
 "nbformat": 4,
 "nbformat_minor": 1
}
