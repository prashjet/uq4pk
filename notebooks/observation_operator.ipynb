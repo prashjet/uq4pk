{
 "cells": [
  {
   "cell_type": "markdown",
   "metadata": {},
   "source": [
    "# The Observation Operator for Stellar Population-Kinematic modelling\n",
    "\n",
    "## Example Usage"
   ]
  },
  {
   "cell_type": "code",
   "execution_count": null,
   "metadata": {},
   "outputs": [],
   "source": [
    "# get the operator\n",
    "from uq4pk_src.observation_operator import ObservationOperator\n",
    "G = ObservationOperator(max_order_hermite=4)\n",
    "\n",
    "# get a distribution funtion\n",
    "from uq4pk_src.distribution_function import RandomGMM_DistributionFunction\n",
    "df = RandomGMM_DistributionFunction(modgrid=G.ssps)\n",
    "\n",
    "# define LOSVD parameters\n",
    "V, sigma, h0, h1, h2, h3, h4 = 1., 0., 0., -0.05, 0.1\n",
    "Theta_v = [V, sigma, h0, h1, h2, h3, h4]\n",
    "\n",
    "# evaluate the operator\n",
    "ybar = G.evaluate(df.F, Theta_v)"
   ]
  },
  {
   "cell_type": "markdown",
   "metadata": {},
   "source": [
    "## Requirements\n",
    "\n",
    "Before running this code you will need to install\n",
    "\n",
    "- [astropy](https://docs.astropy.org/en/stable/install.html)\n",
    "\n",
    "as well as a number of standard Python packages,\n",
    "\n",
    "- numpy\n",
    "- scipy\n",
    "- matplotlib\n",
    "- os \n",
    "\n",
    "## Installation\n",
    "\n",
    "To import and run this code, you will need to put it somewhere accessible to your Python installation. If this is unfamiliar you you, I recommend the following simple solution. Set an environment variable ``PYTHONPATH`` to any convenient location, e.g. \n",
    "\n",
    "``setenv PYTHONPATH = '/Users/your_name/Library/MyPythonLibrary'``\n",
    "\n",
    "then create this directory, and copy the entire directory ``uq4pk_src`` (i.e. the source code) to that location. The following import statement should then be successful,"
   ]
  },
  {
   "cell_type": "code",
   "execution_count": 2,
   "metadata": {},
   "outputs": [],
   "source": [
    "import uq4pk_src"
   ]
  },
  {
   "cell_type": "markdown",
   "metadata": {},
   "source": [
    "## Evaluating the Observation Operator\n",
    "\n",
    "The first step is to initialise the observation operator object,"
   ]
  },
  {
   "cell_type": "code",
   "execution_count": 3,
   "metadata": {},
   "outputs": [
    {
     "name": "stdout",
     "output_type": "stream",
     "text": [
      "Distribution functions should have shape (12, 53)\n"
     ]
    }
   ],
   "source": [
    "from uq4pk_src.observation_operator import ObservationOperator\n",
    "G = ObservationOperator(max_order_hermite=4)"
   ]
  },
  {
   "cell_type": "markdown",
   "metadata": {},
   "source": [
    "This initialises various properties of the SSP models and the LOSVD. One value we must provide is the maximum order of Hermite polynomial that we will use in the expansion: 4 is sufficient for now. We are also told the shape of the distributiuon function that which is consistent with the grid of SPP models.\n",
    "\n",
    "To evaluate this, let's generate a (random, unrealsitic) input distributiuon function, namely a Gaussian mixture,"
   ]
  },
  {
   "cell_type": "code",
   "execution_count": 4,
   "metadata": {},
   "outputs": [
    {
     "name": "stdout",
     "output_type": "stream",
     "text": [
      "Distribution function stored at df.F\n",
      "This has shape (12, 53)\n"
     ]
    }
   ],
   "source": [
    "from uq4pk_src.distribution_function import RandomGMM_DistributionFunction\n",
    "df = RandomGMM_DistributionFunction(modgrid=G.ssps)\n",
    "print('Distribution function stored at df.F')\n",
    "print(f'This has shape {df.F.shape}')"
   ]
  },
  {
   "cell_type": "markdown",
   "metadata": {},
   "source": [
    "Let's set parameters Theta_v of the LOSVD"
   ]
  },
  {
   "cell_type": "code",
   "execution_count": 5,
   "metadata": {},
   "outputs": [],
   "source": [
    "V = 30.\n",
    "sigma = 100.\n",
    "h0, h1, h2, h3, h4 = 1., 0., 0., -0.05, 0.1\n",
    "Theta_v = [V, sigma, h0, h1, h2, h3, h4]"
   ]
  },
  {
   "cell_type": "markdown",
   "metadata": {},
   "source": [
    "And then to evaluate the operator,"
   ]
  },
  {
   "cell_type": "code",
   "execution_count": 6,
   "metadata": {},
   "outputs": [],
   "source": [
    "ybar = G.evaluate(df.F, Theta_v)"
   ]
  },
  {
   "cell_type": "markdown",
   "metadata": {},
   "source": [
    "To look at the generated result,"
   ]
  },
  {
   "cell_type": "code",
   "execution_count": 7,
   "metadata": {},
   "outputs": [
    {
     "data": {
      "image/png": "[encoded data removed]",
      "text/plain": [
       "<Figure size 432x288 with 1 Axes>"
      ]
     },
     "metadata": {
      "needs_background": "light"
     },
     "output_type": "display_data"
    }
   ],
   "source": [
    "import matplotlib.pyplot as plt\n",
    "plt.plot(G.ssps.w, ybar)\n",
    "plt.gca().set_xlabel('$\\ln \\lambda$')\n",
    "plt.gca().set_ylabel('$\\overline{y}$')\n",
    "plt.tight_layout()"
   ]
  },
  {
   "cell_type": "markdown",
   "metadata": {},
   "source": [
    "## Error: wrong definition of the GH-LOSVD\n",
    "\n",
    "I made an error in the definition of the GH-LOSVD. The normal density should be \"un-whitened\", i.e.\n",
    "\n",
    "$$\n",
    "L(v ; \\theta_v) = \\mathcal{N}(v ; V, \\sigma^2) \\left[\\sum_{m=0}^{M} h_m H_m(\\hat{v})\\right]\n",
    "$$\n",
    "\n",
    "$$\n",
    "\\hat{v} = \\frac{v - V}{\\sigma}\n",
    "$$\n",
    "\n",
    "The incorrect \"whitened\" version differs by a factor of $1/\\sigma$. All calculations in the code use the correct version.\n",
    "\n",
    "## Evaluating the Convolution\n",
    "\n",
    "Equation (1.3) of the document \"Reformulation of the model using curvelets\" is a convolutuion between the composite spectrum $S$ and the LOSVD $L$. We evaluate it using Fourier transforms. Here are some notes about how we evaluate this convolution.\n",
    "\n",
    "### Logarithmic Resampling for Convolution\n",
    "\n",
    "See equations (2-7) of [the STECKMAP paper](https://arxiv.org/pdf/astro-ph/0507002.pdf) to see the transformations applied in order to convert (1.3) into a standard convolution. One necessary transformation is $w = \\ln \\lambda$ i.e. going to the logarithm of wavelength. We therefore logarithmically re-sample the SSP model wavelengths. The resampled values are stored in\n",
    "\n",
    "``G.ssps.w``\n",
    "\n",
    "### Pre-calculation of the Fourier Transforms of the SSP models\n",
    "\n",
    "The Fourier transforms of the SSP models are pre-calculated when we create the ``ObservationOperator`` object, i.e. line 30 of ``observation_operator.py``. These are stored in the attribute ``G.ssps.F_tilde_s``. To get the Fourier transform of the composite spectrum $S$, we must evaluate the integral of FT's of the template spectra over the distribtuion funtion - i.e. the Fourier transformed version of equation (1.2) of \"Reformulation of the model using curvelets\". We approcimate this integral by the sum evaluated on line 101 of ``observation_operator.py``.\n",
    "\n",
    "### Analytic Fourier Transforms of GH-LOSVDs\n",
    "\n",
    "We use analytic expressions to evaluate FTs of the GH-LOSVDs. These can be found in Sections 2.3 and 4.4 of [the PPXF paper](https://arxiv.org/pdf/1607.08538.pdf)."
   ]
  },
  {
   "cell_type": "code",
   "execution_count": null,
   "metadata": {},
   "outputs": [],
   "source": []
  }
 ],
 "metadata": {
  "kernelspec": {
   "display_name": "Python 3",
   "language": "python",
   "name": "python3"
  },
  "language_info": {
   "codemirror_mode": {
    "name": "ipython",
    "version": 3
   },
   "file_extension": ".py",
   "mimetype": "text/x-python",
   "name": "python",
   "nbconvert_exporter": "python",
   "pygments_lexer": "ipython3",
   "version": "3.7.2"
  }
 },
 "nbformat": 4,
 "nbformat_minor": 4
}
