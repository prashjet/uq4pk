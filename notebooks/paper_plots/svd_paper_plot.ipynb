{
 "cells": [
  {
   "cell_type": "code",
   "execution_count": 1,
   "id": "d14ccb16",
   "metadata": {},
   "outputs": [],
   "source": [
    "import os\n",
    "import sys\n",
    "sys.path.insert(0, os.path.abspath('../'))\n",
    "import uq4pk_src as uq4pk\n",
    "\n",
    "import numpy as np\n",
    "import matplotlib.pyplot as plt"
   ]
  },
  {
   "cell_type": "code",
   "execution_count": 2,
   "id": "06435a81",
   "metadata": {},
   "outputs": [],
   "source": [
    "ssps = uq4pk.model_grids.MilesSSP(lmd_min=5000, lmd_max=5500)"
   ]
  },
  {
   "cell_type": "code",
   "execution_count": 3,
   "id": "1379c840",
   "metadata": {},
   "outputs": [],
   "source": [
    "light_weighted_ssps = ssps.X/np.sum(ssps.X,0)"
   ]
  },
  {
   "cell_type": "code",
   "execution_count": 4,
   "id": "b941e9b7",
   "metadata": {},
   "outputs": [],
   "source": [
    "U, S, VT = np.linalg.svd(light_weighted_ssps)"
   ]
  },
  {
   "cell_type": "code",
   "execution_count": 5,
   "id": "26ca8746",
   "metadata": {},
   "outputs": [
    {
     "data": {
      "text/plain": [
       "(556, 636)"
      ]
     },
     "execution_count": 5,
     "metadata": {},
     "output_type": "execute_result"
    }
   ],
   "source": [
    "ssps.X.shape"
   ]
  },
  {
   "cell_type": "code",
   "execution_count": 6,
   "id": "6cf21ca2",
   "metadata": {},
   "outputs": [
    {
     "data": {
      "image/png": "[encoded data removed]",
      "text/plain": [
       "<Figure size 288x216 with 1 Axes>"
      ]
     },
     "metadata": {
      "needs_background": "light"
     },
     "output_type": "display_data"
    }
   ],
   "source": [
    "fig, ax = plt.subplots(1,1, figsize=(4,3))\n",
    "ax.semilogy(S)\n",
    "\n",
    "ax.axvline(15, ls=':', color='k')\n",
    "\n",
    "ax.set_xlabel('q')\n",
    "ax.set_ylabel('Singular value')\n",
    "ax.set_title('SVD of MILES templates')\n",
    "\n",
    "fig.tight_layout()\n",
    "\n",
    "fig.savefig('paper_plots/SVD_MILES.png', dpi=300)"
   ]
  },
  {
   "cell_type": "code",
   "execution_count": 7,
   "id": "647c8793",
   "metadata": {},
   "outputs": [
    {
     "data": {
      "text/plain": [
       "8.477266019645354"
      ]
     },
     "execution_count": 7,
     "metadata": {},
     "output_type": "execute_result"
    }
   ],
   "source": [
    "np.log10(np.linalg.cond(light_weighted_ssps))"
   ]
  },
  {
   "cell_type": "code",
   "execution_count": 8,
   "id": "45ba973e",
   "metadata": {},
   "outputs": [
    {
     "data": {
      "text/plain": [
       "9.548751839708252"
      ]
     },
     "execution_count": 8,
     "metadata": {},
     "output_type": "execute_result"
    }
   ],
   "source": [
    "np.log10(np.linalg.cond(ssps.X))"
   ]
  },
  {
   "cell_type": "code",
   "execution_count": 13,
   "id": "1b2d3eab",
   "metadata": {},
   "outputs": [
    {
     "data": {
      "text/plain": [
       "1.0714858200628985"
      ]
     },
     "execution_count": 13,
     "metadata": {},
     "output_type": "execute_result"
    }
   ],
   "source": [
    "9.548751839708252 - 8.477266019645354"
   ]
  },
  {
   "cell_type": "code",
   "execution_count": 11,
   "id": "adc0622f",
   "metadata": {},
   "outputs": [],
   "source": [
    "Um, Sm, VTm = np.linalg.svd(ssps.X)"
   ]
  },
  {
   "cell_type": "code",
   "execution_count": 12,
   "id": "8c4b2d97",
   "metadata": {},
   "outputs": [
    {
     "data": {
      "text/plain": [
       "[<matplotlib.lines.Line2D at 0x16d5abd30>]"
      ]
     },
     "execution_count": 12,
     "metadata": {},
     "output_type": "execute_result"
    },
    {
     "data": {
      "image/png": "[encoded data removed]",
      "text/plain": [
       "<Figure size 432x288 with 1 Axes>"
      ]
     },
     "metadata": {
      "needs_background": "light"
     },
     "output_type": "display_data"
    }
   ],
   "source": [
    "plt.semilogy(S)\n",
    "plt.semilogy(Sm)"
   ]
  },
  {
   "cell_type": "code",
   "execution_count": null,
   "id": "05ce6aac",
   "metadata": {},
   "outputs": [],
   "source": []
  }
 ],
 "metadata": {
  "kernelspec": {
   "display_name": "Python 3 (ipykernel)",
   "language": "python",
   "name": "python3"
  },
  "language_info": {
   "codemirror_mode": {
    "name": "ipython",
    "version": 3
   },
   "file_extension": ".py",
   "mimetype": "text/x-python",
   "name": "python",
   "nbconvert_exporter": "python",
   "pygments_lexer": "ipython3",
   "version": "3.9.6"
  }
 },
 "nbformat": 4,
 "nbformat_minor": 5
}
