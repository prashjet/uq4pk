{
 "cells": [
  {
   "cell_type": "markdown",
   "id": "0369f6c0",
   "metadata": {},
   "source": [
    "# Plotting (age, metallicity) distribution functions\n",
    "\n",
    "Shows how to plot the (age, metallicity) distribution functions:\n",
    "\n",
    "\n"
   ]
  },
  {
   "cell_type": "code",
   "execution_count": 1,
   "id": "55baa938",
   "metadata": {},
   "outputs": [
    {
     "name": "stdout",
     "output_type": "stream",
     "text": [
      "Distribution functions should have shape (12, 53)\n"
     ]
    }
   ],
   "source": [
    "import numpy as np\n",
    "import matplotlib.pyplot as plt\n",
    "\n",
    "import os\n",
    "import sys\n",
    "sys.path.insert(0, os.path.abspath('../'))\n",
    "import uq4pk_src\n",
    "\n",
    "from uq4pk_src.observation_operator import ObservationOperator\n",
    "G = ObservationOperator(max_order_hermite=4)\n",
    "\n",
    "# get a distribution funtion\n",
    "from uq4pk_src.distribution_function import RandomGMM_DistributionFunction\n",
    "df = RandomGMM_DistributionFunction(modgrid=G.ssps)"
   ]
  },
  {
   "cell_type": "code",
   "execution_count": 2,
   "id": "de6b1645",
   "metadata": {},
   "outputs": [
    {
     "data": {
      "text/plain": [
       "[Text(0, 0.08974358974358979, '-2'),\n",
       " Text(0, 0.3638888888888889, '-1'),\n",
       " Text(0, 0.7062499999999999, '0')]"
      ]
     },
     "execution_count": 2,
     "metadata": {},
     "output_type": "execute_result"
    },
    {
     "data": {
      "image/png": "[encoded data removed]",
      "text/plain": [
       "<Figure size 432x180 with 2 Axes>"
      ]
     },
     "metadata": {
      "needs_background": "light"
     },
     "output_type": "display_data"
    }
   ],
   "source": [
    "fig, ax = plt.subplots(1, 1, figsize=(6, 2.5))\n",
    "\n",
    "# plot with extent [0,1] in x- and y- dimension\n",
    "# this is needed for correct axis tick labels\n",
    "img = ax.imshow(\n",
    "    df.F,\n",
    "    extent=(0,1,0,1),\n",
    "    aspect='auto',\n",
    "    cmap=plt.cm.magma_r)\n",
    "\n",
    "# set colorbar\n",
    "cbar = plt.colorbar(img)\n",
    "cbar.set_ticks([])\n",
    "cbar.set_label('density')\n",
    "\n",
    "# label axes\n",
    "ax.set_xlabel('Age [Gyr]')\n",
    "ax.set_ylabel('Metallicity [Z/H]')\n",
    "\n",
    "# set x-axis tick labels\n",
    "ax.set_xticks(G.ssps.img_t_ticks)\n",
    "ax.set_xticklabels(G.ssps.t_ticks)\n",
    "\n",
    "# set y-axis tick labels\n",
    "ax.set_yticks(G.ssps.img_z_ticks)\n",
    "ax.set_yticklabels(G.ssps.z_ticks)"
   ]
  }
 ],
 "metadata": {
  "kernelspec": {
   "display_name": "Python 3 (ipykernel)",
   "language": "python",
   "name": "python3"
  },
  "language_info": {
   "codemirror_mode": {
    "name": "ipython",
    "version": 3
   },
   "file_extension": ".py",
   "mimetype": "text/x-python",
   "name": "python",
   "nbconvert_exporter": "python",
   "pygments_lexer": "ipython3",
   "version": "3.9.6"
  }
 },
 "nbformat": 4,
 "nbformat_minor": 5
}
